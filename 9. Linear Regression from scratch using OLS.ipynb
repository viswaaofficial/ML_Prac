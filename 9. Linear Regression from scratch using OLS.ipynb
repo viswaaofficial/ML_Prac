{
 "cells": [
  {
   "cell_type": "markdown",
   "id": "7a5e8c45",
   "metadata": {},
   "source": [
    "<h1> HARD CODE LR USING OLS </h1>\n",
    "\n",
    "x - feature <br/>\n",
    "y - response variable<br/>\n",
    "yi'= f(Xi) = B0+B1(Xi)<br/>\n",
    "yi = f(Xi) + Ei<br/>\n",
    "Ei = yi - f(Xi)<br/>\n",
    "Ei = yi - (B0 + B1(Xi))<br/>\n",
    "<br/>\n",
    "B1 = summation i = 1 to n ((Xi - X bar ) (Yi - y bar))/(xi - x bar)^2<br/>\n",
    "B0 = y bar - B1(X bar)<br/>\n",
    "<br/>\n",
    "Sxy - sum of cross deviations of x and y<br/>\n",
    "Sxx - sum of squared deviations of x<br/>\n",
    "<br/>\n",
    "Predicted value<br/>\n",
    "yi'= f(Xi) = B0+B1(Xi)<br/>\n",
    "<br/>\n",
    "Plots<br/>\n",
    "x and  y for scatter plot<br/>\n",
    "x and y' for line plot<br/>\n",
    "<br/>\n",
    "Performance Metrix<br/>\n",
    "1. MAE<br/>\n",
    "2. MSE<br/>\n",
    "3. RMSE"
   ]
  },
  {
   "cell_type": "code",
   "execution_count": 2,
   "id": "64ac5d8a",
   "metadata": {},
   "outputs": [],
   "source": [
    "import pandas as pd\n",
    "import numpy as np\n",
    "import matplotlib.pyplot as plt\n",
    "import seaborn as sns"
   ]
  },
  {
   "cell_type": "code",
   "execution_count": 3,
   "id": "271c3ced",
   "metadata": {},
   "outputs": [],
   "source": [
    "x = [i for i in range(10)]"
   ]
  },
  {
   "cell_type": "code",
   "execution_count": 4,
   "id": "219210ae",
   "metadata": {},
   "outputs": [],
   "source": [
    "y = np.array([1,3,2,5,7,8,8,9,10,12])"
   ]
  },
  {
   "cell_type": "code",
   "execution_count": 26,
   "id": "eee017d3",
   "metadata": {},
   "outputs": [
    {
     "data": {
      "text/plain": [
       "array([ 1,  3,  2,  5,  7,  8,  8,  9, 10, 12])"
      ]
     },
     "execution_count": 26,
     "metadata": {},
     "output_type": "execute_result"
    }
   ],
   "source": [
    "y"
   ]
  },
  {
   "cell_type": "code",
   "execution_count": 10,
   "id": "ef2dbf84",
   "metadata": {},
   "outputs": [
    {
     "name": "stdout",
     "output_type": "stream",
     "text": [
      "4.5 6.5\n"
     ]
    }
   ],
   "source": [
    "#Finding mean values\n",
    "x = np.array(x)\n",
    "x_mean = np.mean(x)\n",
    "y_mean = np.mean(y)\n",
    "print(x_mean, y_mean)"
   ]
  },
  {
   "cell_type": "code",
   "execution_count": 11,
   "id": "334759a2",
   "metadata": {},
   "outputs": [
    {
     "data": {
      "text/plain": [
       "<matplotlib.collections.PathCollection at 0x1e9ce85e450>"
      ]
     },
     "execution_count": 11,
     "metadata": {},
     "output_type": "execute_result"
    },
    {
     "data": {
      "image/png": "[encoded data removed]",
      "text/plain": [
       "<Figure size 640x480 with 1 Axes>"
      ]
     },
     "metadata": {},
     "output_type": "display_data"
    }
   ],
   "source": [
    "plt.scatter(x,y)"
   ]
  },
  {
   "cell_type": "code",
   "execution_count": 39,
   "id": "20cb728f",
   "metadata": {},
   "outputs": [],
   "source": [
    "B1= np.sum(((x-x_mean)*(y-y_mean)))/np.sum(((x-x_mean)**2)) #sxy/sxx"
   ]
  },
  {
   "cell_type": "code",
   "execution_count": 40,
   "id": "a887cc5a",
   "metadata": {},
   "outputs": [
    {
     "data": {
      "text/plain": [
       "1.1696969696969697"
      ]
     },
     "execution_count": 40,
     "metadata": {},
     "output_type": "execute_result"
    }
   ],
   "source": [
    "B1"
   ]
  },
  {
   "cell_type": "code",
   "execution_count": 41,
   "id": "0e9e86b7",
   "metadata": {},
   "outputs": [],
   "source": [
    "B0 = np.sum(y_mean - (B1*x_mean))"
   ]
  },
  {
   "cell_type": "code",
   "execution_count": 42,
   "id": "4b0018f5",
   "metadata": {},
   "outputs": [
    {
     "data": {
      "text/plain": [
       "1.2363636363636363"
      ]
     },
     "execution_count": 42,
     "metadata": {},
     "output_type": "execute_result"
    }
   ],
   "source": [
    "B0"
   ]
  },
  {
   "cell_type": "code",
   "execution_count": 43,
   "id": "c5a0a7d3",
   "metadata": {},
   "outputs": [],
   "source": [
    "#finding equation for  y'\n",
    "y_pred = B0 + B1*x"
   ]
  },
  {
   "cell_type": "code",
   "execution_count": 44,
   "id": "d728920e",
   "metadata": {},
   "outputs": [
    {
     "data": {
      "text/plain": [
       "array([ 1.23636364,  2.40606061,  3.57575758,  4.74545455,  5.91515152,\n",
       "        7.08484848,  8.25454545,  9.42424242, 10.59393939, 11.76363636])"
      ]
     },
     "execution_count": 44,
     "metadata": {},
     "output_type": "execute_result"
    }
   ],
   "source": [
    "y_pred"
   ]
  },
  {
   "cell_type": "code",
   "execution_count": 45,
   "id": "d2e0a154",
   "metadata": {},
   "outputs": [
    {
     "name": "stdout",
     "output_type": "stream",
     "text": [
      "[-0.23636364  0.59393939 -1.57575758  0.25454545  1.08484848  0.91515152\n",
      " -0.25454545 -0.42424242 -0.59393939  0.23636364]\n"
     ]
    }
   ],
   "source": [
    "E = y-y_pred\n",
    "print(E)"
   ]
  },
  {
   "cell_type": "code",
   "execution_count": 46,
   "id": "8e15abbf",
   "metadata": {},
   "outputs": [
    {
     "data": {
      "text/plain": [
       "array([ 1.,  3.,  2.,  5.,  7.,  8.,  8.,  9., 10., 12.])"
      ]
     },
     "execution_count": 46,
     "metadata": {},
     "output_type": "execute_result"
    }
   ],
   "source": [
    "y = y_pred + E\n",
    "y"
   ]
  },
  {
   "cell_type": "code",
   "execution_count": 47,
   "id": "69ab512a",
   "metadata": {},
   "outputs": [
    {
     "data": {
      "image/png": "[encoded data removed]",
      "text/plain": [
       "<Figure size 640x480 with 1 Axes>"
      ]
     },
     "metadata": {},
     "output_type": "display_data"
    }
   ],
   "source": [
    "plt.scatter(x,y,color=\"blue\")\n",
    "plt.plot(x,y_pred,color=\"red\")\n",
    "plt.show()"
   ]
  }
 ],
 "metadata": {
  "kernelspec": {
   "display_name": "Python 3 (ipykernel)",
   "language": "python",
   "name": "python3"
  },
  "language_info": {
   "codemirror_mode": {
    "name": "ipython",
    "version": 3
   },
   "file_extension": ".py",
   "mimetype": "text/x-python",
   "name": "python",
   "nbconvert_exporter": "python",
   "pygments_lexer": "ipython3",
   "version": "3.11.3"
  }
 },
 "nbformat": 4,
 "nbformat_minor": 5
}
