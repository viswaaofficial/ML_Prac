{
 "cells": [
  {
   "cell_type": "markdown",
   "metadata": {},
   "source": [
    "<center> <h1> <u>DATA PRE PROCESS</u> </h1> </center>"
   ]
  },
  {
   "cell_type": "markdown",
   "metadata": {
    "id": "7kZzbBaUCj87"
   },
   "source": [
    "Methods to Handle Missing Values:\n",
    "  1. Imputation\n",
    "  2. Dropping"
   ]
  },
  {
   "cell_type": "markdown",
   "metadata": {
    "id": "PUKDTH2kr6S_"
   },
   "source": [
    "Importing the Libraries"
   ]
  },
  {
   "cell_type": "code",
   "execution_count": null,
   "metadata": {
    "id": "SqpPdk3mCAx-"
   },
   "outputs": [],
   "source": [
    "import pandas as pd\n",
    "import matplotlib.pyplot as plt\n",
    "import seaborn as sns"
   ]
  },
  {
   "cell_type": "code",
   "execution_count": null,
   "metadata": {
    "id": "Sca1xPRRsA-1"
   },
   "outputs": [],
   "source": [
    "# Loading the dataset to a Pandas DataFrame\n",
    "data = pd.read_csv('/content/Placement_Dataset.csv')"
   ]
  },
  {
   "cell_type": "code",
   "execution_count": null,
   "metadata": {
    "colab": {
     "base_uri": "https://localhost:8080/",
     "height": 243
    },
    "id": "Fj6_ljWvsPrm",
    "outputId": "1d844af1-0e47-4f6a-b38f-b2c0b9ec062f"
   },
   "outputs": [
    {
     "data": {
      "text/html": [
       "\n",
       "  <div id=\"df-58db981e-c5c8-4818-85ac-10e1409aeebe\" class=\"colab-df-container\">\n",
       "    <div>\n",
       "<style scoped>\n",
       "    .dataframe tbody tr th:only-of-type {\n",
       "        vertical-align: middle;\n",
       "    }\n",
       "\n",
       "    .dataframe tbody tr th {\n",
       "        vertical-align: top;\n",
       "    }\n",
       "\n",
       "    .dataframe thead th {\n",
       "        text-align: right;\n",
       "    }\n",
       "</style>\n",
       "<table border=\"1\" class=\"dataframe\">\n",
       "  <thead>\n",
       "    <tr style=\"text-align: right;\">\n",
       "      <th></th>\n",
       "      <th>sl_no</th>\n",
       "      <th>gender</th>\n",
       "      <th>ssc_p</th>\n",
       "      <th>ssc_b</th>\n",
       "      <th>hsc_p</th>\n",
       "      <th>hsc_b</th>\n",
       "      <th>hsc_s</th>\n",
       "      <th>degree_p</th>\n",
       "      <th>degree_t</th>\n",
       "      <th>workex</th>\n",
       "      <th>etest_p</th>\n",
       "      <th>specialisation</th>\n",
       "      <th>mba_p</th>\n",
       "      <th>status</th>\n",
       "      <th>salary</th>\n",
       "    </tr>\n",
       "  </thead>\n",
       "  <tbody>\n",
       "    <tr>\n",
       "      <th>0</th>\n",
       "      <td>1</td>\n",
       "      <td>M</td>\n",
       "      <td>67.00</td>\n",
       "      <td>Others</td>\n",
       "      <td>91.00</td>\n",
       "      <td>Others</td>\n",
       "      <td>Commerce</td>\n",
       "      <td>58.00</td>\n",
       "      <td>Sci&amp;Tech</td>\n",
       "      <td>No</td>\n",
       "      <td>55.0</td>\n",
       "      <td>Mkt&amp;HR</td>\n",
       "      <td>58.80</td>\n",
       "      <td>Placed</td>\n",
       "      <td>270000.0</td>\n",
       "    </tr>\n",
       "    <tr>\n",
       "      <th>1</th>\n",
       "      <td>2</td>\n",
       "      <td>M</td>\n",
       "      <td>79.33</td>\n",
       "      <td>Central</td>\n",
       "      <td>78.33</td>\n",
       "      <td>Others</td>\n",
       "      <td>Science</td>\n",
       "      <td>77.48</td>\n",
       "      <td>Sci&amp;Tech</td>\n",
       "      <td>Yes</td>\n",
       "      <td>86.5</td>\n",
       "      <td>Mkt&amp;Fin</td>\n",
       "      <td>66.28</td>\n",
       "      <td>Placed</td>\n",
       "      <td>200000.0</td>\n",
       "    </tr>\n",
       "    <tr>\n",
       "      <th>2</th>\n",
       "      <td>3</td>\n",
       "      <td>M</td>\n",
       "      <td>65.00</td>\n",
       "      <td>Central</td>\n",
       "      <td>68.00</td>\n",
       "      <td>Central</td>\n",
       "      <td>Arts</td>\n",
       "      <td>64.00</td>\n",
       "      <td>Comm&amp;Mgmt</td>\n",
       "      <td>No</td>\n",
       "      <td>75.0</td>\n",
       "      <td>Mkt&amp;Fin</td>\n",
       "      <td>57.80</td>\n",
       "      <td>Placed</td>\n",
       "      <td>250000.0</td>\n",
       "    </tr>\n",
       "    <tr>\n",
       "      <th>3</th>\n",
       "      <td>4</td>\n",
       "      <td>M</td>\n",
       "      <td>56.00</td>\n",
       "      <td>Central</td>\n",
       "      <td>52.00</td>\n",
       "      <td>Central</td>\n",
       "      <td>Science</td>\n",
       "      <td>52.00</td>\n",
       "      <td>Sci&amp;Tech</td>\n",
       "      <td>No</td>\n",
       "      <td>66.0</td>\n",
       "      <td>Mkt&amp;HR</td>\n",
       "      <td>59.43</td>\n",
       "      <td>Not Placed</td>\n",
       "      <td>NaN</td>\n",
       "    </tr>\n",
       "    <tr>\n",
       "      <th>4</th>\n",
       "      <td>5</td>\n",
       "      <td>M</td>\n",
       "      <td>85.80</td>\n",
       "      <td>Central</td>\n",
       "      <td>73.60</td>\n",
       "      <td>Central</td>\n",
       "      <td>Commerce</td>\n",
       "      <td>73.30</td>\n",
       "      <td>Comm&amp;Mgmt</td>\n",
       "      <td>No</td>\n",
       "      <td>96.8</td>\n",
       "      <td>Mkt&amp;Fin</td>\n",
       "      <td>55.50</td>\n",
       "      <td>Placed</td>\n",
       "      <td>425000.0</td>\n",
       "    </tr>\n",
       "  </tbody>\n",
       "</table>\n",
       "</div>\n",
       "    <div class=\"colab-df-buttons\">\n",
       "\n",
       "  <div class=\"colab-df-container\">\n",
       "    <button class=\"colab-df-convert\" onclick=\"convertToInteractive('df-58db981e-c5c8-4818-85ac-10e1409aeebe')\"\n",
       "            title=\"Convert this dataframe to an interactive table.\"\n",
       "            style=\"display:none;\">\n",
       "\n",
       "  <svg xmlns=\"http://www.w3.org/2000/svg\" height=\"24px\" viewBox=\"0 -960 960 960\">\n",
       "    <path d=\"M120-120v-720h720v720H120Zm60-500h600v-160H180v160Zm220 220h160v-160H400v160Zm0 220h160v-160H400v160ZM180-400h160v-160H180v160Zm440 0h160v-160H620v160ZM180-180h160v-160H180v160Zm440 0h160v-160H620v160Z\"/>\n",
       "  </svg>\n",
       "    </button>\n",
       "\n",
       "  <style>\n",
       "    .colab-df-container {\n",
       "      display:flex;\n",
       "      gap: 12px;\n",
       "    }\n",
       "\n",
       "    .colab-df-convert {\n",
       "      background-color: #E8F0FE;\n",
       "      border: none;\n",
       "      border-radius: 50%;\n",
       "      cursor: pointer;\n",
       "      display: none;\n",
       "      fill: #1967D2;\n",
       "      height: 32px;\n",
       "      padding: 0 0 0 0;\n",
       "      width: 32px;\n",
       "    }\n",
       "\n",
       "    .colab-df-convert:hover {\n",
       "      background-color: #E2EBFA;\n",
       "      box-shadow: 0px 1px 2px rgba(60, 64, 67, 0.3), 0px 1px 3px 1px rgba(60, 64, 67, 0.15);\n",
       "      fill: #174EA6;\n",
       "    }\n",
       "\n",
       "    .colab-df-buttons div {\n",
       "      margin-bottom: 4px;\n",
       "    }\n",
       "\n",
       "    [theme=dark] .colab-df-convert {\n",
       "      background-color: #3B4455;\n",
       "      fill: #D2E3FC;\n",
       "    }\n",
       "\n",
       "    [theme=dark] .colab-df-convert:hover {\n",
       "      background-color: #434B5C;\n",
       "      box-shadow: 0px 1px 3px 1px rgba(0, 0, 0, 0.15);\n",
       "      filter: drop-shadow(0px 1px 2px rgba(0, 0, 0, 0.3));\n",
       "      fill: #FFFFFF;\n",
       "    }\n",
       "  </style>\n",
       "\n",
       "    <script>\n",
       "      const buttonEl =\n",
       "        document.querySelector('#df-58db981e-c5c8-4818-85ac-10e1409aeebe button.colab-df-convert');\n",
       "      buttonEl.style.display =\n",
       "        google.colab.kernel.accessAllowed ? 'block' : 'none';\n",
       "\n",
       "      async function convertToInteractive(key) {\n",
       "        const element = document.querySelector('#df-58db981e-c5c8-4818-85ac-10e1409aeebe');\n",
       "        const dataTable =\n",
       "          await google.colab.kernel.invokeFunction('convertToInteractive',\n",
       "                                                    [key], {});\n",
       "        if (!dataTable) return;\n",
       "\n",
       "        const docLinkHtml = 'Like what you see? Visit the ' +\n",
       "          '<a target=\"_blank\" href=https://colab.research.google.com/notebooks/data_table.ipynb>data table notebook</a>'\n",
       "          + ' to learn more about interactive tables.';\n",
       "        element.innerHTML = '';\n",
       "        dataTable['output_type'] = 'display_data';\n",
       "        await google.colab.output.renderOutput(dataTable, element);\n",
       "        const docLink = document.createElement('div');\n",
       "        docLink.innerHTML = docLinkHtml;\n",
       "        element.appendChild(docLink);\n",
       "      }\n",
       "    </script>\n",
       "  </div>\n",
       "\n",
       "\n",
       "<div id=\"df-cc17a522-7ed7-4d32-8507-4f018b0b42fd\">\n",
       "  <button class=\"colab-df-quickchart\" onclick=\"quickchart('df-cc17a522-7ed7-4d32-8507-4f018b0b42fd')\"\n",
       "            title=\"Suggest charts.\"\n",
       "            style=\"display:none;\">\n",
       "\n",
       "<svg xmlns=\"http://www.w3.org/2000/svg\" height=\"24px\"viewBox=\"0 0 24 24\"\n",
       "     width=\"24px\">\n",
       "    <g>\n",
       "        <path d=\"M19 3H5c-1.1 0-2 .9-2 2v14c0 1.1.9 2 2 2h14c1.1 0 2-.9 2-2V5c0-1.1-.9-2-2-2zM9 17H7v-7h2v7zm4 0h-2V7h2v10zm4 0h-2v-4h2v4z\"/>\n",
       "    </g>\n",
       "</svg>\n",
       "  </button>\n",
       "\n",
       "<style>\n",
       "  .colab-df-quickchart {\n",
       "    background-color: #E8F0FE;\n",
       "    border: none;\n",
       "    border-radius: 50%;\n",
       "    cursor: pointer;\n",
       "    display: none;\n",
       "    fill: #1967D2;\n",
       "    height: 32px;\n",
       "    padding: 0 0 0 0;\n",
       "    width: 32px;\n",
       "  }\n",
       "\n",
       "  .colab-df-quickchart:hover {\n",
       "    background-color: #E2EBFA;\n",
       "    box-shadow: 0px 1px 2px rgba(60, 64, 67, 0.3), 0px 1px 3px 1px rgba(60, 64, 67, 0.15);\n",
       "    fill: #174EA6;\n",
       "  }\n",
       "\n",
       "  [theme=dark] .colab-df-quickchart {\n",
       "    background-color: #3B4455;\n",
       "    fill: #D2E3FC;\n",
       "  }\n",
       "\n",
       "  [theme=dark] .colab-df-quickchart:hover {\n",
       "    background-color: #434B5C;\n",
       "    box-shadow: 0px 1px 3px 1px rgba(0, 0, 0, 0.15);\n",
       "    filter: drop-shadow(0px 1px 2px rgba(0, 0, 0, 0.3));\n",
       "    fill: #FFFFFF;\n",
       "  }\n",
       "</style>\n",
       "\n",
       "  <script>\n",
       "    async function quickchart(key) {\n",
       "      const charts = await google.colab.kernel.invokeFunction(\n",
       "          'suggestCharts', [key], {});\n",
       "    }\n",
       "    (() => {\n",
       "      let quickchartButtonEl =\n",
       "        document.querySelector('#df-cc17a522-7ed7-4d32-8507-4f018b0b42fd button');\n",
       "      quickchartButtonEl.style.display =\n",
       "        google.colab.kernel.accessAllowed ? 'block' : 'none';\n",
       "    })();\n",
       "  </script>\n",
       "</div>\n",
       "    </div>\n",
       "  </div>\n"
      ],
      "text/plain": [
       "   sl_no gender  ssc_p    ssc_b  hsc_p    hsc_b     hsc_s  degree_p  \\\n",
       "0      1      M  67.00   Others  91.00   Others  Commerce     58.00   \n",
       "1      2      M  79.33  Central  78.33   Others   Science     77.48   \n",
       "2      3      M  65.00  Central  68.00  Central      Arts     64.00   \n",
       "3      4      M  56.00  Central  52.00  Central   Science     52.00   \n",
       "4      5      M  85.80  Central  73.60  Central  Commerce     73.30   \n",
       "\n",
       "    degree_t workex  etest_p specialisation  mba_p      status    salary  \n",
       "0   Sci&Tech     No     55.0         Mkt&HR  58.80      Placed  270000.0  \n",
       "1   Sci&Tech    Yes     86.5        Mkt&Fin  66.28      Placed  200000.0  \n",
       "2  Comm&Mgmt     No     75.0        Mkt&Fin  57.80      Placed  250000.0  \n",
       "3   Sci&Tech     No     66.0         Mkt&HR  59.43  Not Placed       NaN  \n",
       "4  Comm&Mgmt     No     96.8        Mkt&Fin  55.50      Placed  425000.0  "
      ]
     },
     "execution_count": 3,
     "metadata": {},
     "output_type": "execute_result"
    }
   ],
   "source": [
    "data.head()"
   ]
  },
  {
   "cell_type": "code",
   "execution_count": null,
   "metadata": {
    "colab": {
     "base_uri": "https://localhost:8080/"
    },
    "id": "Pu5yA0xCsR7h",
    "outputId": "5661beb4-2b25-417f-bd13-8fb48a7fabdb"
   },
   "outputs": [
    {
     "data": {
      "text/plain": [
       "(215, 15)"
      ]
     },
     "execution_count": 5,
     "metadata": {},
     "output_type": "execute_result"
    }
   ],
   "source": [
    "data.shape"
   ]
  },
  {
   "cell_type": "code",
   "execution_count": null,
   "metadata": {
    "colab": {
     "base_uri": "https://localhost:8080/"
    },
    "id": "I3Gri-GQshzI",
    "outputId": "4697a7fc-e98c-42bc-c9da-d3fdc957f38e"
   },
   "outputs": [
    {
     "data": {
      "text/plain": [
       "sl_no              0\n",
       "gender             0\n",
       "ssc_p              0\n",
       "ssc_b              0\n",
       "hsc_p              0\n",
       "hsc_b              0\n",
       "hsc_s              0\n",
       "degree_p           0\n",
       "degree_t           0\n",
       "workex             0\n",
       "etest_p            0\n",
       "specialisation     0\n",
       "mba_p              0\n",
       "status             0\n",
       "salary            67\n",
       "dtype: int64"
      ]
     },
     "execution_count": 20,
     "metadata": {},
     "output_type": "execute_result"
    }
   ],
   "source": [
    "a=data.isnull().sum()\n",
    "a"
   ]
  },
  {
   "cell_type": "code",
   "execution_count": null,
   "metadata": {
    "colab": {
     "base_uri": "https://localhost:8080/"
    },
    "id": "24XlbRV4sk6t",
    "outputId": "d7ba08ce-88e3-466b-f597-18bc46df6bc0"
   },
   "outputs": [
    {
     "data": {
      "text/plain": [
       "salary    67\n",
       "dtype: int64"
      ]
     },
     "execution_count": 32,
     "metadata": {},
     "output_type": "execute_result"
    }
   ],
   "source": [
    "#Number of columns having null values\n",
    "nullcolumns=data.isnull().sum()\n",
    "a=nullcolumns[nullcolumns==67]\n",
    "a"
   ]
  },
  {
   "cell_type": "markdown",
   "metadata": {
    "id": "Eo8uqY_7wMqS"
   },
   "source": [
    "**CENTRAL TENDENCIES:**<br/>\n",
    "  1.Mean<br/>\n",
    "  2.Median<br/>\n",
    "  3.Mode<br/>"
   ]
  },
  {
   "cell_type": "code",
   "execution_count": null,
   "metadata": {
    "colab": {
     "base_uri": "https://localhost:8080/",
     "height": 447
    },
    "id": "mRWrRYKUvZJ9",
    "outputId": "9f513b16-7c16-4b70-f99d-06261d6aa72e"
   },
   "outputs": [
    {
     "data": {
      "text/plain": [
       "[]"
      ]
     },
     "execution_count": 35,
     "metadata": {},
     "output_type": "execute_result"
    },
    {
     "data": {
      "image/png": "[encoded data removed]",
      "text/plain": [
       "<Figure size 640x480 with 1 Axes>"
      ]
     },
     "metadata": {},
     "output_type": "display_data"
    }
   ],
   "source": [
    "# Analyse the distribution of data in the salary column as it is the one which has null values\n",
    "plt.hist(x=data.salary)\n",
    "plt.plot()"
   ]
  },
  {
   "cell_type": "markdown",
   "metadata": {
    "id": "LaM-wvSOxv3o"
   },
   "source": [
    "Here we can see the distribution has many outliers like 9 lakhs , 7 lakhs so using mean is not advisory here <br/>\n",
    "This type of distribution is called as skew distribution"
   ]
  },
  {
   "cell_type": "markdown",
   "metadata": {
    "id": "KqZNdrveyGJj"
   },
   "source": [
    "We are going to replace the missing value with Median Value"
   ]
  },
  {
   "cell_type": "code",
   "execution_count": null,
   "metadata": {
    "id": "gEXdrAybxLM8"
   },
   "outputs": [],
   "source": [
    "data['salary'].fillna(data['salary'].median(),inplace=True)"
   ]
  },
  {
   "cell_type": "code",
   "execution_count": null,
   "metadata": {
    "colab": {
     "base_uri": "https://localhost:8080/"
    },
    "id": "lPaLTjzCyTBh",
    "outputId": "e6f84e51-de22-4eb4-f0ac-9c80d5d85787"
   },
   "outputs": [
    {
     "data": {
      "text/plain": [
       "sl_no             0\n",
       "gender            0\n",
       "ssc_p             0\n",
       "ssc_b             0\n",
       "hsc_p             0\n",
       "hsc_b             0\n",
       "hsc_s             0\n",
       "degree_p          0\n",
       "degree_t          0\n",
       "workex            0\n",
       "etest_p           0\n",
       "specialisation    0\n",
       "mba_p             0\n",
       "status            0\n",
       "salary            0\n",
       "dtype: int64"
      ]
     },
     "execution_count": 38,
     "metadata": {},
     "output_type": "execute_result"
    }
   ],
   "source": [
    "data.isnull().sum()"
   ]
  },
  {
   "cell_type": "markdown",
   "metadata": {
    "id": "HcAejIG8yZmt"
   },
   "source": [
    "Now there is no null values in our dataset"
   ]
  },
  {
   "cell_type": "code",
   "execution_count": null,
   "metadata": {
    "id": "bClf-7RoyUkK"
   },
   "outputs": [],
   "source": [
    "#Filling missing values with Mean Values:\n",
    "# data['salary'].fillna(data['salary'].mean(),inplace=True)"
   ]
  },
  {
   "cell_type": "code",
   "execution_count": null,
   "metadata": {
    "id": "zVMmV2w8yk9s"
   },
   "outputs": [],
   "source": [
    "#Filling missing values with Mean Values:\n",
    "# data['salary'].fillna(data['salary'].mode(),inplace=True)"
   ]
  },
  {
   "cell_type": "markdown",
   "metadata": {
    "id": "LasEsmttyu7m"
   },
   "source": [
    "It is not advisory to drop null values in case of small dataset"
   ]
  },
  {
   "cell_type": "markdown",
   "metadata": {
    "id": "7C5FYkT8yz5u"
   },
   "source": [
    "**Dropping** **Method**"
   ]
  },
  {
   "cell_type": "code",
   "execution_count": null,
   "metadata": {
    "id": "pcVW0Qh2yqDQ"
   },
   "outputs": [],
   "source": [
    "s_data = pd.read_csv('/content/Placement_Dataset.csv')"
   ]
  },
  {
   "cell_type": "code",
   "execution_count": null,
   "metadata": {
    "colab": {
     "base_uri": "https://localhost:8080/"
    },
    "id": "TSYCpUccy6kb",
    "outputId": "bda88eb4-2908-46e4-9363-144b35faeefb"
   },
   "outputs": [
    {
     "data": {
      "text/plain": [
       "sl_no              0\n",
       "gender             0\n",
       "ssc_p              0\n",
       "ssc_b              0\n",
       "hsc_p              0\n",
       "hsc_b              0\n",
       "hsc_s              0\n",
       "degree_p           0\n",
       "degree_t           0\n",
       "workex             0\n",
       "etest_p            0\n",
       "specialisation     0\n",
       "mba_p              0\n",
       "status             0\n",
       "salary            67\n",
       "dtype: int64"
      ]
     },
     "execution_count": 42,
     "metadata": {},
     "output_type": "execute_result"
    }
   ],
   "source": [
    "s_data.isnull().sum()"
   ]
  },
  {
   "cell_type": "code",
   "execution_count": null,
   "metadata": {
    "id": "5Lth0-sOy_sw"
   },
   "outputs": [],
   "source": [
    "s_data.dropna(inplace=True)"
   ]
  },
  {
   "cell_type": "code",
   "execution_count": null,
   "metadata": {
    "colab": {
     "base_uri": "https://localhost:8080/"
    },
    "id": "35IYI_pMzBzI",
    "outputId": "441ff555-b82b-4b00-82ea-7ba67e604bfd"
   },
   "outputs": [
    {
     "data": {
      "text/plain": [
       "sl_no             0\n",
       "gender            0\n",
       "ssc_p             0\n",
       "ssc_b             0\n",
       "hsc_p             0\n",
       "hsc_b             0\n",
       "hsc_s             0\n",
       "degree_p          0\n",
       "degree_t          0\n",
       "workex            0\n",
       "etest_p           0\n",
       "specialisation    0\n",
       "mba_p             0\n",
       "status            0\n",
       "salary            0\n",
       "dtype: int64"
      ]
     },
     "execution_count": 46,
     "metadata": {},
     "output_type": "execute_result"
    }
   ],
   "source": [
    "s_data.isnull().sum()"
   ]
  },
  {
   "cell_type": "code",
   "execution_count": null,
   "metadata": {
    "colab": {
     "base_uri": "https://localhost:8080/"
    },
    "id": "-ELyjYAJzHc-",
    "outputId": "974222e7-99ee-42c4-c73f-cc5052f444d8"
   },
   "outputs": [
    {
     "data": {
      "text/plain": [
       "(148, 15)"
      ]
     },
     "execution_count": 48,
     "metadata": {},
     "output_type": "execute_result"
    }
   ],
   "source": [
    "s_data.shape"
   ]
  },
  {
   "cell_type": "markdown",
   "metadata": {
    "id": "GCds5Ziq4n_P"
   },
   "source": [
    "**DATA STANDARDIZATION** <br/>\n",
    "The process of standardizing the data to a common format and common range."
   ]
  },
  {
   "cell_type": "code",
   "execution_count": null,
   "metadata": {
    "id": "Z3um798-zN4-"
   },
   "outputs": [],
   "source": [
    " import numpy as np\n",
    " import pandas as pd\n",
    " import matplotlib.pyplot as plt\n",
    " import sklearn.datasets\n",
    " from sklearn.preprocessing import StandardScaler\n",
    " from sklearn.model_selection import train_test_split"
   ]
  },
  {
   "cell_type": "code",
   "execution_count": null,
   "metadata": {
    "id": "7mTUE4iIA_CK"
   },
   "outputs": [],
   "source": [
    "#Loading the dataset using sklearn\n",
    "dataset=sklearn.datasets.load_breast_cancer()"
   ]
  },
  {
   "cell_type": "code",
   "execution_count": null,
   "metadata": {
    "colab": {
     "base_uri": "https://localhost:8080/"
    },
    "id": "tBHZx9w_EEIM",
    "outputId": "c0340578-feb6-40b2-ef1f-743ec1260f53"
   },
   "outputs": [
    {
     "name": "stdout",
     "output_type": "stream",
     "text": [
      "{'data': array([[1.799e+01, 1.038e+01, 1.228e+02, ..., 2.654e-01, 4.601e-01,\n",
      "        1.189e-01],\n",
      "       [2.057e+01, 1.777e+01, 1.329e+02, ..., 1.860e-01, 2.750e-01,\n",
      "        8.902e-02],\n",
      "       [1.969e+01, 2.125e+01, 1.300e+02, ..., 2.430e-01, 3.613e-01,\n",
      "        8.758e-02],\n",
      "       ...,\n",
      "       [1.660e+01, 2.808e+01, 1.083e+02, ..., 1.418e-01, 2.218e-01,\n",
      "        7.820e-02],\n",
      "       [2.060e+01, 2.933e+01, 1.401e+02, ..., 2.650e-01, 4.087e-01,\n",
      "        1.240e-01],\n",
      "       [7.760e+00, 2.454e+01, 4.792e+01, ..., 0.000e+00, 2.871e-01,\n",
      "        7.039e-02]]), 'target': array([0, 0, 0, 0, 0, 0, 0, 0, 0, 0, 0, 0, 0, 0, 0, 0, 0, 0, 0, 1, 1, 1,\n",
      "       0, 0, 0, 0, 0, 0, 0, 0, 0, 0, 0, 0, 0, 0, 0, 1, 0, 0, 0, 0, 0, 0,\n",
      "       0, 0, 1, 0, 1, 1, 1, 1, 1, 0, 0, 1, 0, 0, 1, 1, 1, 1, 0, 1, 0, 0,\n",
      "       1, 1, 1, 1, 0, 1, 0, 0, 1, 0, 1, 0, 0, 1, 1, 1, 0, 0, 1, 0, 0, 0,\n",
      "       1, 1, 1, 0, 1, 1, 0, 0, 1, 1, 1, 0, 0, 1, 1, 1, 1, 0, 1, 1, 0, 1,\n",
      "       1, 1, 1, 1, 1, 1, 1, 0, 0, 0, 1, 0, 0, 1, 1, 1, 0, 0, 1, 0, 1, 0,\n",
      "       0, 1, 0, 0, 1, 1, 0, 1, 1, 0, 1, 1, 1, 1, 0, 1, 1, 1, 1, 1, 1, 1,\n",
      "       1, 1, 0, 1, 1, 1, 1, 0, 0, 1, 0, 1, 1, 0, 0, 1, 1, 0, 0, 1, 1, 1,\n",
      "       1, 0, 1, 1, 0, 0, 0, 1, 0, 1, 0, 1, 1, 1, 0, 1, 1, 0, 0, 1, 0, 0,\n",
      "       0, 0, 1, 0, 0, 0, 1, 0, 1, 0, 1, 1, 0, 1, 0, 0, 0, 0, 1, 1, 0, 0,\n",
      "       1, 1, 1, 0, 1, 1, 1, 1, 1, 0, 0, 1, 1, 0, 1, 1, 0, 0, 1, 0, 1, 1,\n",
      "       1, 1, 0, 1, 1, 1, 1, 1, 0, 1, 0, 0, 0, 0, 0, 0, 0, 0, 0, 0, 0, 0,\n",
      "       0, 0, 1, 1, 1, 1, 1, 1, 0, 1, 0, 1, 1, 0, 1, 1, 0, 1, 0, 0, 1, 1,\n",
      "       1, 1, 1, 1, 1, 1, 1, 1, 1, 1, 1, 0, 1, 1, 0, 1, 0, 1, 1, 1, 1, 1,\n",
      "       1, 1, 1, 1, 1, 1, 1, 1, 1, 0, 1, 1, 1, 0, 1, 0, 1, 1, 1, 1, 0, 0,\n",
      "       0, 1, 1, 1, 1, 0, 1, 0, 1, 0, 1, 1, 1, 0, 1, 1, 1, 1, 1, 1, 1, 0,\n",
      "       0, 0, 1, 1, 1, 1, 1, 1, 1, 1, 1, 1, 1, 0, 0, 1, 0, 0, 0, 1, 0, 0,\n",
      "       1, 1, 1, 1, 1, 0, 1, 1, 1, 1, 1, 0, 1, 1, 1, 0, 1, 1, 0, 0, 1, 1,\n",
      "       1, 1, 1, 1, 0, 1, 1, 1, 1, 1, 1, 1, 0, 1, 1, 1, 1, 1, 0, 1, 1, 0,\n",
      "       1, 1, 1, 1, 1, 1, 1, 1, 1, 1, 1, 1, 0, 1, 0, 0, 1, 0, 1, 1, 1, 1,\n",
      "       1, 0, 1, 1, 0, 1, 0, 1, 1, 0, 1, 0, 1, 1, 1, 1, 1, 1, 1, 1, 0, 0,\n",
      "       1, 1, 1, 1, 1, 1, 0, 1, 1, 1, 1, 1, 1, 1, 1, 1, 1, 0, 1, 1, 1, 1,\n",
      "       1, 1, 1, 0, 1, 0, 1, 1, 0, 1, 1, 1, 1, 1, 0, 0, 1, 0, 1, 0, 1, 1,\n",
      "       1, 1, 1, 0, 1, 1, 0, 1, 0, 1, 0, 0, 1, 1, 1, 0, 1, 1, 1, 1, 1, 1,\n",
      "       1, 1, 1, 1, 1, 0, 1, 0, 0, 1, 1, 1, 1, 1, 1, 1, 1, 1, 1, 1, 1, 1,\n",
      "       1, 1, 1, 1, 1, 1, 1, 1, 1, 1, 1, 1, 0, 0, 0, 0, 0, 0, 1]), 'frame': None, 'target_names': array(['malignant', 'benign'], dtype='<U9'), 'DESCR': '.. _breast_cancer_dataset:\\n\\nBreast cancer wisconsin (diagnostic) dataset\\n--------------------------------------------\\n\\n**Data Set Characteristics:**\\n\\n    :Number of Instances: 569\\n\\n    :Number of Attributes: 30 numeric, predictive attributes and the class\\n\\n    :Attribute Information:\\n        - radius (mean of distances from center to points on the perimeter)\\n        - texture (standard deviation of gray-scale values)\\n        - perimeter\\n        - area\\n        - smoothness (local variation in radius lengths)\\n        - compactness (perimeter^2 / area - 1.0)\\n        - concavity (severity of concave portions of the contour)\\n        - concave points (number of concave portions of the contour)\\n        - symmetry\\n        - fractal dimension (\"coastline approximation\" - 1)\\n\\n        The mean, standard error, and \"worst\" or largest (mean of the three\\n        worst/largest values) of these features were computed for each image,\\n        resulting in 30 features.  For instance, field 0 is Mean Radius, field\\n        10 is Radius SE, field 20 is Worst Radius.\\n\\n        - class:\\n                - WDBC-Malignant\\n                - WDBC-Benign\\n\\n    :Summary Statistics:\\n\\n    ===================================== ====== ======\\n                                           Min    Max\\n    ===================================== ====== ======\\n    radius (mean):                        6.981  28.11\\n    texture (mean):                       9.71   39.28\\n    perimeter (mean):                     43.79  188.5\\n    area (mean):                          143.5  2501.0\\n    smoothness (mean):                    0.053  0.163\\n    compactness (mean):                   0.019  0.345\\n    concavity (mean):                     0.0    0.427\\n    concave points (mean):                0.0    0.201\\n    symmetry (mean):                      0.106  0.304\\n    fractal dimension (mean):             0.05   0.097\\n    radius (standard error):              0.112  2.873\\n    texture (standard error):             0.36   4.885\\n    perimeter (standard error):           0.757  21.98\\n    area (standard error):                6.802  542.2\\n    smoothness (standard error):          0.002  0.031\\n    compactness (standard error):         0.002  0.135\\n    concavity (standard error):           0.0    0.396\\n    concave points (standard error):      0.0    0.053\\n    symmetry (standard error):            0.008  0.079\\n    fractal dimension (standard error):   0.001  0.03\\n    radius (worst):                       7.93   36.04\\n    texture (worst):                      12.02  49.54\\n    perimeter (worst):                    50.41  251.2\\n    area (worst):                         185.2  4254.0\\n    smoothness (worst):                   0.071  0.223\\n    compactness (worst):                  0.027  1.058\\n    concavity (worst):                    0.0    1.252\\n    concave points (worst):               0.0    0.291\\n    symmetry (worst):                     0.156  0.664\\n    fractal dimension (worst):            0.055  0.208\\n    ===================================== ====== ======\\n\\n    :Missing Attribute Values: None\\n\\n    :Class Distribution: 212 - Malignant, 357 - Benign\\n\\n    :Creator:  Dr. William H. Wolberg, W. Nick Street, Olvi L. Mangasarian\\n\\n    :Donor: Nick Street\\n\\n    :Date: November, 1995\\n\\nThis is a copy of UCI ML Breast Cancer Wisconsin (Diagnostic) datasets.\\nhttps://goo.gl/U2Uwz2\\n\\nFeatures are computed from a digitized image of a fine needle\\naspirate (FNA) of a breast mass.  They describe\\ncharacteristics of the cell nuclei present in the image.\\n\\nSeparating plane described above was obtained using\\nMultisurface Method-Tree (MSM-T) [K. P. Bennett, \"Decision Tree\\nConstruction Via Linear Programming.\" Proceedings of the 4th\\nMidwest Artificial Intelligence and Cognitive Science Society,\\npp. 97-101, 1992], a classification method which uses linear\\nprogramming to construct a decision tree.  Relevant features\\nwere selected using an exhaustive search in the space of 1-4\\nfeatures and 1-3 separating planes.\\n\\nThe actual linear program used to obtain the separating plane\\nin the 3-dimensional space is that described in:\\n[K. P. Bennett and O. L. Mangasarian: \"Robust Linear\\nProgramming Discrimination of Two Linearly Inseparable Sets\",\\nOptimization Methods and Software 1, 1992, 23-34].\\n\\nThis database is also available through the UW CS ftp server:\\n\\nftp ftp.cs.wisc.edu\\ncd math-prog/cpo-dataset/machine-learn/WDBC/\\n\\n.. topic:: References\\n\\n   - W.N. Street, W.H. Wolberg and O.L. Mangasarian. Nuclear feature extraction \\n     for breast tumor diagnosis. IS&T/SPIE 1993 International Symposium on \\n     Electronic Imaging: Science and Technology, volume 1905, pages 861-870,\\n     San Jose, CA, 1993.\\n   - O.L. Mangasarian, W.N. Street and W.H. Wolberg. Breast cancer diagnosis and \\n     prognosis via linear programming. Operations Research, 43(4), pages 570-577, \\n     July-August 1995.\\n   - W.H. Wolberg, W.N. Street, and O.L. Mangasarian. Machine learning techniques\\n     to diagnose breast cancer from fine-needle aspirates. Cancer Letters 77 (1994) \\n     163-171.', 'feature_names': array(['mean radius', 'mean texture', 'mean perimeter', 'mean area',\n",
      "       'mean smoothness', 'mean compactness', 'mean concavity',\n",
      "       'mean concave points', 'mean symmetry', 'mean fractal dimension',\n",
      "       'radius error', 'texture error', 'perimeter error', 'area error',\n",
      "       'smoothness error', 'compactness error', 'concavity error',\n",
      "       'concave points error', 'symmetry error',\n",
      "       'fractal dimension error', 'worst radius', 'worst texture',\n",
      "       'worst perimeter', 'worst area', 'worst smoothness',\n",
      "       'worst compactness', 'worst concavity', 'worst concave points',\n",
      "       'worst symmetry', 'worst fractal dimension'], dtype='<U23'), 'filename': 'breast_cancer.csv', 'data_module': 'sklearn.datasets.data'}\n"
     ]
    }
   ],
   "source": [
    "print(dataset)"
   ]
  },
  {
   "cell_type": "markdown",
   "metadata": {
    "id": "1V9JmBqGEXl2"
   },
   "source": [
    "Target : 0 represents benign stage and 1 represents malign stage <br/>\n",
    "Features : represents the columns names"
   ]
  },
  {
   "cell_type": "markdown",
   "metadata": {
    "id": "_FYsBv-9Fc5x"
   },
   "source": [
    "Now we have to import these data to a Pandas Data Frame"
   ]
  },
  {
   "cell_type": "code",
   "execution_count": null,
   "metadata": {
    "id": "AbncLEwPEFxX"
   },
   "outputs": [],
   "source": [
    "# Loading the data to a pandas dataframe\n",
    "df =pd.DataFrame(dataset.data,columns=dataset.feature_names)\n",
    "# We dont include target data as of now"
   ]
  },
  {
   "cell_type": "code",
   "execution_count": null,
   "metadata": {
    "colab": {
     "base_uri": "https://localhost:8080/",
     "height": 290
    },
    "id": "ARUdy-ooFu0e",
    "outputId": "c67e5bac-4dcd-4137-f25f-281ab4010e73"
   },
   "outputs": [
    {
     "data": {
      "text/html": [
       "\n",
       "  <div id=\"df-a3928aaf-259a-4fcd-971f-b2dee7a1c687\" class=\"colab-df-container\">\n",
       "    <div>\n",
       "<style scoped>\n",
       "    .dataframe tbody tr th:only-of-type {\n",
       "        vertical-align: middle;\n",
       "    }\n",
       "\n",
       "    .dataframe tbody tr th {\n",
       "        vertical-align: top;\n",
       "    }\n",
       "\n",
       "    .dataframe thead th {\n",
       "        text-align: right;\n",
       "    }\n",
       "</style>\n",
       "<table border=\"1\" class=\"dataframe\">\n",
       "  <thead>\n",
       "    <tr style=\"text-align: right;\">\n",
       "      <th></th>\n",
       "      <th>mean radius</th>\n",
       "      <th>mean texture</th>\n",
       "      <th>mean perimeter</th>\n",
       "      <th>mean area</th>\n",
       "      <th>mean smoothness</th>\n",
       "      <th>mean compactness</th>\n",
       "      <th>mean concavity</th>\n",
       "      <th>mean concave points</th>\n",
       "      <th>mean symmetry</th>\n",
       "      <th>mean fractal dimension</th>\n",
       "      <th>...</th>\n",
       "      <th>worst radius</th>\n",
       "      <th>worst texture</th>\n",
       "      <th>worst perimeter</th>\n",
       "      <th>worst area</th>\n",
       "      <th>worst smoothness</th>\n",
       "      <th>worst compactness</th>\n",
       "      <th>worst concavity</th>\n",
       "      <th>worst concave points</th>\n",
       "      <th>worst symmetry</th>\n",
       "      <th>worst fractal dimension</th>\n",
       "    </tr>\n",
       "  </thead>\n",
       "  <tbody>\n",
       "    <tr>\n",
       "      <th>0</th>\n",
       "      <td>17.99</td>\n",
       "      <td>10.38</td>\n",
       "      <td>122.80</td>\n",
       "      <td>1001.0</td>\n",
       "      <td>0.11840</td>\n",
       "      <td>0.27760</td>\n",
       "      <td>0.3001</td>\n",
       "      <td>0.14710</td>\n",
       "      <td>0.2419</td>\n",
       "      <td>0.07871</td>\n",
       "      <td>...</td>\n",
       "      <td>25.38</td>\n",
       "      <td>17.33</td>\n",
       "      <td>184.60</td>\n",
       "      <td>2019.0</td>\n",
       "      <td>0.1622</td>\n",
       "      <td>0.6656</td>\n",
       "      <td>0.7119</td>\n",
       "      <td>0.2654</td>\n",
       "      <td>0.4601</td>\n",
       "      <td>0.11890</td>\n",
       "    </tr>\n",
       "    <tr>\n",
       "      <th>1</th>\n",
       "      <td>20.57</td>\n",
       "      <td>17.77</td>\n",
       "      <td>132.90</td>\n",
       "      <td>1326.0</td>\n",
       "      <td>0.08474</td>\n",
       "      <td>0.07864</td>\n",
       "      <td>0.0869</td>\n",
       "      <td>0.07017</td>\n",
       "      <td>0.1812</td>\n",
       "      <td>0.05667</td>\n",
       "      <td>...</td>\n",
       "      <td>24.99</td>\n",
       "      <td>23.41</td>\n",
       "      <td>158.80</td>\n",
       "      <td>1956.0</td>\n",
       "      <td>0.1238</td>\n",
       "      <td>0.1866</td>\n",
       "      <td>0.2416</td>\n",
       "      <td>0.1860</td>\n",
       "      <td>0.2750</td>\n",
       "      <td>0.08902</td>\n",
       "    </tr>\n",
       "    <tr>\n",
       "      <th>2</th>\n",
       "      <td>19.69</td>\n",
       "      <td>21.25</td>\n",
       "      <td>130.00</td>\n",
       "      <td>1203.0</td>\n",
       "      <td>0.10960</td>\n",
       "      <td>0.15990</td>\n",
       "      <td>0.1974</td>\n",
       "      <td>0.12790</td>\n",
       "      <td>0.2069</td>\n",
       "      <td>0.05999</td>\n",
       "      <td>...</td>\n",
       "      <td>23.57</td>\n",
       "      <td>25.53</td>\n",
       "      <td>152.50</td>\n",
       "      <td>1709.0</td>\n",
       "      <td>0.1444</td>\n",
       "      <td>0.4245</td>\n",
       "      <td>0.4504</td>\n",
       "      <td>0.2430</td>\n",
       "      <td>0.3613</td>\n",
       "      <td>0.08758</td>\n",
       "    </tr>\n",
       "    <tr>\n",
       "      <th>3</th>\n",
       "      <td>11.42</td>\n",
       "      <td>20.38</td>\n",
       "      <td>77.58</td>\n",
       "      <td>386.1</td>\n",
       "      <td>0.14250</td>\n",
       "      <td>0.28390</td>\n",
       "      <td>0.2414</td>\n",
       "      <td>0.10520</td>\n",
       "      <td>0.2597</td>\n",
       "      <td>0.09744</td>\n",
       "      <td>...</td>\n",
       "      <td>14.91</td>\n",
       "      <td>26.50</td>\n",
       "      <td>98.87</td>\n",
       "      <td>567.7</td>\n",
       "      <td>0.2098</td>\n",
       "      <td>0.8663</td>\n",
       "      <td>0.6869</td>\n",
       "      <td>0.2575</td>\n",
       "      <td>0.6638</td>\n",
       "      <td>0.17300</td>\n",
       "    </tr>\n",
       "    <tr>\n",
       "      <th>4</th>\n",
       "      <td>20.29</td>\n",
       "      <td>14.34</td>\n",
       "      <td>135.10</td>\n",
       "      <td>1297.0</td>\n",
       "      <td>0.10030</td>\n",
       "      <td>0.13280</td>\n",
       "      <td>0.1980</td>\n",
       "      <td>0.10430</td>\n",
       "      <td>0.1809</td>\n",
       "      <td>0.05883</td>\n",
       "      <td>...</td>\n",
       "      <td>22.54</td>\n",
       "      <td>16.67</td>\n",
       "      <td>152.20</td>\n",
       "      <td>1575.0</td>\n",
       "      <td>0.1374</td>\n",
       "      <td>0.2050</td>\n",
       "      <td>0.4000</td>\n",
       "      <td>0.1625</td>\n",
       "      <td>0.2364</td>\n",
       "      <td>0.07678</td>\n",
       "    </tr>\n",
       "  </tbody>\n",
       "</table>\n",
       "<p>5 rows × 30 columns</p>\n",
       "</div>\n",
       "    <div class=\"colab-df-buttons\">\n",
       "\n",
       "  <div class=\"colab-df-container\">\n",
       "    <button class=\"colab-df-convert\" onclick=\"convertToInteractive('df-a3928aaf-259a-4fcd-971f-b2dee7a1c687')\"\n",
       "            title=\"Convert this dataframe to an interactive table.\"\n",
       "            style=\"display:none;\">\n",
       "\n",
       "  <svg xmlns=\"http://www.w3.org/2000/svg\" height=\"24px\" viewBox=\"0 -960 960 960\">\n",
       "    <path d=\"M120-120v-720h720v720H120Zm60-500h600v-160H180v160Zm220 220h160v-160H400v160Zm0 220h160v-160H400v160ZM180-400h160v-160H180v160Zm440 0h160v-160H620v160ZM180-180h160v-160H180v160Zm440 0h160v-160H620v160Z\"/>\n",
       "  </svg>\n",
       "    </button>\n",
       "\n",
       "  <style>\n",
       "    .colab-df-container {\n",
       "      display:flex;\n",
       "      gap: 12px;\n",
       "    }\n",
       "\n",
       "    .colab-df-convert {\n",
       "      background-color: #E8F0FE;\n",
       "      border: none;\n",
       "      border-radius: 50%;\n",
       "      cursor: pointer;\n",
       "      display: none;\n",
       "      fill: #1967D2;\n",
       "      height: 32px;\n",
       "      padding: 0 0 0 0;\n",
       "      width: 32px;\n",
       "    }\n",
       "\n",
       "    .colab-df-convert:hover {\n",
       "      background-color: #E2EBFA;\n",
       "      box-shadow: 0px 1px 2px rgba(60, 64, 67, 0.3), 0px 1px 3px 1px rgba(60, 64, 67, 0.15);\n",
       "      fill: #174EA6;\n",
       "    }\n",
       "\n",
       "    .colab-df-buttons div {\n",
       "      margin-bottom: 4px;\n",
       "    }\n",
       "\n",
       "    [theme=dark] .colab-df-convert {\n",
       "      background-color: #3B4455;\n",
       "      fill: #D2E3FC;\n",
       "    }\n",
       "\n",
       "    [theme=dark] .colab-df-convert:hover {\n",
       "      background-color: #434B5C;\n",
       "      box-shadow: 0px 1px 3px 1px rgba(0, 0, 0, 0.15);\n",
       "      filter: drop-shadow(0px 1px 2px rgba(0, 0, 0, 0.3));\n",
       "      fill: #FFFFFF;\n",
       "    }\n",
       "  </style>\n",
       "\n",
       "    <script>\n",
       "      const buttonEl =\n",
       "        document.querySelector('#df-a3928aaf-259a-4fcd-971f-b2dee7a1c687 button.colab-df-convert');\n",
       "      buttonEl.style.display =\n",
       "        google.colab.kernel.accessAllowed ? 'block' : 'none';\n",
       "\n",
       "      async function convertToInteractive(key) {\n",
       "        const element = document.querySelector('#df-a3928aaf-259a-4fcd-971f-b2dee7a1c687');\n",
       "        const dataTable =\n",
       "          await google.colab.kernel.invokeFunction('convertToInteractive',\n",
       "                                                    [key], {});\n",
       "        if (!dataTable) return;\n",
       "\n",
       "        const docLinkHtml = 'Like what you see? Visit the ' +\n",
       "          '<a target=\"_blank\" href=https://colab.research.google.com/notebooks/data_table.ipynb>data table notebook</a>'\n",
       "          + ' to learn more about interactive tables.';\n",
       "        element.innerHTML = '';\n",
       "        dataTable['output_type'] = 'display_data';\n",
       "        await google.colab.output.renderOutput(dataTable, element);\n",
       "        const docLink = document.createElement('div');\n",
       "        docLink.innerHTML = docLinkHtml;\n",
       "        element.appendChild(docLink);\n",
       "      }\n",
       "    </script>\n",
       "  </div>\n",
       "\n",
       "\n",
       "<div id=\"df-584f4e44-12d0-4773-987d-26e697bb4681\">\n",
       "  <button class=\"colab-df-quickchart\" onclick=\"quickchart('df-584f4e44-12d0-4773-987d-26e697bb4681')\"\n",
       "            title=\"Suggest charts.\"\n",
       "            style=\"display:none;\">\n",
       "\n",
       "<svg xmlns=\"http://www.w3.org/2000/svg\" height=\"24px\"viewBox=\"0 0 24 24\"\n",
       "     width=\"24px\">\n",
       "    <g>\n",
       "        <path d=\"M19 3H5c-1.1 0-2 .9-2 2v14c0 1.1.9 2 2 2h14c1.1 0 2-.9 2-2V5c0-1.1-.9-2-2-2zM9 17H7v-7h2v7zm4 0h-2V7h2v10zm4 0h-2v-4h2v4z\"/>\n",
       "    </g>\n",
       "</svg>\n",
       "  </button>\n",
       "\n",
       "<style>\n",
       "  .colab-df-quickchart {\n",
       "    background-color: #E8F0FE;\n",
       "    border: none;\n",
       "    border-radius: 50%;\n",
       "    cursor: pointer;\n",
       "    display: none;\n",
       "    fill: #1967D2;\n",
       "    height: 32px;\n",
       "    padding: 0 0 0 0;\n",
       "    width: 32px;\n",
       "  }\n",
       "\n",
       "  .colab-df-quickchart:hover {\n",
       "    background-color: #E2EBFA;\n",
       "    box-shadow: 0px 1px 2px rgba(60, 64, 67, 0.3), 0px 1px 3px 1px rgba(60, 64, 67, 0.15);\n",
       "    fill: #174EA6;\n",
       "  }\n",
       "\n",
       "  [theme=dark] .colab-df-quickchart {\n",
       "    background-color: #3B4455;\n",
       "    fill: #D2E3FC;\n",
       "  }\n",
       "\n",
       "  [theme=dark] .colab-df-quickchart:hover {\n",
       "    background-color: #434B5C;\n",
       "    box-shadow: 0px 1px 3px 1px rgba(0, 0, 0, 0.15);\n",
       "    filter: drop-shadow(0px 1px 2px rgba(0, 0, 0, 0.3));\n",
       "    fill: #FFFFFF;\n",
       "  }\n",
       "</style>\n",
       "\n",
       "  <script>\n",
       "    async function quickchart(key) {\n",
       "      const charts = await google.colab.kernel.invokeFunction(\n",
       "          'suggestCharts', [key], {});\n",
       "    }\n",
       "    (() => {\n",
       "      let quickchartButtonEl =\n",
       "        document.querySelector('#df-584f4e44-12d0-4773-987d-26e697bb4681 button');\n",
       "      quickchartButtonEl.style.display =\n",
       "        google.colab.kernel.accessAllowed ? 'block' : 'none';\n",
       "    })();\n",
       "  </script>\n",
       "</div>\n",
       "    </div>\n",
       "  </div>\n"
      ],
      "text/plain": [
       "   mean radius  mean texture  mean perimeter  mean area  mean smoothness  \\\n",
       "0        17.99         10.38          122.80     1001.0          0.11840   \n",
       "1        20.57         17.77          132.90     1326.0          0.08474   \n",
       "2        19.69         21.25          130.00     1203.0          0.10960   \n",
       "3        11.42         20.38           77.58      386.1          0.14250   \n",
       "4        20.29         14.34          135.10     1297.0          0.10030   \n",
       "\n",
       "   mean compactness  mean concavity  mean concave points  mean symmetry  \\\n",
       "0           0.27760          0.3001              0.14710         0.2419   \n",
       "1           0.07864          0.0869              0.07017         0.1812   \n",
       "2           0.15990          0.1974              0.12790         0.2069   \n",
       "3           0.28390          0.2414              0.10520         0.2597   \n",
       "4           0.13280          0.1980              0.10430         0.1809   \n",
       "\n",
       "   mean fractal dimension  ...  worst radius  worst texture  worst perimeter  \\\n",
       "0                 0.07871  ...         25.38          17.33           184.60   \n",
       "1                 0.05667  ...         24.99          23.41           158.80   \n",
       "2                 0.05999  ...         23.57          25.53           152.50   \n",
       "3                 0.09744  ...         14.91          26.50            98.87   \n",
       "4                 0.05883  ...         22.54          16.67           152.20   \n",
       "\n",
       "   worst area  worst smoothness  worst compactness  worst concavity  \\\n",
       "0      2019.0            0.1622             0.6656           0.7119   \n",
       "1      1956.0            0.1238             0.1866           0.2416   \n",
       "2      1709.0            0.1444             0.4245           0.4504   \n",
       "3       567.7            0.2098             0.8663           0.6869   \n",
       "4      1575.0            0.1374             0.2050           0.4000   \n",
       "\n",
       "   worst concave points  worst symmetry  worst fractal dimension  \n",
       "0                0.2654          0.4601                  0.11890  \n",
       "1                0.1860          0.2750                  0.08902  \n",
       "2                0.2430          0.3613                  0.08758  \n",
       "3                0.2575          0.6638                  0.17300  \n",
       "4                0.1625          0.2364                  0.07678  \n",
       "\n",
       "[5 rows x 30 columns]"
      ]
     },
     "execution_count": 55,
     "metadata": {},
     "output_type": "execute_result"
    }
   ],
   "source": [
    "df.head()"
   ]
  },
  {
   "cell_type": "code",
   "execution_count": null,
   "metadata": {
    "colab": {
     "base_uri": "https://localhost:8080/"
    },
    "id": "uOBqjBj6FwrM",
    "outputId": "c935d0c2-7f54-4230-99c8-58164c20f78c"
   },
   "outputs": [
    {
     "data": {
      "text/plain": [
       "(569, 30)"
      ]
     },
     "execution_count": 57,
     "metadata": {},
     "output_type": "execute_result"
    }
   ],
   "source": [
    "df.shape"
   ]
  },
  {
   "cell_type": "code",
   "execution_count": null,
   "metadata": {
    "id": "tlgrKiUcGCil"
   },
   "outputs": [],
   "source": [
    "x=df\n",
    "y=dataset.target"
   ]
  },
  {
   "cell_type": "code",
   "execution_count": null,
   "metadata": {
    "id": "knD4xuEsLZcw"
   },
   "outputs": [],
   "source": [
    "# X is Features and Y is target\n",
    "# By analysing all these features we have to predict the target"
   ]
  },
  {
   "cell_type": "code",
   "execution_count": null,
   "metadata": {
    "colab": {
     "base_uri": "https://localhost:8080/"
    },
    "id": "hCwurZPqLiA_",
    "outputId": "5bc112fa-043b-4653-fdd7-725faea71d3d"
   },
   "outputs": [
    {
     "name": "stdout",
     "output_type": "stream",
     "text": [
      "     mean radius  mean texture  mean perimeter  mean area  mean smoothness  \\\n",
      "0          17.99         10.38          122.80     1001.0          0.11840   \n",
      "1          20.57         17.77          132.90     1326.0          0.08474   \n",
      "2          19.69         21.25          130.00     1203.0          0.10960   \n",
      "3          11.42         20.38           77.58      386.1          0.14250   \n",
      "4          20.29         14.34          135.10     1297.0          0.10030   \n",
      "..           ...           ...             ...        ...              ...   \n",
      "564        21.56         22.39          142.00     1479.0          0.11100   \n",
      "565        20.13         28.25          131.20     1261.0          0.09780   \n",
      "566        16.60         28.08          108.30      858.1          0.08455   \n",
      "567        20.60         29.33          140.10     1265.0          0.11780   \n",
      "568         7.76         24.54           47.92      181.0          0.05263   \n",
      "\n",
      "     mean compactness  mean concavity  mean concave points  mean symmetry  \\\n",
      "0             0.27760         0.30010              0.14710         0.2419   \n",
      "1             0.07864         0.08690              0.07017         0.1812   \n",
      "2             0.15990         0.19740              0.12790         0.2069   \n",
      "3             0.28390         0.24140              0.10520         0.2597   \n",
      "4             0.13280         0.19800              0.10430         0.1809   \n",
      "..                ...             ...                  ...            ...   \n",
      "564           0.11590         0.24390              0.13890         0.1726   \n",
      "565           0.10340         0.14400              0.09791         0.1752   \n",
      "566           0.10230         0.09251              0.05302         0.1590   \n",
      "567           0.27700         0.35140              0.15200         0.2397   \n",
      "568           0.04362         0.00000              0.00000         0.1587   \n",
      "\n",
      "     mean fractal dimension  ...  worst radius  worst texture  \\\n",
      "0                   0.07871  ...        25.380          17.33   \n",
      "1                   0.05667  ...        24.990          23.41   \n",
      "2                   0.05999  ...        23.570          25.53   \n",
      "3                   0.09744  ...        14.910          26.50   \n",
      "4                   0.05883  ...        22.540          16.67   \n",
      "..                      ...  ...           ...            ...   \n",
      "564                 0.05623  ...        25.450          26.40   \n",
      "565                 0.05533  ...        23.690          38.25   \n",
      "566                 0.05648  ...        18.980          34.12   \n",
      "567                 0.07016  ...        25.740          39.42   \n",
      "568                 0.05884  ...         9.456          30.37   \n",
      "\n",
      "     worst perimeter  worst area  worst smoothness  worst compactness  \\\n",
      "0             184.60      2019.0           0.16220            0.66560   \n",
      "1             158.80      1956.0           0.12380            0.18660   \n",
      "2             152.50      1709.0           0.14440            0.42450   \n",
      "3              98.87       567.7           0.20980            0.86630   \n",
      "4             152.20      1575.0           0.13740            0.20500   \n",
      "..               ...         ...               ...                ...   \n",
      "564           166.10      2027.0           0.14100            0.21130   \n",
      "565           155.00      1731.0           0.11660            0.19220   \n",
      "566           126.70      1124.0           0.11390            0.30940   \n",
      "567           184.60      1821.0           0.16500            0.86810   \n",
      "568            59.16       268.6           0.08996            0.06444   \n",
      "\n",
      "     worst concavity  worst concave points  worst symmetry  \\\n",
      "0             0.7119                0.2654          0.4601   \n",
      "1             0.2416                0.1860          0.2750   \n",
      "2             0.4504                0.2430          0.3613   \n",
      "3             0.6869                0.2575          0.6638   \n",
      "4             0.4000                0.1625          0.2364   \n",
      "..               ...                   ...             ...   \n",
      "564           0.4107                0.2216          0.2060   \n",
      "565           0.3215                0.1628          0.2572   \n",
      "566           0.3403                0.1418          0.2218   \n",
      "567           0.9387                0.2650          0.4087   \n",
      "568           0.0000                0.0000          0.2871   \n",
      "\n",
      "     worst fractal dimension  \n",
      "0                    0.11890  \n",
      "1                    0.08902  \n",
      "2                    0.08758  \n",
      "3                    0.17300  \n",
      "4                    0.07678  \n",
      "..                       ...  \n",
      "564                  0.07115  \n",
      "565                  0.06637  \n",
      "566                  0.07820  \n",
      "567                  0.12400  \n",
      "568                  0.07039  \n",
      "\n",
      "[569 rows x 30 columns]\n"
     ]
    }
   ],
   "source": [
    "print(x)"
   ]
  },
  {
   "cell_type": "code",
   "execution_count": null,
   "metadata": {
    "colab": {
     "base_uri": "https://localhost:8080/"
    },
    "id": "0X90x-muLi26",
    "outputId": "7ad6baac-777c-4db5-b4dd-f7ab4b444da0"
   },
   "outputs": [
    {
     "name": "stdout",
     "output_type": "stream",
     "text": [
      "[0 0 0 0 0 0 0 0 0 0 0 0 0 0 0 0 0 0 0 1 1 1 0 0 0 0 0 0 0 0 0 0 0 0 0 0 0\n",
      " 1 0 0 0 0 0 0 0 0 1 0 1 1 1 1 1 0 0 1 0 0 1 1 1 1 0 1 0 0 1 1 1 1 0 1 0 0\n",
      " 1 0 1 0 0 1 1 1 0 0 1 0 0 0 1 1 1 0 1 1 0 0 1 1 1 0 0 1 1 1 1 0 1 1 0 1 1\n",
      " 1 1 1 1 1 1 0 0 0 1 0 0 1 1 1 0 0 1 0 1 0 0 1 0 0 1 1 0 1 1 0 1 1 1 1 0 1\n",
      " 1 1 1 1 1 1 1 1 0 1 1 1 1 0 0 1 0 1 1 0 0 1 1 0 0 1 1 1 1 0 1 1 0 0 0 1 0\n",
      " 1 0 1 1 1 0 1 1 0 0 1 0 0 0 0 1 0 0 0 1 0 1 0 1 1 0 1 0 0 0 0 1 1 0 0 1 1\n",
      " 1 0 1 1 1 1 1 0 0 1 1 0 1 1 0 0 1 0 1 1 1 1 0 1 1 1 1 1 0 1 0 0 0 0 0 0 0\n",
      " 0 0 0 0 0 0 0 1 1 1 1 1 1 0 1 0 1 1 0 1 1 0 1 0 0 1 1 1 1 1 1 1 1 1 1 1 1\n",
      " 1 0 1 1 0 1 0 1 1 1 1 1 1 1 1 1 1 1 1 1 1 0 1 1 1 0 1 0 1 1 1 1 0 0 0 1 1\n",
      " 1 1 0 1 0 1 0 1 1 1 0 1 1 1 1 1 1 1 0 0 0 1 1 1 1 1 1 1 1 1 1 1 0 0 1 0 0\n",
      " 0 1 0 0 1 1 1 1 1 0 1 1 1 1 1 0 1 1 1 0 1 1 0 0 1 1 1 1 1 1 0 1 1 1 1 1 1\n",
      " 1 0 1 1 1 1 1 0 1 1 0 1 1 1 1 1 1 1 1 1 1 1 1 0 1 0 0 1 0 1 1 1 1 1 0 1 1\n",
      " 0 1 0 1 1 0 1 0 1 1 1 1 1 1 1 1 0 0 1 1 1 1 1 1 0 1 1 1 1 1 1 1 1 1 1 0 1\n",
      " 1 1 1 1 1 1 0 1 0 1 1 0 1 1 1 1 1 0 0 1 0 1 0 1 1 1 1 1 0 1 1 0 1 0 1 0 0\n",
      " 1 1 1 0 1 1 1 1 1 1 1 1 1 1 1 0 1 0 0 1 1 1 1 1 1 1 1 1 1 1 1 1 1 1 1 1 1\n",
      " 1 1 1 1 1 1 1 0 0 0 0 0 0 1]\n"
     ]
    }
   ],
   "source": [
    "print(y)"
   ]
  },
  {
   "cell_type": "markdown",
   "metadata": {
    "id": "q1wuW5szLm4N"
   },
   "source": [
    "We dont need to standardize Y but have to standardize X <br/>\n",
    "Before we standardize we have split the data into training and test data"
   ]
  },
  {
   "cell_type": "markdown",
   "metadata": {
    "id": "d8lkVEAtLsd3"
   },
   "source": [
    "**Splitting the data into training data and test data**"
   ]
  },
  {
   "cell_type": "code",
   "execution_count": null,
   "metadata": {
    "id": "orAEmmCsLjbe"
   },
   "outputs": [],
   "source": [
    "X_train, X_test, Y_train, Y_test = train_test_split(x,y,test_size=0.2,random_state=3)"
   ]
  },
  {
   "cell_type": "markdown",
   "metadata": {
    "id": "wgjcs8siMZzI"
   },
   "source": [
    " Random state is just an identity to split the data in a particular way so now any person any system with this random state number will be having the same random generated data set"
   ]
  },
  {
   "cell_type": "markdown",
   "metadata": {
    "id": "tqYQd4q2MlkF"
   },
   "source": [
    "We can actually do standardization before splitting the data but it might lead to some issues in presence of any outliers"
   ]
  },
  {
   "cell_type": "code",
   "execution_count": null,
   "metadata": {
    "colab": {
     "base_uri": "https://localhost:8080/"
    },
    "id": "EjW8w85-MYaA",
    "outputId": "e1d43f19-9c25-41e5-8639-d236d52d032b"
   },
   "outputs": [
    {
     "name": "stdout",
     "output_type": "stream",
     "text": [
      "(569, 30) (455, 30) (114, 30)\n"
     ]
    }
   ],
   "source": [
    "print(x.shape,X_train.shape,X_test.shape)"
   ]
  },
  {
   "cell_type": "markdown",
   "metadata": {
    "id": "YP7ZEvNJOpm2"
   },
   "source": [
    "**Standardize the Data**"
   ]
  },
  {
   "cell_type": "code",
   "execution_count": null,
   "metadata": {
    "colab": {
     "base_uri": "https://localhost:8080/"
    },
    "id": "I-LSeIfjOhFQ",
    "outputId": "22602a15-ed0a-4cd0-ec36-cbb0475ca8fb"
   },
   "outputs": [
    {
     "name": "stdout",
     "output_type": "stream",
     "text": [
      "228.29740508276657\n"
     ]
    }
   ],
   "source": [
    "# printing the standard deviation of the dataset\n",
    "print(dataset.data.std())\n",
    "#If our data is of the same range our standard deviation should be around 1"
   ]
  },
  {
   "cell_type": "code",
   "execution_count": null,
   "metadata": {
    "id": "GjFAJcDdO1n4"
   },
   "outputs": [],
   "source": [
    "scaler=StandardScaler()"
   ]
  },
  {
   "cell_type": "markdown",
   "metadata": {
    "id": "9USmIukGPHdG"
   },
   "source": [
    "https://scikit-learn.org/stable/modules/generated/sklearn.preprocessing.StandardScaler.html - Documentation"
   ]
  },
  {
   "cell_type": "code",
   "execution_count": null,
   "metadata": {
    "colab": {
     "base_uri": "https://localhost:8080/",
     "height": 74
    },
    "id": "FYMVmdxIO-TB",
    "outputId": "a8f6394a-ed29-45fc-d779-727c9b359ac2"
   },
   "outputs": [
    {
     "data": {
      "text/html": [
       "<style>#sk-container-id-1 {color: black;background-color: white;}#sk-container-id-1 pre{padding: 0;}#sk-container-id-1 div.sk-toggleable {background-color: white;}#sk-container-id-1 label.sk-toggleable__label {cursor: pointer;display: block;width: 100%;margin-bottom: 0;padding: 0.3em;box-sizing: border-box;text-align: center;}#sk-container-id-1 label.sk-toggleable__label-arrow:before {content: \"▸\";float: left;margin-right: 0.25em;color: #696969;}#sk-container-id-1 label.sk-toggleable__label-arrow:hover:before {color: black;}#sk-container-id-1 div.sk-estimator:hover label.sk-toggleable__label-arrow:before {color: black;}#sk-container-id-1 div.sk-toggleable__content {max-height: 0;max-width: 0;overflow: hidden;text-align: left;background-color: #f0f8ff;}#sk-container-id-1 div.sk-toggleable__content pre {margin: 0.2em;color: black;border-radius: 0.25em;background-color: #f0f8ff;}#sk-container-id-1 input.sk-toggleable__control:checked~div.sk-toggleable__content {max-height: 200px;max-width: 100%;overflow: auto;}#sk-container-id-1 input.sk-toggleable__control:checked~label.sk-toggleable__label-arrow:before {content: \"▾\";}#sk-container-id-1 div.sk-estimator input.sk-toggleable__control:checked~label.sk-toggleable__label {background-color: #d4ebff;}#sk-container-id-1 div.sk-label input.sk-toggleable__control:checked~label.sk-toggleable__label {background-color: #d4ebff;}#sk-container-id-1 input.sk-hidden--visually {border: 0;clip: rect(1px 1px 1px 1px);clip: rect(1px, 1px, 1px, 1px);height: 1px;margin: -1px;overflow: hidden;padding: 0;position: absolute;width: 1px;}#sk-container-id-1 div.sk-estimator {font-family: monospace;background-color: #f0f8ff;border: 1px dotted black;border-radius: 0.25em;box-sizing: border-box;margin-bottom: 0.5em;}#sk-container-id-1 div.sk-estimator:hover {background-color: #d4ebff;}#sk-container-id-1 div.sk-parallel-item::after {content: \"\";width: 100%;border-bottom: 1px solid gray;flex-grow: 1;}#sk-container-id-1 div.sk-label:hover label.sk-toggleable__label {background-color: #d4ebff;}#sk-container-id-1 div.sk-serial::before {content: \"\";position: absolute;border-left: 1px solid gray;box-sizing: border-box;top: 0;bottom: 0;left: 50%;z-index: 0;}#sk-container-id-1 div.sk-serial {display: flex;flex-direction: column;align-items: center;background-color: white;padding-right: 0.2em;padding-left: 0.2em;position: relative;}#sk-container-id-1 div.sk-item {position: relative;z-index: 1;}#sk-container-id-1 div.sk-parallel {display: flex;align-items: stretch;justify-content: center;background-color: white;position: relative;}#sk-container-id-1 div.sk-item::before, #sk-container-id-1 div.sk-parallel-item::before {content: \"\";position: absolute;border-left: 1px solid gray;box-sizing: border-box;top: 0;bottom: 0;left: 50%;z-index: -1;}#sk-container-id-1 div.sk-parallel-item {display: flex;flex-direction: column;z-index: 1;position: relative;background-color: white;}#sk-container-id-1 div.sk-parallel-item:first-child::after {align-self: flex-end;width: 50%;}#sk-container-id-1 div.sk-parallel-item:last-child::after {align-self: flex-start;width: 50%;}#sk-container-id-1 div.sk-parallel-item:only-child::after {width: 0;}#sk-container-id-1 div.sk-dashed-wrapped {border: 1px dashed gray;margin: 0 0.4em 0.5em 0.4em;box-sizing: border-box;padding-bottom: 0.4em;background-color: white;}#sk-container-id-1 div.sk-label label {font-family: monospace;font-weight: bold;display: inline-block;line-height: 1.2em;}#sk-container-id-1 div.sk-label-container {text-align: center;}#sk-container-id-1 div.sk-container {/* jupyter's `normalize.less` sets `[hidden] { display: none; }` but bootstrap.min.css set `[hidden] { display: none !important; }` so we also need the `!important` here to be able to override the default hidden behavior on the sphinx rendered scikit-learn.org. See: https://github.com/scikit-learn/scikit-learn/issues/21755 */display: inline-block !important;position: relative;}#sk-container-id-1 div.sk-text-repr-fallback {display: none;}</style><div id=\"sk-container-id-1\" class=\"sk-top-container\"><div class=\"sk-text-repr-fallback\"><pre>StandardScaler()</pre><b>In a Jupyter environment, please rerun this cell to show the HTML representation or trust the notebook. <br />On GitHub, the HTML representation is unable to render, please try loading this page with nbviewer.org.</b></div><div class=\"sk-container\" hidden><div class=\"sk-item\"><div class=\"sk-estimator sk-toggleable\"><input class=\"sk-toggleable__control sk-hidden--visually\" id=\"sk-estimator-id-1\" type=\"checkbox\" checked><label for=\"sk-estimator-id-1\" class=\"sk-toggleable__label sk-toggleable__label-arrow\">StandardScaler</label><div class=\"sk-toggleable__content\"><pre>StandardScaler()</pre></div></div></div></div></div>"
      ],
      "text/plain": [
       "StandardScaler()"
      ]
     },
     "execution_count": 69,
     "metadata": {},
     "output_type": "execute_result"
    }
   ],
   "source": [
    "scaler.fit(X_train)"
   ]
  },
  {
   "cell_type": "code",
   "execution_count": null,
   "metadata": {
    "id": "qNL3MlwYPZcb"
   },
   "outputs": [],
   "source": [
    "X_train_standardized = scaler.transform(X_train)"
   ]
  },
  {
   "cell_type": "code",
   "execution_count": null,
   "metadata": {
    "colab": {
     "base_uri": "https://localhost:8080/"
    },
    "id": "nwaTG6ZFPi88",
    "outputId": "5caa6b97-b712-4e1f-c41e-d3b28d4efcf3"
   },
   "outputs": [
    {
     "name": "stdout",
     "output_type": "stream",
     "text": [
      "1.0\n"
     ]
    }
   ],
   "source": [
    "print(X_train_standardized.std())"
   ]
  },
  {
   "cell_type": "markdown",
   "metadata": {
    "id": "EiTXvRbcP4g9"
   },
   "source": [
    "**Note:** We are not supposed to fit X_test again because they are in less amount compared to train dataset so fit based on train dataset is best when compared to test so we will be just transforming the test data set rather than fit and transform"
   ]
  },
  {
   "cell_type": "code",
   "execution_count": null,
   "metadata": {
    "id": "qrEH5R1LPpaB"
   },
   "outputs": [],
   "source": [
    "X_test_standardized = scaler.transform(X_test)"
   ]
  },
  {
   "cell_type": "code",
   "execution_count": null,
   "metadata": {
    "colab": {
     "base_uri": "https://localhost:8080/"
    },
    "id": "ZSRvjPUjQRx-",
    "outputId": "ede1dce2-76e0-4923-d37d-602e8192be53"
   },
   "outputs": [
    {
     "name": "stdout",
     "output_type": "stream",
     "text": [
      "0.8654541077212674\n"
     ]
    }
   ],
   "source": [
    "print(X_test_standardized.std())"
   ]
  },
  {
   "cell_type": "markdown",
   "metadata": {
    "id": "cFI-ZgpkYhWS"
   },
   "source": [
    "<hr/>\n",
    "<b>Label Encoding:</b>\n",
    "  \n",
    "\n",
    "*  Converting the labels into numeric Form\n",
    "\n",
    "\n"
   ]
  },
  {
   "cell_type": "markdown",
   "metadata": {
    "id": "H2oSOkcZY7IQ"
   },
   "source": [
    "We will be working in a classification working problem like whether a person has diabetics or not so we will be converting these text values into text"
   ]
  },
  {
   "cell_type": "code",
   "execution_count": null,
   "metadata": {
    "id": "jGOqhly8Ye1Q"
   },
   "outputs": [],
   "source": [
    "#Importing the dependencies\n",
    "import pandas as pd\n",
    "from sklearn.preprocessing import LabelEncoder"
   ]
  },
  {
   "cell_type": "markdown",
   "metadata": {
    "id": "H5vV-mDfexAB"
   },
   "source": [
    "Label Encoding of Breast Cancer Dataset"
   ]
  },
  {
   "cell_type": "code",
   "execution_count": null,
   "metadata": {
    "id": "zIDFJrcnet4z"
   },
   "outputs": [],
   "source": [
    "# Loading the data from csv file to pandas DataFrame\n",
    "cancer_data=pd.read_csv(\"/content/breastcancer.csv\")"
   ]
  },
  {
   "cell_type": "code",
   "execution_count": null,
   "metadata": {
    "colab": {
     "base_uri": "https://localhost:8080/",
     "height": 273
    },
    "id": "Un_YIWc0e9iE",
    "outputId": "e965d827-6600-4af8-f12c-e31a9dc98eb1"
   },
   "outputs": [
    {
     "data": {
      "text/html": [
       "\n",
       "  <div id=\"df-45f85811-bc0e-47a1-8189-d63de6e75dd3\" class=\"colab-df-container\">\n",
       "    <div>\n",
       "<style scoped>\n",
       "    .dataframe tbody tr th:only-of-type {\n",
       "        vertical-align: middle;\n",
       "    }\n",
       "\n",
       "    .dataframe tbody tr th {\n",
       "        vertical-align: top;\n",
       "    }\n",
       "\n",
       "    .dataframe thead th {\n",
       "        text-align: right;\n",
       "    }\n",
       "</style>\n",
       "<table border=\"1\" class=\"dataframe\">\n",
       "  <thead>\n",
       "    <tr style=\"text-align: right;\">\n",
       "      <th></th>\n",
       "      <th>id</th>\n",
       "      <th>diagnosis</th>\n",
       "      <th>radius_mean</th>\n",
       "      <th>texture_mean</th>\n",
       "      <th>perimeter_mean</th>\n",
       "      <th>area_mean</th>\n",
       "      <th>smoothness_mean</th>\n",
       "      <th>compactness_mean</th>\n",
       "      <th>concavity_mean</th>\n",
       "      <th>concave points_mean</th>\n",
       "      <th>...</th>\n",
       "      <th>texture_worst</th>\n",
       "      <th>perimeter_worst</th>\n",
       "      <th>area_worst</th>\n",
       "      <th>smoothness_worst</th>\n",
       "      <th>compactness_worst</th>\n",
       "      <th>concavity_worst</th>\n",
       "      <th>concave points_worst</th>\n",
       "      <th>symmetry_worst</th>\n",
       "      <th>fractal_dimension_worst</th>\n",
       "      <th>Unnamed: 32</th>\n",
       "    </tr>\n",
       "  </thead>\n",
       "  <tbody>\n",
       "    <tr>\n",
       "      <th>0</th>\n",
       "      <td>842302</td>\n",
       "      <td>M</td>\n",
       "      <td>17.99</td>\n",
       "      <td>10.38</td>\n",
       "      <td>122.80</td>\n",
       "      <td>1001.0</td>\n",
       "      <td>0.11840</td>\n",
       "      <td>0.27760</td>\n",
       "      <td>0.3001</td>\n",
       "      <td>0.14710</td>\n",
       "      <td>...</td>\n",
       "      <td>17.33</td>\n",
       "      <td>184.60</td>\n",
       "      <td>2019.0</td>\n",
       "      <td>0.1622</td>\n",
       "      <td>0.6656</td>\n",
       "      <td>0.7119</td>\n",
       "      <td>0.2654</td>\n",
       "      <td>0.4601</td>\n",
       "      <td>0.11890</td>\n",
       "      <td>NaN</td>\n",
       "    </tr>\n",
       "    <tr>\n",
       "      <th>1</th>\n",
       "      <td>842517</td>\n",
       "      <td>M</td>\n",
       "      <td>20.57</td>\n",
       "      <td>17.77</td>\n",
       "      <td>132.90</td>\n",
       "      <td>1326.0</td>\n",
       "      <td>0.08474</td>\n",
       "      <td>0.07864</td>\n",
       "      <td>0.0869</td>\n",
       "      <td>0.07017</td>\n",
       "      <td>...</td>\n",
       "      <td>23.41</td>\n",
       "      <td>158.80</td>\n",
       "      <td>1956.0</td>\n",
       "      <td>0.1238</td>\n",
       "      <td>0.1866</td>\n",
       "      <td>0.2416</td>\n",
       "      <td>0.1860</td>\n",
       "      <td>0.2750</td>\n",
       "      <td>0.08902</td>\n",
       "      <td>NaN</td>\n",
       "    </tr>\n",
       "    <tr>\n",
       "      <th>2</th>\n",
       "      <td>84300903</td>\n",
       "      <td>M</td>\n",
       "      <td>19.69</td>\n",
       "      <td>21.25</td>\n",
       "      <td>130.00</td>\n",
       "      <td>1203.0</td>\n",
       "      <td>0.10960</td>\n",
       "      <td>0.15990</td>\n",
       "      <td>0.1974</td>\n",
       "      <td>0.12790</td>\n",
       "      <td>...</td>\n",
       "      <td>25.53</td>\n",
       "      <td>152.50</td>\n",
       "      <td>1709.0</td>\n",
       "      <td>0.1444</td>\n",
       "      <td>0.4245</td>\n",
       "      <td>0.4504</td>\n",
       "      <td>0.2430</td>\n",
       "      <td>0.3613</td>\n",
       "      <td>0.08758</td>\n",
       "      <td>NaN</td>\n",
       "    </tr>\n",
       "    <tr>\n",
       "      <th>3</th>\n",
       "      <td>84348301</td>\n",
       "      <td>M</td>\n",
       "      <td>11.42</td>\n",
       "      <td>20.38</td>\n",
       "      <td>77.58</td>\n",
       "      <td>386.1</td>\n",
       "      <td>0.14250</td>\n",
       "      <td>0.28390</td>\n",
       "      <td>0.2414</td>\n",
       "      <td>0.10520</td>\n",
       "      <td>...</td>\n",
       "      <td>26.50</td>\n",
       "      <td>98.87</td>\n",
       "      <td>567.7</td>\n",
       "      <td>0.2098</td>\n",
       "      <td>0.8663</td>\n",
       "      <td>0.6869</td>\n",
       "      <td>0.2575</td>\n",
       "      <td>0.6638</td>\n",
       "      <td>0.17300</td>\n",
       "      <td>NaN</td>\n",
       "    </tr>\n",
       "    <tr>\n",
       "      <th>4</th>\n",
       "      <td>84358402</td>\n",
       "      <td>M</td>\n",
       "      <td>20.29</td>\n",
       "      <td>14.34</td>\n",
       "      <td>135.10</td>\n",
       "      <td>1297.0</td>\n",
       "      <td>0.10030</td>\n",
       "      <td>0.13280</td>\n",
       "      <td>0.1980</td>\n",
       "      <td>0.10430</td>\n",
       "      <td>...</td>\n",
       "      <td>16.67</td>\n",
       "      <td>152.20</td>\n",
       "      <td>1575.0</td>\n",
       "      <td>0.1374</td>\n",
       "      <td>0.2050</td>\n",
       "      <td>0.4000</td>\n",
       "      <td>0.1625</td>\n",
       "      <td>0.2364</td>\n",
       "      <td>0.07678</td>\n",
       "      <td>NaN</td>\n",
       "    </tr>\n",
       "  </tbody>\n",
       "</table>\n",
       "<p>5 rows × 33 columns</p>\n",
       "</div>\n",
       "    <div class=\"colab-df-buttons\">\n",
       "\n",
       "  <div class=\"colab-df-container\">\n",
       "    <button class=\"colab-df-convert\" onclick=\"convertToInteractive('df-45f85811-bc0e-47a1-8189-d63de6e75dd3')\"\n",
       "            title=\"Convert this dataframe to an interactive table.\"\n",
       "            style=\"display:none;\">\n",
       "\n",
       "  <svg xmlns=\"http://www.w3.org/2000/svg\" height=\"24px\" viewBox=\"0 -960 960 960\">\n",
       "    <path d=\"M120-120v-720h720v720H120Zm60-500h600v-160H180v160Zm220 220h160v-160H400v160Zm0 220h160v-160H400v160ZM180-400h160v-160H180v160Zm440 0h160v-160H620v160ZM180-180h160v-160H180v160Zm440 0h160v-160H620v160Z\"/>\n",
       "  </svg>\n",
       "    </button>\n",
       "\n",
       "  <style>\n",
       "    .colab-df-container {\n",
       "      display:flex;\n",
       "      gap: 12px;\n",
       "    }\n",
       "\n",
       "    .colab-df-convert {\n",
       "      background-color: #E8F0FE;\n",
       "      border: none;\n",
       "      border-radius: 50%;\n",
       "      cursor: pointer;\n",
       "      display: none;\n",
       "      fill: #1967D2;\n",
       "      height: 32px;\n",
       "      padding: 0 0 0 0;\n",
       "      width: 32px;\n",
       "    }\n",
       "\n",
       "    .colab-df-convert:hover {\n",
       "      background-color: #E2EBFA;\n",
       "      box-shadow: 0px 1px 2px rgba(60, 64, 67, 0.3), 0px 1px 3px 1px rgba(60, 64, 67, 0.15);\n",
       "      fill: #174EA6;\n",
       "    }\n",
       "\n",
       "    .colab-df-buttons div {\n",
       "      margin-bottom: 4px;\n",
       "    }\n",
       "\n",
       "    [theme=dark] .colab-df-convert {\n",
       "      background-color: #3B4455;\n",
       "      fill: #D2E3FC;\n",
       "    }\n",
       "\n",
       "    [theme=dark] .colab-df-convert:hover {\n",
       "      background-color: #434B5C;\n",
       "      box-shadow: 0px 1px 3px 1px rgba(0, 0, 0, 0.15);\n",
       "      filter: drop-shadow(0px 1px 2px rgba(0, 0, 0, 0.3));\n",
       "      fill: #FFFFFF;\n",
       "    }\n",
       "  </style>\n",
       "\n",
       "    <script>\n",
       "      const buttonEl =\n",
       "        document.querySelector('#df-45f85811-bc0e-47a1-8189-d63de6e75dd3 button.colab-df-convert');\n",
       "      buttonEl.style.display =\n",
       "        google.colab.kernel.accessAllowed ? 'block' : 'none';\n",
       "\n",
       "      async function convertToInteractive(key) {\n",
       "        const element = document.querySelector('#df-45f85811-bc0e-47a1-8189-d63de6e75dd3');\n",
       "        const dataTable =\n",
       "          await google.colab.kernel.invokeFunction('convertToInteractive',\n",
       "                                                    [key], {});\n",
       "        if (!dataTable) return;\n",
       "\n",
       "        const docLinkHtml = 'Like what you see? Visit the ' +\n",
       "          '<a target=\"_blank\" href=https://colab.research.google.com/notebooks/data_table.ipynb>data table notebook</a>'\n",
       "          + ' to learn more about interactive tables.';\n",
       "        element.innerHTML = '';\n",
       "        dataTable['output_type'] = 'display_data';\n",
       "        await google.colab.output.renderOutput(dataTable, element);\n",
       "        const docLink = document.createElement('div');\n",
       "        docLink.innerHTML = docLinkHtml;\n",
       "        element.appendChild(docLink);\n",
       "      }\n",
       "    </script>\n",
       "  </div>\n",
       "\n",
       "\n",
       "<div id=\"df-f3ead494-fa2d-402d-8c2f-5af65ab0b5dc\">\n",
       "  <button class=\"colab-df-quickchart\" onclick=\"quickchart('df-f3ead494-fa2d-402d-8c2f-5af65ab0b5dc')\"\n",
       "            title=\"Suggest charts.\"\n",
       "            style=\"display:none;\">\n",
       "\n",
       "<svg xmlns=\"http://www.w3.org/2000/svg\" height=\"24px\"viewBox=\"0 0 24 24\"\n",
       "     width=\"24px\">\n",
       "    <g>\n",
       "        <path d=\"M19 3H5c-1.1 0-2 .9-2 2v14c0 1.1.9 2 2 2h14c1.1 0 2-.9 2-2V5c0-1.1-.9-2-2-2zM9 17H7v-7h2v7zm4 0h-2V7h2v10zm4 0h-2v-4h2v4z\"/>\n",
       "    </g>\n",
       "</svg>\n",
       "  </button>\n",
       "\n",
       "<style>\n",
       "  .colab-df-quickchart {\n",
       "    background-color: #E8F0FE;\n",
       "    border: none;\n",
       "    border-radius: 50%;\n",
       "    cursor: pointer;\n",
       "    display: none;\n",
       "    fill: #1967D2;\n",
       "    height: 32px;\n",
       "    padding: 0 0 0 0;\n",
       "    width: 32px;\n",
       "  }\n",
       "\n",
       "  .colab-df-quickchart:hover {\n",
       "    background-color: #E2EBFA;\n",
       "    box-shadow: 0px 1px 2px rgba(60, 64, 67, 0.3), 0px 1px 3px 1px rgba(60, 64, 67, 0.15);\n",
       "    fill: #174EA6;\n",
       "  }\n",
       "\n",
       "  [theme=dark] .colab-df-quickchart {\n",
       "    background-color: #3B4455;\n",
       "    fill: #D2E3FC;\n",
       "  }\n",
       "\n",
       "  [theme=dark] .colab-df-quickchart:hover {\n",
       "    background-color: #434B5C;\n",
       "    box-shadow: 0px 1px 3px 1px rgba(0, 0, 0, 0.15);\n",
       "    filter: drop-shadow(0px 1px 2px rgba(0, 0, 0, 0.3));\n",
       "    fill: #FFFFFF;\n",
       "  }\n",
       "</style>\n",
       "\n",
       "  <script>\n",
       "    async function quickchart(key) {\n",
       "      const charts = await google.colab.kernel.invokeFunction(\n",
       "          'suggestCharts', [key], {});\n",
       "    }\n",
       "    (() => {\n",
       "      let quickchartButtonEl =\n",
       "        document.querySelector('#df-f3ead494-fa2d-402d-8c2f-5af65ab0b5dc button');\n",
       "      quickchartButtonEl.style.display =\n",
       "        google.colab.kernel.accessAllowed ? 'block' : 'none';\n",
       "    })();\n",
       "  </script>\n",
       "</div>\n",
       "    </div>\n",
       "  </div>\n"
      ],
      "text/plain": [
       "         id diagnosis  radius_mean  texture_mean  perimeter_mean  area_mean  \\\n",
       "0    842302         M        17.99         10.38          122.80     1001.0   \n",
       "1    842517         M        20.57         17.77          132.90     1326.0   \n",
       "2  84300903         M        19.69         21.25          130.00     1203.0   \n",
       "3  84348301         M        11.42         20.38           77.58      386.1   \n",
       "4  84358402         M        20.29         14.34          135.10     1297.0   \n",
       "\n",
       "   smoothness_mean  compactness_mean  concavity_mean  concave points_mean  \\\n",
       "0          0.11840           0.27760          0.3001              0.14710   \n",
       "1          0.08474           0.07864          0.0869              0.07017   \n",
       "2          0.10960           0.15990          0.1974              0.12790   \n",
       "3          0.14250           0.28390          0.2414              0.10520   \n",
       "4          0.10030           0.13280          0.1980              0.10430   \n",
       "\n",
       "   ...  texture_worst  perimeter_worst  area_worst  smoothness_worst  \\\n",
       "0  ...          17.33           184.60      2019.0            0.1622   \n",
       "1  ...          23.41           158.80      1956.0            0.1238   \n",
       "2  ...          25.53           152.50      1709.0            0.1444   \n",
       "3  ...          26.50            98.87       567.7            0.2098   \n",
       "4  ...          16.67           152.20      1575.0            0.1374   \n",
       "\n",
       "   compactness_worst  concavity_worst  concave points_worst  symmetry_worst  \\\n",
       "0             0.6656           0.7119                0.2654          0.4601   \n",
       "1             0.1866           0.2416                0.1860          0.2750   \n",
       "2             0.4245           0.4504                0.2430          0.3613   \n",
       "3             0.8663           0.6869                0.2575          0.6638   \n",
       "4             0.2050           0.4000                0.1625          0.2364   \n",
       "\n",
       "   fractal_dimension_worst  Unnamed: 32  \n",
       "0                  0.11890          NaN  \n",
       "1                  0.08902          NaN  \n",
       "2                  0.08758          NaN  \n",
       "3                  0.17300          NaN  \n",
       "4                  0.07678          NaN  \n",
       "\n",
       "[5 rows x 33 columns]"
      ]
     },
     "execution_count": 101,
     "metadata": {},
     "output_type": "execute_result"
    }
   ],
   "source": [
    "cancer_data.head(5)"
   ]
  },
  {
   "cell_type": "markdown",
   "metadata": {
    "id": "1c7fM5jGgEgu"
   },
   "source": [
    "In diagnosis we have that two labels M and B"
   ]
  },
  {
   "cell_type": "code",
   "execution_count": null,
   "metadata": {
    "colab": {
     "base_uri": "https://localhost:8080/"
    },
    "id": "j2Np1CYfgKwq",
    "outputId": "ed2328f8-b82d-443d-dde3-745116ed9bfb"
   },
   "outputs": [
    {
     "data": {
      "text/plain": [
       "B    357\n",
       "M    212\n",
       "Name: diagnosis, dtype: int64"
      ]
     },
     "execution_count": 102,
     "metadata": {},
     "output_type": "execute_result"
    }
   ],
   "source": [
    "# Finding the count of different labels\n",
    "cancer_data['diagnosis'].value_counts()"
   ]
  },
  {
   "cell_type": "code",
   "execution_count": null,
   "metadata": {
    "id": "hanERNExgdc-"
   },
   "outputs": [],
   "source": [
    "# Load the label encoder function\n",
    "label_encode = LabelEncoder()"
   ]
  },
  {
   "cell_type": "code",
   "execution_count": null,
   "metadata": {
    "id": "WlOFRXZAgk9X"
   },
   "outputs": [],
   "source": [
    "labels = label_encode.fit_transform(cancer_data.diagnosis)"
   ]
  },
  {
   "cell_type": "code",
   "execution_count": null,
   "metadata": {
    "id": "sZvWpejMgr95"
   },
   "outputs": [],
   "source": [
    "# Appending the labels to the DataFrame\n",
    "cancer_data['target']=labels"
   ]
  },
  {
   "cell_type": "code",
   "execution_count": null,
   "metadata": {
    "colab": {
     "base_uri": "https://localhost:8080/",
     "height": 273
    },
    "id": "-9Gik9LxhAhz",
    "outputId": "11556aff-f682-4caa-883d-f72e2c77b07d"
   },
   "outputs": [
    {
     "data": {
      "text/html": [
       "\n",
       "  <div id=\"df-4296263a-efab-4d75-9323-1c02b65423df\" class=\"colab-df-container\">\n",
       "    <div>\n",
       "<style scoped>\n",
       "    .dataframe tbody tr th:only-of-type {\n",
       "        vertical-align: middle;\n",
       "    }\n",
       "\n",
       "    .dataframe tbody tr th {\n",
       "        vertical-align: top;\n",
       "    }\n",
       "\n",
       "    .dataframe thead th {\n",
       "        text-align: right;\n",
       "    }\n",
       "</style>\n",
       "<table border=\"1\" class=\"dataframe\">\n",
       "  <thead>\n",
       "    <tr style=\"text-align: right;\">\n",
       "      <th></th>\n",
       "      <th>id</th>\n",
       "      <th>diagnosis</th>\n",
       "      <th>radius_mean</th>\n",
       "      <th>texture_mean</th>\n",
       "      <th>perimeter_mean</th>\n",
       "      <th>area_mean</th>\n",
       "      <th>smoothness_mean</th>\n",
       "      <th>compactness_mean</th>\n",
       "      <th>concavity_mean</th>\n",
       "      <th>concave points_mean</th>\n",
       "      <th>...</th>\n",
       "      <th>perimeter_worst</th>\n",
       "      <th>area_worst</th>\n",
       "      <th>smoothness_worst</th>\n",
       "      <th>compactness_worst</th>\n",
       "      <th>concavity_worst</th>\n",
       "      <th>concave points_worst</th>\n",
       "      <th>symmetry_worst</th>\n",
       "      <th>fractal_dimension_worst</th>\n",
       "      <th>Unnamed: 32</th>\n",
       "      <th>target</th>\n",
       "    </tr>\n",
       "  </thead>\n",
       "  <tbody>\n",
       "    <tr>\n",
       "      <th>0</th>\n",
       "      <td>842302</td>\n",
       "      <td>M</td>\n",
       "      <td>17.99</td>\n",
       "      <td>10.38</td>\n",
       "      <td>122.80</td>\n",
       "      <td>1001.0</td>\n",
       "      <td>0.11840</td>\n",
       "      <td>0.27760</td>\n",
       "      <td>0.3001</td>\n",
       "      <td>0.14710</td>\n",
       "      <td>...</td>\n",
       "      <td>184.60</td>\n",
       "      <td>2019.0</td>\n",
       "      <td>0.1622</td>\n",
       "      <td>0.6656</td>\n",
       "      <td>0.7119</td>\n",
       "      <td>0.2654</td>\n",
       "      <td>0.4601</td>\n",
       "      <td>0.11890</td>\n",
       "      <td>NaN</td>\n",
       "      <td>1</td>\n",
       "    </tr>\n",
       "    <tr>\n",
       "      <th>1</th>\n",
       "      <td>842517</td>\n",
       "      <td>M</td>\n",
       "      <td>20.57</td>\n",
       "      <td>17.77</td>\n",
       "      <td>132.90</td>\n",
       "      <td>1326.0</td>\n",
       "      <td>0.08474</td>\n",
       "      <td>0.07864</td>\n",
       "      <td>0.0869</td>\n",
       "      <td>0.07017</td>\n",
       "      <td>...</td>\n",
       "      <td>158.80</td>\n",
       "      <td>1956.0</td>\n",
       "      <td>0.1238</td>\n",
       "      <td>0.1866</td>\n",
       "      <td>0.2416</td>\n",
       "      <td>0.1860</td>\n",
       "      <td>0.2750</td>\n",
       "      <td>0.08902</td>\n",
       "      <td>NaN</td>\n",
       "      <td>1</td>\n",
       "    </tr>\n",
       "    <tr>\n",
       "      <th>2</th>\n",
       "      <td>84300903</td>\n",
       "      <td>M</td>\n",
       "      <td>19.69</td>\n",
       "      <td>21.25</td>\n",
       "      <td>130.00</td>\n",
       "      <td>1203.0</td>\n",
       "      <td>0.10960</td>\n",
       "      <td>0.15990</td>\n",
       "      <td>0.1974</td>\n",
       "      <td>0.12790</td>\n",
       "      <td>...</td>\n",
       "      <td>152.50</td>\n",
       "      <td>1709.0</td>\n",
       "      <td>0.1444</td>\n",
       "      <td>0.4245</td>\n",
       "      <td>0.4504</td>\n",
       "      <td>0.2430</td>\n",
       "      <td>0.3613</td>\n",
       "      <td>0.08758</td>\n",
       "      <td>NaN</td>\n",
       "      <td>1</td>\n",
       "    </tr>\n",
       "    <tr>\n",
       "      <th>3</th>\n",
       "      <td>84348301</td>\n",
       "      <td>M</td>\n",
       "      <td>11.42</td>\n",
       "      <td>20.38</td>\n",
       "      <td>77.58</td>\n",
       "      <td>386.1</td>\n",
       "      <td>0.14250</td>\n",
       "      <td>0.28390</td>\n",
       "      <td>0.2414</td>\n",
       "      <td>0.10520</td>\n",
       "      <td>...</td>\n",
       "      <td>98.87</td>\n",
       "      <td>567.7</td>\n",
       "      <td>0.2098</td>\n",
       "      <td>0.8663</td>\n",
       "      <td>0.6869</td>\n",
       "      <td>0.2575</td>\n",
       "      <td>0.6638</td>\n",
       "      <td>0.17300</td>\n",
       "      <td>NaN</td>\n",
       "      <td>1</td>\n",
       "    </tr>\n",
       "    <tr>\n",
       "      <th>4</th>\n",
       "      <td>84358402</td>\n",
       "      <td>M</td>\n",
       "      <td>20.29</td>\n",
       "      <td>14.34</td>\n",
       "      <td>135.10</td>\n",
       "      <td>1297.0</td>\n",
       "      <td>0.10030</td>\n",
       "      <td>0.13280</td>\n",
       "      <td>0.1980</td>\n",
       "      <td>0.10430</td>\n",
       "      <td>...</td>\n",
       "      <td>152.20</td>\n",
       "      <td>1575.0</td>\n",
       "      <td>0.1374</td>\n",
       "      <td>0.2050</td>\n",
       "      <td>0.4000</td>\n",
       "      <td>0.1625</td>\n",
       "      <td>0.2364</td>\n",
       "      <td>0.07678</td>\n",
       "      <td>NaN</td>\n",
       "      <td>1</td>\n",
       "    </tr>\n",
       "  </tbody>\n",
       "</table>\n",
       "<p>5 rows × 34 columns</p>\n",
       "</div>\n",
       "    <div class=\"colab-df-buttons\">\n",
       "\n",
       "  <div class=\"colab-df-container\">\n",
       "    <button class=\"colab-df-convert\" onclick=\"convertToInteractive('df-4296263a-efab-4d75-9323-1c02b65423df')\"\n",
       "            title=\"Convert this dataframe to an interactive table.\"\n",
       "            style=\"display:none;\">\n",
       "\n",
       "  <svg xmlns=\"http://www.w3.org/2000/svg\" height=\"24px\" viewBox=\"0 -960 960 960\">\n",
       "    <path d=\"M120-120v-720h720v720H120Zm60-500h600v-160H180v160Zm220 220h160v-160H400v160Zm0 220h160v-160H400v160ZM180-400h160v-160H180v160Zm440 0h160v-160H620v160ZM180-180h160v-160H180v160Zm440 0h160v-160H620v160Z\"/>\n",
       "  </svg>\n",
       "    </button>\n",
       "\n",
       "  <style>\n",
       "    .colab-df-container {\n",
       "      display:flex;\n",
       "      gap: 12px;\n",
       "    }\n",
       "\n",
       "    .colab-df-convert {\n",
       "      background-color: #E8F0FE;\n",
       "      border: none;\n",
       "      border-radius: 50%;\n",
       "      cursor: pointer;\n",
       "      display: none;\n",
       "      fill: #1967D2;\n",
       "      height: 32px;\n",
       "      padding: 0 0 0 0;\n",
       "      width: 32px;\n",
       "    }\n",
       "\n",
       "    .colab-df-convert:hover {\n",
       "      background-color: #E2EBFA;\n",
       "      box-shadow: 0px 1px 2px rgba(60, 64, 67, 0.3), 0px 1px 3px 1px rgba(60, 64, 67, 0.15);\n",
       "      fill: #174EA6;\n",
       "    }\n",
       "\n",
       "    .colab-df-buttons div {\n",
       "      margin-bottom: 4px;\n",
       "    }\n",
       "\n",
       "    [theme=dark] .colab-df-convert {\n",
       "      background-color: #3B4455;\n",
       "      fill: #D2E3FC;\n",
       "    }\n",
       "\n",
       "    [theme=dark] .colab-df-convert:hover {\n",
       "      background-color: #434B5C;\n",
       "      box-shadow: 0px 1px 3px 1px rgba(0, 0, 0, 0.15);\n",
       "      filter: drop-shadow(0px 1px 2px rgba(0, 0, 0, 0.3));\n",
       "      fill: #FFFFFF;\n",
       "    }\n",
       "  </style>\n",
       "\n",
       "    <script>\n",
       "      const buttonEl =\n",
       "        document.querySelector('#df-4296263a-efab-4d75-9323-1c02b65423df button.colab-df-convert');\n",
       "      buttonEl.style.display =\n",
       "        google.colab.kernel.accessAllowed ? 'block' : 'none';\n",
       "\n",
       "      async function convertToInteractive(key) {\n",
       "        const element = document.querySelector('#df-4296263a-efab-4d75-9323-1c02b65423df');\n",
       "        const dataTable =\n",
       "          await google.colab.kernel.invokeFunction('convertToInteractive',\n",
       "                                                    [key], {});\n",
       "        if (!dataTable) return;\n",
       "\n",
       "        const docLinkHtml = 'Like what you see? Visit the ' +\n",
       "          '<a target=\"_blank\" href=https://colab.research.google.com/notebooks/data_table.ipynb>data table notebook</a>'\n",
       "          + ' to learn more about interactive tables.';\n",
       "        element.innerHTML = '';\n",
       "        dataTable['output_type'] = 'display_data';\n",
       "        await google.colab.output.renderOutput(dataTable, element);\n",
       "        const docLink = document.createElement('div');\n",
       "        docLink.innerHTML = docLinkHtml;\n",
       "        element.appendChild(docLink);\n",
       "      }\n",
       "    </script>\n",
       "  </div>\n",
       "\n",
       "\n",
       "<div id=\"df-20f336e2-d34d-438d-826c-0e811a4da431\">\n",
       "  <button class=\"colab-df-quickchart\" onclick=\"quickchart('df-20f336e2-d34d-438d-826c-0e811a4da431')\"\n",
       "            title=\"Suggest charts.\"\n",
       "            style=\"display:none;\">\n",
       "\n",
       "<svg xmlns=\"http://www.w3.org/2000/svg\" height=\"24px\"viewBox=\"0 0 24 24\"\n",
       "     width=\"24px\">\n",
       "    <g>\n",
       "        <path d=\"M19 3H5c-1.1 0-2 .9-2 2v14c0 1.1.9 2 2 2h14c1.1 0 2-.9 2-2V5c0-1.1-.9-2-2-2zM9 17H7v-7h2v7zm4 0h-2V7h2v10zm4 0h-2v-4h2v4z\"/>\n",
       "    </g>\n",
       "</svg>\n",
       "  </button>\n",
       "\n",
       "<style>\n",
       "  .colab-df-quickchart {\n",
       "    background-color: #E8F0FE;\n",
       "    border: none;\n",
       "    border-radius: 50%;\n",
       "    cursor: pointer;\n",
       "    display: none;\n",
       "    fill: #1967D2;\n",
       "    height: 32px;\n",
       "    padding: 0 0 0 0;\n",
       "    width: 32px;\n",
       "  }\n",
       "\n",
       "  .colab-df-quickchart:hover {\n",
       "    background-color: #E2EBFA;\n",
       "    box-shadow: 0px 1px 2px rgba(60, 64, 67, 0.3), 0px 1px 3px 1px rgba(60, 64, 67, 0.15);\n",
       "    fill: #174EA6;\n",
       "  }\n",
       "\n",
       "  [theme=dark] .colab-df-quickchart {\n",
       "    background-color: #3B4455;\n",
       "    fill: #D2E3FC;\n",
       "  }\n",
       "\n",
       "  [theme=dark] .colab-df-quickchart:hover {\n",
       "    background-color: #434B5C;\n",
       "    box-shadow: 0px 1px 3px 1px rgba(0, 0, 0, 0.15);\n",
       "    filter: drop-shadow(0px 1px 2px rgba(0, 0, 0, 0.3));\n",
       "    fill: #FFFFFF;\n",
       "  }\n",
       "</style>\n",
       "\n",
       "  <script>\n",
       "    async function quickchart(key) {\n",
       "      const charts = await google.colab.kernel.invokeFunction(\n",
       "          'suggestCharts', [key], {});\n",
       "    }\n",
       "    (() => {\n",
       "      let quickchartButtonEl =\n",
       "        document.querySelector('#df-20f336e2-d34d-438d-826c-0e811a4da431 button');\n",
       "      quickchartButtonEl.style.display =\n",
       "        google.colab.kernel.accessAllowed ? 'block' : 'none';\n",
       "    })();\n",
       "  </script>\n",
       "</div>\n",
       "    </div>\n",
       "  </div>\n"
      ],
      "text/plain": [
       "         id diagnosis  radius_mean  texture_mean  perimeter_mean  area_mean  \\\n",
       "0    842302         M        17.99         10.38          122.80     1001.0   \n",
       "1    842517         M        20.57         17.77          132.90     1326.0   \n",
       "2  84300903         M        19.69         21.25          130.00     1203.0   \n",
       "3  84348301         M        11.42         20.38           77.58      386.1   \n",
       "4  84358402         M        20.29         14.34          135.10     1297.0   \n",
       "\n",
       "   smoothness_mean  compactness_mean  concavity_mean  concave points_mean  \\\n",
       "0          0.11840           0.27760          0.3001              0.14710   \n",
       "1          0.08474           0.07864          0.0869              0.07017   \n",
       "2          0.10960           0.15990          0.1974              0.12790   \n",
       "3          0.14250           0.28390          0.2414              0.10520   \n",
       "4          0.10030           0.13280          0.1980              0.10430   \n",
       "\n",
       "   ...  perimeter_worst  area_worst  smoothness_worst  compactness_worst  \\\n",
       "0  ...           184.60      2019.0            0.1622             0.6656   \n",
       "1  ...           158.80      1956.0            0.1238             0.1866   \n",
       "2  ...           152.50      1709.0            0.1444             0.4245   \n",
       "3  ...            98.87       567.7            0.2098             0.8663   \n",
       "4  ...           152.20      1575.0            0.1374             0.2050   \n",
       "\n",
       "   concavity_worst  concave points_worst  symmetry_worst  \\\n",
       "0           0.7119                0.2654          0.4601   \n",
       "1           0.2416                0.1860          0.2750   \n",
       "2           0.4504                0.2430          0.3613   \n",
       "3           0.6869                0.2575          0.6638   \n",
       "4           0.4000                0.1625          0.2364   \n",
       "\n",
       "   fractal_dimension_worst  Unnamed: 32  target  \n",
       "0                  0.11890          NaN       1  \n",
       "1                  0.08902          NaN       1  \n",
       "2                  0.08758          NaN       1  \n",
       "3                  0.17300          NaN       1  \n",
       "4                  0.07678          NaN       1  \n",
       "\n",
       "[5 rows x 34 columns]"
      ]
     },
     "execution_count": 107,
     "metadata": {},
     "output_type": "execute_result"
    }
   ],
   "source": [
    "cancer_data.head()"
   ]
  },
  {
   "cell_type": "markdown",
   "metadata": {
    "id": "KP6FUWCfic0l"
   },
   "source": [
    "0 --> Benign <br/>\n",
    "1 --> Malignant<br/>\n",
    "The label is based on ascending order of labels"
   ]
  },
  {
   "cell_type": "code",
   "execution_count": null,
   "metadata": {
    "colab": {
     "base_uri": "https://localhost:8080/"
    },
    "id": "Lt5J_cYEiQjl",
    "outputId": "696a9180-2147-49cc-ff7d-b69e9ad36fdc"
   },
   "outputs": [
    {
     "data": {
      "text/plain": [
       "0    357\n",
       "1    212\n",
       "Name: target, dtype: int64"
      ]
     },
     "execution_count": 109,
     "metadata": {},
     "output_type": "execute_result"
    }
   ],
   "source": [
    "cancer_data[\"target\"].value_counts()"
   ]
  },
  {
   "cell_type": "markdown",
   "metadata": {
    "id": "k8RJ4jO8i3z7"
   },
   "source": [
    "<hr/>\n",
    "<b>Label Encoding of Iris Data</b>"
   ]
  },
  {
   "cell_type": "code",
   "execution_count": null,
   "metadata": {
    "id": "2p0iXuXOiupd"
   },
   "outputs": [],
   "source": [
    "iris_data=pd.read_csv(\"/content/Iris.csv\")"
   ]
  },
  {
   "cell_type": "code",
   "execution_count": null,
   "metadata": {
    "colab": {
     "base_uri": "https://localhost:8080/",
     "height": 206
    },
    "id": "NHbgGOJwjEnn",
    "outputId": "3e9f078d-ce38-4f2a-83c1-0af17e835f46"
   },
   "outputs": [
    {
     "data": {
      "text/html": [
       "\n",
       "  <div id=\"df-736ad78e-47eb-4069-ac5d-b346b1783143\" class=\"colab-df-container\">\n",
       "    <div>\n",
       "<style scoped>\n",
       "    .dataframe tbody tr th:only-of-type {\n",
       "        vertical-align: middle;\n",
       "    }\n",
       "\n",
       "    .dataframe tbody tr th {\n",
       "        vertical-align: top;\n",
       "    }\n",
       "\n",
       "    .dataframe thead th {\n",
       "        text-align: right;\n",
       "    }\n",
       "</style>\n",
       "<table border=\"1\" class=\"dataframe\">\n",
       "  <thead>\n",
       "    <tr style=\"text-align: right;\">\n",
       "      <th></th>\n",
       "      <th>Id</th>\n",
       "      <th>SepalLengthCm</th>\n",
       "      <th>SepalWidthCm</th>\n",
       "      <th>PetalLengthCm</th>\n",
       "      <th>PetalWidthCm</th>\n",
       "      <th>Species</th>\n",
       "    </tr>\n",
       "  </thead>\n",
       "  <tbody>\n",
       "    <tr>\n",
       "      <th>0</th>\n",
       "      <td>1</td>\n",
       "      <td>5.1</td>\n",
       "      <td>3.5</td>\n",
       "      <td>1.4</td>\n",
       "      <td>0.2</td>\n",
       "      <td>Iris-setosa</td>\n",
       "    </tr>\n",
       "    <tr>\n",
       "      <th>1</th>\n",
       "      <td>2</td>\n",
       "      <td>4.9</td>\n",
       "      <td>3.0</td>\n",
       "      <td>1.4</td>\n",
       "      <td>0.2</td>\n",
       "      <td>Iris-setosa</td>\n",
       "    </tr>\n",
       "    <tr>\n",
       "      <th>2</th>\n",
       "      <td>3</td>\n",
       "      <td>4.7</td>\n",
       "      <td>3.2</td>\n",
       "      <td>1.3</td>\n",
       "      <td>0.2</td>\n",
       "      <td>Iris-setosa</td>\n",
       "    </tr>\n",
       "    <tr>\n",
       "      <th>3</th>\n",
       "      <td>4</td>\n",
       "      <td>4.6</td>\n",
       "      <td>3.1</td>\n",
       "      <td>1.5</td>\n",
       "      <td>0.2</td>\n",
       "      <td>Iris-setosa</td>\n",
       "    </tr>\n",
       "    <tr>\n",
       "      <th>4</th>\n",
       "      <td>5</td>\n",
       "      <td>5.0</td>\n",
       "      <td>3.6</td>\n",
       "      <td>1.4</td>\n",
       "      <td>0.2</td>\n",
       "      <td>Iris-setosa</td>\n",
       "    </tr>\n",
       "  </tbody>\n",
       "</table>\n",
       "</div>\n",
       "    <div class=\"colab-df-buttons\">\n",
       "\n",
       "  <div class=\"colab-df-container\">\n",
       "    <button class=\"colab-df-convert\" onclick=\"convertToInteractive('df-736ad78e-47eb-4069-ac5d-b346b1783143')\"\n",
       "            title=\"Convert this dataframe to an interactive table.\"\n",
       "            style=\"display:none;\">\n",
       "\n",
       "  <svg xmlns=\"http://www.w3.org/2000/svg\" height=\"24px\" viewBox=\"0 -960 960 960\">\n",
       "    <path d=\"M120-120v-720h720v720H120Zm60-500h600v-160H180v160Zm220 220h160v-160H400v160Zm0 220h160v-160H400v160ZM180-400h160v-160H180v160Zm440 0h160v-160H620v160ZM180-180h160v-160H180v160Zm440 0h160v-160H620v160Z\"/>\n",
       "  </svg>\n",
       "    </button>\n",
       "\n",
       "  <style>\n",
       "    .colab-df-container {\n",
       "      display:flex;\n",
       "      gap: 12px;\n",
       "    }\n",
       "\n",
       "    .colab-df-convert {\n",
       "      background-color: #E8F0FE;\n",
       "      border: none;\n",
       "      border-radius: 50%;\n",
       "      cursor: pointer;\n",
       "      display: none;\n",
       "      fill: #1967D2;\n",
       "      height: 32px;\n",
       "      padding: 0 0 0 0;\n",
       "      width: 32px;\n",
       "    }\n",
       "\n",
       "    .colab-df-convert:hover {\n",
       "      background-color: #E2EBFA;\n",
       "      box-shadow: 0px 1px 2px rgba(60, 64, 67, 0.3), 0px 1px 3px 1px rgba(60, 64, 67, 0.15);\n",
       "      fill: #174EA6;\n",
       "    }\n",
       "\n",
       "    .colab-df-buttons div {\n",
       "      margin-bottom: 4px;\n",
       "    }\n",
       "\n",
       "    [theme=dark] .colab-df-convert {\n",
       "      background-color: #3B4455;\n",
       "      fill: #D2E3FC;\n",
       "    }\n",
       "\n",
       "    [theme=dark] .colab-df-convert:hover {\n",
       "      background-color: #434B5C;\n",
       "      box-shadow: 0px 1px 3px 1px rgba(0, 0, 0, 0.15);\n",
       "      filter: drop-shadow(0px 1px 2px rgba(0, 0, 0, 0.3));\n",
       "      fill: #FFFFFF;\n",
       "    }\n",
       "  </style>\n",
       "\n",
       "    <script>\n",
       "      const buttonEl =\n",
       "        document.querySelector('#df-736ad78e-47eb-4069-ac5d-b346b1783143 button.colab-df-convert');\n",
       "      buttonEl.style.display =\n",
       "        google.colab.kernel.accessAllowed ? 'block' : 'none';\n",
       "\n",
       "      async function convertToInteractive(key) {\n",
       "        const element = document.querySelector('#df-736ad78e-47eb-4069-ac5d-b346b1783143');\n",
       "        const dataTable =\n",
       "          await google.colab.kernel.invokeFunction('convertToInteractive',\n",
       "                                                    [key], {});\n",
       "        if (!dataTable) return;\n",
       "\n",
       "        const docLinkHtml = 'Like what you see? Visit the ' +\n",
       "          '<a target=\"_blank\" href=https://colab.research.google.com/notebooks/data_table.ipynb>data table notebook</a>'\n",
       "          + ' to learn more about interactive tables.';\n",
       "        element.innerHTML = '';\n",
       "        dataTable['output_type'] = 'display_data';\n",
       "        await google.colab.output.renderOutput(dataTable, element);\n",
       "        const docLink = document.createElement('div');\n",
       "        docLink.innerHTML = docLinkHtml;\n",
       "        element.appendChild(docLink);\n",
       "      }\n",
       "    </script>\n",
       "  </div>\n",
       "\n",
       "\n",
       "<div id=\"df-52c132be-4d92-47d2-acbe-7f9f81b0cac1\">\n",
       "  <button class=\"colab-df-quickchart\" onclick=\"quickchart('df-52c132be-4d92-47d2-acbe-7f9f81b0cac1')\"\n",
       "            title=\"Suggest charts.\"\n",
       "            style=\"display:none;\">\n",
       "\n",
       "<svg xmlns=\"http://www.w3.org/2000/svg\" height=\"24px\"viewBox=\"0 0 24 24\"\n",
       "     width=\"24px\">\n",
       "    <g>\n",
       "        <path d=\"M19 3H5c-1.1 0-2 .9-2 2v14c0 1.1.9 2 2 2h14c1.1 0 2-.9 2-2V5c0-1.1-.9-2-2-2zM9 17H7v-7h2v7zm4 0h-2V7h2v10zm4 0h-2v-4h2v4z\"/>\n",
       "    </g>\n",
       "</svg>\n",
       "  </button>\n",
       "\n",
       "<style>\n",
       "  .colab-df-quickchart {\n",
       "    background-color: #E8F0FE;\n",
       "    border: none;\n",
       "    border-radius: 50%;\n",
       "    cursor: pointer;\n",
       "    display: none;\n",
       "    fill: #1967D2;\n",
       "    height: 32px;\n",
       "    padding: 0 0 0 0;\n",
       "    width: 32px;\n",
       "  }\n",
       "\n",
       "  .colab-df-quickchart:hover {\n",
       "    background-color: #E2EBFA;\n",
       "    box-shadow: 0px 1px 2px rgba(60, 64, 67, 0.3), 0px 1px 3px 1px rgba(60, 64, 67, 0.15);\n",
       "    fill: #174EA6;\n",
       "  }\n",
       "\n",
       "  [theme=dark] .colab-df-quickchart {\n",
       "    background-color: #3B4455;\n",
       "    fill: #D2E3FC;\n",
       "  }\n",
       "\n",
       "  [theme=dark] .colab-df-quickchart:hover {\n",
       "    background-color: #434B5C;\n",
       "    box-shadow: 0px 1px 3px 1px rgba(0, 0, 0, 0.15);\n",
       "    filter: drop-shadow(0px 1px 2px rgba(0, 0, 0, 0.3));\n",
       "    fill: #FFFFFF;\n",
       "  }\n",
       "</style>\n",
       "\n",
       "  <script>\n",
       "    async function quickchart(key) {\n",
       "      const charts = await google.colab.kernel.invokeFunction(\n",
       "          'suggestCharts', [key], {});\n",
       "    }\n",
       "    (() => {\n",
       "      let quickchartButtonEl =\n",
       "        document.querySelector('#df-52c132be-4d92-47d2-acbe-7f9f81b0cac1 button');\n",
       "      quickchartButtonEl.style.display =\n",
       "        google.colab.kernel.accessAllowed ? 'block' : 'none';\n",
       "    })();\n",
       "  </script>\n",
       "</div>\n",
       "    </div>\n",
       "  </div>\n"
      ],
      "text/plain": [
       "   Id  SepalLengthCm  SepalWidthCm  PetalLengthCm  PetalWidthCm      Species\n",
       "0   1            5.1           3.5            1.4           0.2  Iris-setosa\n",
       "1   2            4.9           3.0            1.4           0.2  Iris-setosa\n",
       "2   3            4.7           3.2            1.3           0.2  Iris-setosa\n",
       "3   4            4.6           3.1            1.5           0.2  Iris-setosa\n",
       "4   5            5.0           3.6            1.4           0.2  Iris-setosa"
      ]
     },
     "execution_count": 111,
     "metadata": {},
     "output_type": "execute_result"
    }
   ],
   "source": [
    "iris_data.head()"
   ]
  },
  {
   "cell_type": "code",
   "execution_count": null,
   "metadata": {
    "colab": {
     "base_uri": "https://localhost:8080/"
    },
    "id": "FPTL1WpdjIMX",
    "outputId": "a760c02c-0a22-4ca5-f179-dc770de445f4"
   },
   "outputs": [
    {
     "data": {
      "text/plain": [
       "Iris-setosa        50\n",
       "Iris-versicolor    50\n",
       "Iris-virginica     50\n",
       "Name: Species, dtype: int64"
      ]
     },
     "execution_count": 113,
     "metadata": {},
     "output_type": "execute_result"
    }
   ],
   "source": [
    "iris_data[\"Species\"].value_counts()"
   ]
  },
  {
   "cell_type": "code",
   "execution_count": null,
   "metadata": {
    "id": "fjYhTXRCjqiM"
   },
   "outputs": [],
   "source": [
    "# Loading the label encoder\n",
    "label_encoder_1=LabelEncoder()"
   ]
  },
  {
   "cell_type": "code",
   "execution_count": null,
   "metadata": {
    "id": "C6DZaIooj8Ik"
   },
   "outputs": [],
   "source": [
    "iris_labels=label_encoder_1.fit_transform(iris_data.Species)"
   ]
  },
  {
   "cell_type": "code",
   "execution_count": null,
   "metadata": {
    "id": "55NvIOfrkK3n"
   },
   "outputs": [],
   "source": [
    "iris_data[\"target\"]=iris_labels"
   ]
  },
  {
   "cell_type": "code",
   "execution_count": null,
   "metadata": {
    "colab": {
     "base_uri": "https://localhost:8080/"
    },
    "id": "xQilS7wXkSuP",
    "outputId": "5f4a4c23-2bfd-44b7-830c-848cd6dbaef0"
   },
   "outputs": [
    {
     "data": {
      "text/plain": [
       "0    50\n",
       "1    50\n",
       "2    50\n",
       "Name: target, dtype: int64"
      ]
     },
     "execution_count": 118,
     "metadata": {},
     "output_type": "execute_result"
    }
   ],
   "source": [
    "iris_data['target'].value_counts()"
   ]
  },
  {
   "cell_type": "markdown",
   "metadata": {
    "id": "tM9Ugg4LkfCU"
   },
   "source": [
    "Iris-setos --> 0 <br/>\n",
    "Iris-versicolor --> 1 <br/>\n",
    "Iris-verginica --> 2 <br/>"
   ]
  },
  {
   "cell_type": "markdown",
   "metadata": {
    "id": "IdlMc4nYlhEV"
   },
   "source": [
    "![PIC.png](data:image/png;base64,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)"
   ]
  },
  {
   "cell_type": "markdown",
   "metadata": {
    "id": "E736wBNlpj1G"
   },
   "source": [
    "**Inbalanced Dataset**\n",
    "<br/>\n",
    "A dataset with an unequal class distribution"
   ]
  },
  {
   "cell_type": "code",
   "execution_count": 3,
   "metadata": {
    "id": "OtmzM6eTuM-i"
   },
   "outputs": [],
   "source": [
    "# Importing the dependencies\n",
    "import numpy as np\n",
    "import pandas as pd"
   ]
  },
  {
   "cell_type": "code",
   "execution_count": 4,
   "metadata": {
    "colab": {
     "base_uri": "https://localhost:8080/",
     "height": 251
    },
    "id": "I6FhGSQea-la",
    "outputId": "7ee43817-b492-45f2-e92f-8a3a5a0f5843"
   },
   "outputs": [],
   "source": [
    "# Loading the dataset to pandas DataFrame\n",
    "ccd = pd.read_csv(\"C:\\\\Users\\\\viswa\\\\Data Science and ML\\\\Datasets\\\\credit_data.csv\")"
   ]
  },
  {
   "cell_type": "code",
   "execution_count": 5,
   "metadata": {
    "colab": {
     "base_uri": "https://localhost:8080/",
     "height": 255
    },
    "id": "avwIW9O_bIH8",
    "outputId": "df370ca6-0dd5-4e8f-bad5-f792c47f9c55"
   },
   "outputs": [
    {
     "data": {
      "text/html": [
       "<div>\n",
       "<style scoped>\n",
       "    .dataframe tbody tr th:only-of-type {\n",
       "        vertical-align: middle;\n",
       "    }\n",
       "\n",
       "    .dataframe tbody tr th {\n",
       "        vertical-align: top;\n",
       "    }\n",
       "\n",
       "    .dataframe thead th {\n",
       "        text-align: right;\n",
       "    }\n",
       "</style>\n",
       "<table border=\"1\" class=\"dataframe\">\n",
       "  <thead>\n",
       "    <tr style=\"text-align: right;\">\n",
       "      <th></th>\n",
       "      <th>Time</th>\n",
       "      <th>V1</th>\n",
       "      <th>V2</th>\n",
       "      <th>V3</th>\n",
       "      <th>V4</th>\n",
       "      <th>V5</th>\n",
       "      <th>V6</th>\n",
       "      <th>V7</th>\n",
       "      <th>V8</th>\n",
       "      <th>V9</th>\n",
       "      <th>...</th>\n",
       "      <th>V21</th>\n",
       "      <th>V22</th>\n",
       "      <th>V23</th>\n",
       "      <th>V24</th>\n",
       "      <th>V25</th>\n",
       "      <th>V26</th>\n",
       "      <th>V27</th>\n",
       "      <th>V28</th>\n",
       "      <th>Amount</th>\n",
       "      <th>Class</th>\n",
       "    </tr>\n",
       "  </thead>\n",
       "  <tbody>\n",
       "    <tr>\n",
       "      <th>0</th>\n",
       "      <td>0.0</td>\n",
       "      <td>-1.359807</td>\n",
       "      <td>-0.072781</td>\n",
       "      <td>2.536347</td>\n",
       "      <td>1.378155</td>\n",
       "      <td>-0.338321</td>\n",
       "      <td>0.462388</td>\n",
       "      <td>0.239599</td>\n",
       "      <td>0.098698</td>\n",
       "      <td>0.363787</td>\n",
       "      <td>...</td>\n",
       "      <td>-0.018307</td>\n",
       "      <td>0.277838</td>\n",
       "      <td>-0.110474</td>\n",
       "      <td>0.066928</td>\n",
       "      <td>0.128539</td>\n",
       "      <td>-0.189115</td>\n",
       "      <td>0.133558</td>\n",
       "      <td>-0.021053</td>\n",
       "      <td>149.62</td>\n",
       "      <td>0</td>\n",
       "    </tr>\n",
       "    <tr>\n",
       "      <th>1</th>\n",
       "      <td>0.0</td>\n",
       "      <td>1.191857</td>\n",
       "      <td>0.266151</td>\n",
       "      <td>0.166480</td>\n",
       "      <td>0.448154</td>\n",
       "      <td>0.060018</td>\n",
       "      <td>-0.082361</td>\n",
       "      <td>-0.078803</td>\n",
       "      <td>0.085102</td>\n",
       "      <td>-0.255425</td>\n",
       "      <td>...</td>\n",
       "      <td>-0.225775</td>\n",
       "      <td>-0.638672</td>\n",
       "      <td>0.101288</td>\n",
       "      <td>-0.339846</td>\n",
       "      <td>0.167170</td>\n",
       "      <td>0.125895</td>\n",
       "      <td>-0.008983</td>\n",
       "      <td>0.014724</td>\n",
       "      <td>2.69</td>\n",
       "      <td>0</td>\n",
       "    </tr>\n",
       "    <tr>\n",
       "      <th>2</th>\n",
       "      <td>1.0</td>\n",
       "      <td>-1.358354</td>\n",
       "      <td>-1.340163</td>\n",
       "      <td>1.773209</td>\n",
       "      <td>0.379780</td>\n",
       "      <td>-0.503198</td>\n",
       "      <td>1.800499</td>\n",
       "      <td>0.791461</td>\n",
       "      <td>0.247676</td>\n",
       "      <td>-1.514654</td>\n",
       "      <td>...</td>\n",
       "      <td>0.247998</td>\n",
       "      <td>0.771679</td>\n",
       "      <td>0.909412</td>\n",
       "      <td>-0.689281</td>\n",
       "      <td>-0.327642</td>\n",
       "      <td>-0.139097</td>\n",
       "      <td>-0.055353</td>\n",
       "      <td>-0.059752</td>\n",
       "      <td>378.66</td>\n",
       "      <td>0</td>\n",
       "    </tr>\n",
       "    <tr>\n",
       "      <th>3</th>\n",
       "      <td>1.0</td>\n",
       "      <td>-0.966272</td>\n",
       "      <td>-0.185226</td>\n",
       "      <td>1.792993</td>\n",
       "      <td>-0.863291</td>\n",
       "      <td>-0.010309</td>\n",
       "      <td>1.247203</td>\n",
       "      <td>0.237609</td>\n",
       "      <td>0.377436</td>\n",
       "      <td>-1.387024</td>\n",
       "      <td>...</td>\n",
       "      <td>-0.108300</td>\n",
       "      <td>0.005274</td>\n",
       "      <td>-0.190321</td>\n",
       "      <td>-1.175575</td>\n",
       "      <td>0.647376</td>\n",
       "      <td>-0.221929</td>\n",
       "      <td>0.062723</td>\n",
       "      <td>0.061458</td>\n",
       "      <td>123.50</td>\n",
       "      <td>0</td>\n",
       "    </tr>\n",
       "    <tr>\n",
       "      <th>4</th>\n",
       "      <td>2.0</td>\n",
       "      <td>-1.158233</td>\n",
       "      <td>0.877737</td>\n",
       "      <td>1.548718</td>\n",
       "      <td>0.403034</td>\n",
       "      <td>-0.407193</td>\n",
       "      <td>0.095921</td>\n",
       "      <td>0.592941</td>\n",
       "      <td>-0.270533</td>\n",
       "      <td>0.817739</td>\n",
       "      <td>...</td>\n",
       "      <td>-0.009431</td>\n",
       "      <td>0.798278</td>\n",
       "      <td>-0.137458</td>\n",
       "      <td>0.141267</td>\n",
       "      <td>-0.206010</td>\n",
       "      <td>0.502292</td>\n",
       "      <td>0.219422</td>\n",
       "      <td>0.215153</td>\n",
       "      <td>69.99</td>\n",
       "      <td>0</td>\n",
       "    </tr>\n",
       "  </tbody>\n",
       "</table>\n",
       "<p>5 rows × 31 columns</p>\n",
       "</div>"
      ],
      "text/plain": [
       "   Time        V1        V2        V3        V4        V5        V6        V7  \\\n",
       "0   0.0 -1.359807 -0.072781  2.536347  1.378155 -0.338321  0.462388  0.239599   \n",
       "1   0.0  1.191857  0.266151  0.166480  0.448154  0.060018 -0.082361 -0.078803   \n",
       "2   1.0 -1.358354 -1.340163  1.773209  0.379780 -0.503198  1.800499  0.791461   \n",
       "3   1.0 -0.966272 -0.185226  1.792993 -0.863291 -0.010309  1.247203  0.237609   \n",
       "4   2.0 -1.158233  0.877737  1.548718  0.403034 -0.407193  0.095921  0.592941   \n",
       "\n",
       "         V8        V9  ...       V21       V22       V23       V24       V25  \\\n",
       "0  0.098698  0.363787  ... -0.018307  0.277838 -0.110474  0.066928  0.128539   \n",
       "1  0.085102 -0.255425  ... -0.225775 -0.638672  0.101288 -0.339846  0.167170   \n",
       "2  0.247676 -1.514654  ...  0.247998  0.771679  0.909412 -0.689281 -0.327642   \n",
       "3  0.377436 -1.387024  ... -0.108300  0.005274 -0.190321 -1.175575  0.647376   \n",
       "4 -0.270533  0.817739  ... -0.009431  0.798278 -0.137458  0.141267 -0.206010   \n",
       "\n",
       "        V26       V27       V28  Amount  Class  \n",
       "0 -0.189115  0.133558 -0.021053  149.62      0  \n",
       "1  0.125895 -0.008983  0.014724    2.69      0  \n",
       "2 -0.139097 -0.055353 -0.059752  378.66      0  \n",
       "3 -0.221929  0.062723  0.061458  123.50      0  \n",
       "4  0.502292  0.219422  0.215153   69.99      0  \n",
       "\n",
       "[5 rows x 31 columns]"
      ]
     },
     "execution_count": 5,
     "metadata": {},
     "output_type": "execute_result"
    }
   ],
   "source": [
    "ccd.head()"
   ]
  },
  {
   "cell_type": "markdown",
   "metadata": {
    "id": "LGTg908pbi1f"
   },
   "source": [
    "In class <br/>\n",
    "0 --> Legit transaction <br/>\n",
    "1 --> Fraudulent transaction"
   ]
  },
  {
   "cell_type": "code",
   "execution_count": 6,
   "metadata": {
    "colab": {
     "base_uri": "https://localhost:8080/",
     "height": 255
    },
    "id": "dHSrJKAQbPJz",
    "outputId": "ffe01005-fb36-487a-c98f-9d42ff28a328"
   },
   "outputs": [
    {
     "data": {
      "text/html": [
       "<div>\n",
       "<style scoped>\n",
       "    .dataframe tbody tr th:only-of-type {\n",
       "        vertical-align: middle;\n",
       "    }\n",
       "\n",
       "    .dataframe tbody tr th {\n",
       "        vertical-align: top;\n",
       "    }\n",
       "\n",
       "    .dataframe thead th {\n",
       "        text-align: right;\n",
       "    }\n",
       "</style>\n",
       "<table border=\"1\" class=\"dataframe\">\n",
       "  <thead>\n",
       "    <tr style=\"text-align: right;\">\n",
       "      <th></th>\n",
       "      <th>Time</th>\n",
       "      <th>V1</th>\n",
       "      <th>V2</th>\n",
       "      <th>V3</th>\n",
       "      <th>V4</th>\n",
       "      <th>V5</th>\n",
       "      <th>V6</th>\n",
       "      <th>V7</th>\n",
       "      <th>V8</th>\n",
       "      <th>V9</th>\n",
       "      <th>...</th>\n",
       "      <th>V21</th>\n",
       "      <th>V22</th>\n",
       "      <th>V23</th>\n",
       "      <th>V24</th>\n",
       "      <th>V25</th>\n",
       "      <th>V26</th>\n",
       "      <th>V27</th>\n",
       "      <th>V28</th>\n",
       "      <th>Amount</th>\n",
       "      <th>Class</th>\n",
       "    </tr>\n",
       "  </thead>\n",
       "  <tbody>\n",
       "    <tr>\n",
       "      <th>284802</th>\n",
       "      <td>172786.0</td>\n",
       "      <td>-11.881118</td>\n",
       "      <td>10.071785</td>\n",
       "      <td>-9.834783</td>\n",
       "      <td>-2.066656</td>\n",
       "      <td>-5.364473</td>\n",
       "      <td>-2.606837</td>\n",
       "      <td>-4.918215</td>\n",
       "      <td>7.305334</td>\n",
       "      <td>1.914428</td>\n",
       "      <td>...</td>\n",
       "      <td>0.213454</td>\n",
       "      <td>0.111864</td>\n",
       "      <td>1.014480</td>\n",
       "      <td>-0.509348</td>\n",
       "      <td>1.436807</td>\n",
       "      <td>0.250034</td>\n",
       "      <td>0.943651</td>\n",
       "      <td>0.823731</td>\n",
       "      <td>0.77</td>\n",
       "      <td>0</td>\n",
       "    </tr>\n",
       "    <tr>\n",
       "      <th>284803</th>\n",
       "      <td>172787.0</td>\n",
       "      <td>-0.732789</td>\n",
       "      <td>-0.055080</td>\n",
       "      <td>2.035030</td>\n",
       "      <td>-0.738589</td>\n",
       "      <td>0.868229</td>\n",
       "      <td>1.058415</td>\n",
       "      <td>0.024330</td>\n",
       "      <td>0.294869</td>\n",
       "      <td>0.584800</td>\n",
       "      <td>...</td>\n",
       "      <td>0.214205</td>\n",
       "      <td>0.924384</td>\n",
       "      <td>0.012463</td>\n",
       "      <td>-1.016226</td>\n",
       "      <td>-0.606624</td>\n",
       "      <td>-0.395255</td>\n",
       "      <td>0.068472</td>\n",
       "      <td>-0.053527</td>\n",
       "      <td>24.79</td>\n",
       "      <td>0</td>\n",
       "    </tr>\n",
       "    <tr>\n",
       "      <th>284804</th>\n",
       "      <td>172788.0</td>\n",
       "      <td>1.919565</td>\n",
       "      <td>-0.301254</td>\n",
       "      <td>-3.249640</td>\n",
       "      <td>-0.557828</td>\n",
       "      <td>2.630515</td>\n",
       "      <td>3.031260</td>\n",
       "      <td>-0.296827</td>\n",
       "      <td>0.708417</td>\n",
       "      <td>0.432454</td>\n",
       "      <td>...</td>\n",
       "      <td>0.232045</td>\n",
       "      <td>0.578229</td>\n",
       "      <td>-0.037501</td>\n",
       "      <td>0.640134</td>\n",
       "      <td>0.265745</td>\n",
       "      <td>-0.087371</td>\n",
       "      <td>0.004455</td>\n",
       "      <td>-0.026561</td>\n",
       "      <td>67.88</td>\n",
       "      <td>0</td>\n",
       "    </tr>\n",
       "    <tr>\n",
       "      <th>284805</th>\n",
       "      <td>172788.0</td>\n",
       "      <td>-0.240440</td>\n",
       "      <td>0.530483</td>\n",
       "      <td>0.702510</td>\n",
       "      <td>0.689799</td>\n",
       "      <td>-0.377961</td>\n",
       "      <td>0.623708</td>\n",
       "      <td>-0.686180</td>\n",
       "      <td>0.679145</td>\n",
       "      <td>0.392087</td>\n",
       "      <td>...</td>\n",
       "      <td>0.265245</td>\n",
       "      <td>0.800049</td>\n",
       "      <td>-0.163298</td>\n",
       "      <td>0.123205</td>\n",
       "      <td>-0.569159</td>\n",
       "      <td>0.546668</td>\n",
       "      <td>0.108821</td>\n",
       "      <td>0.104533</td>\n",
       "      <td>10.00</td>\n",
       "      <td>0</td>\n",
       "    </tr>\n",
       "    <tr>\n",
       "      <th>284806</th>\n",
       "      <td>172792.0</td>\n",
       "      <td>-0.533413</td>\n",
       "      <td>-0.189733</td>\n",
       "      <td>0.703337</td>\n",
       "      <td>-0.506271</td>\n",
       "      <td>-0.012546</td>\n",
       "      <td>-0.649617</td>\n",
       "      <td>1.577006</td>\n",
       "      <td>-0.414650</td>\n",
       "      <td>0.486180</td>\n",
       "      <td>...</td>\n",
       "      <td>0.261057</td>\n",
       "      <td>0.643078</td>\n",
       "      <td>0.376777</td>\n",
       "      <td>0.008797</td>\n",
       "      <td>-0.473649</td>\n",
       "      <td>-0.818267</td>\n",
       "      <td>-0.002415</td>\n",
       "      <td>0.013649</td>\n",
       "      <td>217.00</td>\n",
       "      <td>0</td>\n",
       "    </tr>\n",
       "  </tbody>\n",
       "</table>\n",
       "<p>5 rows × 31 columns</p>\n",
       "</div>"
      ],
      "text/plain": [
       "            Time         V1         V2        V3        V4        V5  \\\n",
       "284802  172786.0 -11.881118  10.071785 -9.834783 -2.066656 -5.364473   \n",
       "284803  172787.0  -0.732789  -0.055080  2.035030 -0.738589  0.868229   \n",
       "284804  172788.0   1.919565  -0.301254 -3.249640 -0.557828  2.630515   \n",
       "284805  172788.0  -0.240440   0.530483  0.702510  0.689799 -0.377961   \n",
       "284806  172792.0  -0.533413  -0.189733  0.703337 -0.506271 -0.012546   \n",
       "\n",
       "              V6        V7        V8        V9  ...       V21       V22  \\\n",
       "284802 -2.606837 -4.918215  7.305334  1.914428  ...  0.213454  0.111864   \n",
       "284803  1.058415  0.024330  0.294869  0.584800  ...  0.214205  0.924384   \n",
       "284804  3.031260 -0.296827  0.708417  0.432454  ...  0.232045  0.578229   \n",
       "284805  0.623708 -0.686180  0.679145  0.392087  ...  0.265245  0.800049   \n",
       "284806 -0.649617  1.577006 -0.414650  0.486180  ...  0.261057  0.643078   \n",
       "\n",
       "             V23       V24       V25       V26       V27       V28  Amount  \\\n",
       "284802  1.014480 -0.509348  1.436807  0.250034  0.943651  0.823731    0.77   \n",
       "284803  0.012463 -1.016226 -0.606624 -0.395255  0.068472 -0.053527   24.79   \n",
       "284804 -0.037501  0.640134  0.265745 -0.087371  0.004455 -0.026561   67.88   \n",
       "284805 -0.163298  0.123205 -0.569159  0.546668  0.108821  0.104533   10.00   \n",
       "284806  0.376777  0.008797 -0.473649 -0.818267 -0.002415  0.013649  217.00   \n",
       "\n",
       "        Class  \n",
       "284802      0  \n",
       "284803      0  \n",
       "284804      0  \n",
       "284805      0  \n",
       "284806      0  \n",
       "\n",
       "[5 rows x 31 columns]"
      ]
     },
     "execution_count": 6,
     "metadata": {},
     "output_type": "execute_result"
    }
   ],
   "source": [
    "ccd.tail()"
   ]
  },
  {
   "cell_type": "code",
   "execution_count": 8,
   "metadata": {
    "colab": {
     "base_uri": "https://localhost:8080/",
     "height": 443
    },
    "id": "ZZv3LW2ebwsw",
    "outputId": "1a508b55-de3b-4d42-c39c-a07543701c7e"
   },
   "outputs": [
    {
     "data": {
      "text/plain": [
       "Time      0\n",
       "V1        0\n",
       "V2        0\n",
       "V3        0\n",
       "V4        0\n",
       "V5        0\n",
       "V6        0\n",
       "V7        0\n",
       "V8        0\n",
       "V9        0\n",
       "V10       0\n",
       "V11       0\n",
       "V12       0\n",
       "V13       0\n",
       "V14       0\n",
       "V15       0\n",
       "V16       0\n",
       "V17       0\n",
       "V18       0\n",
       "V19       0\n",
       "V20       0\n",
       "V21       0\n",
       "V22       0\n",
       "V23       0\n",
       "V24       0\n",
       "V25       0\n",
       "V26       0\n",
       "V27       0\n",
       "V28       0\n",
       "Amount    0\n",
       "Class     0\n",
       "dtype: int64"
      ]
     },
     "execution_count": 8,
     "metadata": {},
     "output_type": "execute_result"
    }
   ],
   "source": [
    "ccd.isnull().sum()"
   ]
  },
  {
   "cell_type": "code",
   "execution_count": 9,
   "metadata": {
    "id": "An5OSpKIb0pk"
   },
   "outputs": [
    {
     "data": {
      "text/plain": [
       "0    284315\n",
       "1       492\n",
       "Name: Class, dtype: int64"
      ]
     },
     "execution_count": 9,
     "metadata": {},
     "output_type": "execute_result"
    }
   ],
   "source": [
    "# Distribution of the two classes\n",
    "ccd[\"Class\"].value_counts()"
   ]
  },
  {
   "cell_type": "markdown",
   "metadata": {},
   "source": [
    "This is highly inbalanced Dataset"
   ]
  },
  {
   "cell_type": "code",
   "execution_count": 10,
   "metadata": {},
   "outputs": [],
   "source": [
    "# separating the legit and fraudulent transactions\n",
    "legit = ccd[ccd.Class==0]\n",
    "fraud = ccd[ccd.Class==1]"
   ]
  },
  {
   "cell_type": "code",
   "execution_count": 14,
   "metadata": {},
   "outputs": [
    {
     "data": {
      "text/plain": [
       "(284315, 31)"
      ]
     },
     "execution_count": 14,
     "metadata": {},
     "output_type": "execute_result"
    }
   ],
   "source": [
    "legit.shape"
   ]
  },
  {
   "cell_type": "code",
   "execution_count": 16,
   "metadata": {},
   "outputs": [
    {
     "data": {
      "text/plain": [
       "(492, 31)"
      ]
     },
     "execution_count": 16,
     "metadata": {},
     "output_type": "execute_result"
    }
   ],
   "source": [
    "fraud.shape"
   ]
  },
  {
   "cell_type": "markdown",
   "metadata": {},
   "source": [
    "<b>Under-sampling</b>"
   ]
  },
  {
   "cell_type": "markdown",
   "metadata": {},
   "source": [
    "Building a sample dataset containing similar distribution of legit and fraudulent basically will be creating 492 legit values in random order "
   ]
  },
  {
   "cell_type": "code",
   "execution_count": 17,
   "metadata": {},
   "outputs": [],
   "source": [
    "legit_sample = legit.sample(n=492)"
   ]
  },
  {
   "cell_type": "code",
   "execution_count": 18,
   "metadata": {},
   "outputs": [
    {
     "data": {
      "text/plain": [
       "(492, 31)"
      ]
     },
     "execution_count": 18,
     "metadata": {},
     "output_type": "execute_result"
    }
   ],
   "source": [
    "legit_sample.shape"
   ]
  },
  {
   "cell_type": "markdown",
   "metadata": {},
   "source": [
    "#### Concatenate the two data Frame"
   ]
  },
  {
   "cell_type": "code",
   "execution_count": 22,
   "metadata": {},
   "outputs": [],
   "source": [
    "new_dataset = pd.concat([legit_sample,fraud],axis=0) #axis = 0 means one below the other"
   ]
  },
  {
   "cell_type": "code",
   "execution_count": 23,
   "metadata": {},
   "outputs": [
    {
     "data": {
      "text/html": [
       "<div>\n",
       "<style scoped>\n",
       "    .dataframe tbody tr th:only-of-type {\n",
       "        vertical-align: middle;\n",
       "    }\n",
       "\n",
       "    .dataframe tbody tr th {\n",
       "        vertical-align: top;\n",
       "    }\n",
       "\n",
       "    .dataframe thead th {\n",
       "        text-align: right;\n",
       "    }\n",
       "</style>\n",
       "<table border=\"1\" class=\"dataframe\">\n",
       "  <thead>\n",
       "    <tr style=\"text-align: right;\">\n",
       "      <th></th>\n",
       "      <th>Time</th>\n",
       "      <th>V1</th>\n",
       "      <th>V2</th>\n",
       "      <th>V3</th>\n",
       "      <th>V4</th>\n",
       "      <th>V5</th>\n",
       "      <th>V6</th>\n",
       "      <th>V7</th>\n",
       "      <th>V8</th>\n",
       "      <th>V9</th>\n",
       "      <th>...</th>\n",
       "      <th>V21</th>\n",
       "      <th>V22</th>\n",
       "      <th>V23</th>\n",
       "      <th>V24</th>\n",
       "      <th>V25</th>\n",
       "      <th>V26</th>\n",
       "      <th>V27</th>\n",
       "      <th>V28</th>\n",
       "      <th>Amount</th>\n",
       "      <th>Class</th>\n",
       "    </tr>\n",
       "  </thead>\n",
       "  <tbody>\n",
       "    <tr>\n",
       "      <th>222191</th>\n",
       "      <td>142867.0</td>\n",
       "      <td>2.038695</td>\n",
       "      <td>0.126423</td>\n",
       "      <td>-2.718397</td>\n",
       "      <td>0.510990</td>\n",
       "      <td>1.005537</td>\n",
       "      <td>-0.165374</td>\n",
       "      <td>-0.037433</td>\n",
       "      <td>0.069389</td>\n",
       "      <td>0.719087</td>\n",
       "      <td>...</td>\n",
       "      <td>-0.038229</td>\n",
       "      <td>0.084955</td>\n",
       "      <td>-0.110757</td>\n",
       "      <td>-0.385597</td>\n",
       "      <td>0.248521</td>\n",
       "      <td>0.737069</td>\n",
       "      <td>-0.053123</td>\n",
       "      <td>-0.027004</td>\n",
       "      <td>12.31</td>\n",
       "      <td>0</td>\n",
       "    </tr>\n",
       "    <tr>\n",
       "      <th>130188</th>\n",
       "      <td>79303.0</td>\n",
       "      <td>-0.471913</td>\n",
       "      <td>0.312063</td>\n",
       "      <td>1.676132</td>\n",
       "      <td>-1.629811</td>\n",
       "      <td>-1.027471</td>\n",
       "      <td>0.172603</td>\n",
       "      <td>-1.435741</td>\n",
       "      <td>-2.370561</td>\n",
       "      <td>1.327921</td>\n",
       "      <td>...</td>\n",
       "      <td>-1.305387</td>\n",
       "      <td>0.357581</td>\n",
       "      <td>-0.199943</td>\n",
       "      <td>0.042523</td>\n",
       "      <td>1.358672</td>\n",
       "      <td>-0.644263</td>\n",
       "      <td>0.071781</td>\n",
       "      <td>0.173892</td>\n",
       "      <td>1.00</td>\n",
       "      <td>0</td>\n",
       "    </tr>\n",
       "    <tr>\n",
       "      <th>30808</th>\n",
       "      <td>36088.0</td>\n",
       "      <td>1.157417</td>\n",
       "      <td>-0.671235</td>\n",
       "      <td>0.778131</td>\n",
       "      <td>-1.301657</td>\n",
       "      <td>-1.345906</td>\n",
       "      <td>-0.909646</td>\n",
       "      <td>-0.529249</td>\n",
       "      <td>-0.123904</td>\n",
       "      <td>1.890423</td>\n",
       "      <td>...</td>\n",
       "      <td>0.162991</td>\n",
       "      <td>0.648370</td>\n",
       "      <td>-0.175216</td>\n",
       "      <td>0.476083</td>\n",
       "      <td>0.515708</td>\n",
       "      <td>0.005568</td>\n",
       "      <td>0.047156</td>\n",
       "      <td>0.036512</td>\n",
       "      <td>64.05</td>\n",
       "      <td>0</td>\n",
       "    </tr>\n",
       "    <tr>\n",
       "      <th>41534</th>\n",
       "      <td>40726.0</td>\n",
       "      <td>1.216262</td>\n",
       "      <td>-0.136426</td>\n",
       "      <td>0.608016</td>\n",
       "      <td>0.312946</td>\n",
       "      <td>-0.768570</td>\n",
       "      <td>-0.763838</td>\n",
       "      <td>-0.141747</td>\n",
       "      <td>-0.129656</td>\n",
       "      <td>0.607067</td>\n",
       "      <td>...</td>\n",
       "      <td>-0.312112</td>\n",
       "      <td>-0.774381</td>\n",
       "      <td>0.088396</td>\n",
       "      <td>0.435926</td>\n",
       "      <td>0.194857</td>\n",
       "      <td>0.820469</td>\n",
       "      <td>-0.067032</td>\n",
       "      <td>0.010436</td>\n",
       "      <td>25.00</td>\n",
       "      <td>0</td>\n",
       "    </tr>\n",
       "    <tr>\n",
       "      <th>112293</th>\n",
       "      <td>72598.0</td>\n",
       "      <td>1.179801</td>\n",
       "      <td>-0.703133</td>\n",
       "      <td>0.387015</td>\n",
       "      <td>-0.423004</td>\n",
       "      <td>-1.289633</td>\n",
       "      <td>-1.257929</td>\n",
       "      <td>-0.201107</td>\n",
       "      <td>-0.314534</td>\n",
       "      <td>-0.970565</td>\n",
       "      <td>...</td>\n",
       "      <td>-0.505813</td>\n",
       "      <td>-1.224543</td>\n",
       "      <td>0.140069</td>\n",
       "      <td>0.714966</td>\n",
       "      <td>-0.013941</td>\n",
       "      <td>0.785213</td>\n",
       "      <td>-0.077665</td>\n",
       "      <td>0.031576</td>\n",
       "      <td>107.86</td>\n",
       "      <td>0</td>\n",
       "    </tr>\n",
       "    <tr>\n",
       "      <th>...</th>\n",
       "      <td>...</td>\n",
       "      <td>...</td>\n",
       "      <td>...</td>\n",
       "      <td>...</td>\n",
       "      <td>...</td>\n",
       "      <td>...</td>\n",
       "      <td>...</td>\n",
       "      <td>...</td>\n",
       "      <td>...</td>\n",
       "      <td>...</td>\n",
       "      <td>...</td>\n",
       "      <td>...</td>\n",
       "      <td>...</td>\n",
       "      <td>...</td>\n",
       "      <td>...</td>\n",
       "      <td>...</td>\n",
       "      <td>...</td>\n",
       "      <td>...</td>\n",
       "      <td>...</td>\n",
       "      <td>...</td>\n",
       "      <td>...</td>\n",
       "    </tr>\n",
       "    <tr>\n",
       "      <th>279863</th>\n",
       "      <td>169142.0</td>\n",
       "      <td>-1.927883</td>\n",
       "      <td>1.125653</td>\n",
       "      <td>-4.518331</td>\n",
       "      <td>1.749293</td>\n",
       "      <td>-1.566487</td>\n",
       "      <td>-2.010494</td>\n",
       "      <td>-0.882850</td>\n",
       "      <td>0.697211</td>\n",
       "      <td>-2.064945</td>\n",
       "      <td>...</td>\n",
       "      <td>0.778584</td>\n",
       "      <td>-0.319189</td>\n",
       "      <td>0.639419</td>\n",
       "      <td>-0.294885</td>\n",
       "      <td>0.537503</td>\n",
       "      <td>0.788395</td>\n",
       "      <td>0.292680</td>\n",
       "      <td>0.147968</td>\n",
       "      <td>390.00</td>\n",
       "      <td>1</td>\n",
       "    </tr>\n",
       "    <tr>\n",
       "      <th>280143</th>\n",
       "      <td>169347.0</td>\n",
       "      <td>1.378559</td>\n",
       "      <td>1.289381</td>\n",
       "      <td>-5.004247</td>\n",
       "      <td>1.411850</td>\n",
       "      <td>0.442581</td>\n",
       "      <td>-1.326536</td>\n",
       "      <td>-1.413170</td>\n",
       "      <td>0.248525</td>\n",
       "      <td>-1.127396</td>\n",
       "      <td>...</td>\n",
       "      <td>0.370612</td>\n",
       "      <td>0.028234</td>\n",
       "      <td>-0.145640</td>\n",
       "      <td>-0.081049</td>\n",
       "      <td>0.521875</td>\n",
       "      <td>0.739467</td>\n",
       "      <td>0.389152</td>\n",
       "      <td>0.186637</td>\n",
       "      <td>0.76</td>\n",
       "      <td>1</td>\n",
       "    </tr>\n",
       "    <tr>\n",
       "      <th>280149</th>\n",
       "      <td>169351.0</td>\n",
       "      <td>-0.676143</td>\n",
       "      <td>1.126366</td>\n",
       "      <td>-2.213700</td>\n",
       "      <td>0.468308</td>\n",
       "      <td>-1.120541</td>\n",
       "      <td>-0.003346</td>\n",
       "      <td>-2.234739</td>\n",
       "      <td>1.210158</td>\n",
       "      <td>-0.652250</td>\n",
       "      <td>...</td>\n",
       "      <td>0.751826</td>\n",
       "      <td>0.834108</td>\n",
       "      <td>0.190944</td>\n",
       "      <td>0.032070</td>\n",
       "      <td>-0.739695</td>\n",
       "      <td>0.471111</td>\n",
       "      <td>0.385107</td>\n",
       "      <td>0.194361</td>\n",
       "      <td>77.89</td>\n",
       "      <td>1</td>\n",
       "    </tr>\n",
       "    <tr>\n",
       "      <th>281144</th>\n",
       "      <td>169966.0</td>\n",
       "      <td>-3.113832</td>\n",
       "      <td>0.585864</td>\n",
       "      <td>-5.399730</td>\n",
       "      <td>1.817092</td>\n",
       "      <td>-0.840618</td>\n",
       "      <td>-2.943548</td>\n",
       "      <td>-2.208002</td>\n",
       "      <td>1.058733</td>\n",
       "      <td>-1.632333</td>\n",
       "      <td>...</td>\n",
       "      <td>0.583276</td>\n",
       "      <td>-0.269209</td>\n",
       "      <td>-0.456108</td>\n",
       "      <td>-0.183659</td>\n",
       "      <td>-0.328168</td>\n",
       "      <td>0.606116</td>\n",
       "      <td>0.884876</td>\n",
       "      <td>-0.253700</td>\n",
       "      <td>245.00</td>\n",
       "      <td>1</td>\n",
       "    </tr>\n",
       "    <tr>\n",
       "      <th>281674</th>\n",
       "      <td>170348.0</td>\n",
       "      <td>1.991976</td>\n",
       "      <td>0.158476</td>\n",
       "      <td>-2.583441</td>\n",
       "      <td>0.408670</td>\n",
       "      <td>1.151147</td>\n",
       "      <td>-0.096695</td>\n",
       "      <td>0.223050</td>\n",
       "      <td>-0.068384</td>\n",
       "      <td>0.577829</td>\n",
       "      <td>...</td>\n",
       "      <td>-0.164350</td>\n",
       "      <td>-0.295135</td>\n",
       "      <td>-0.072173</td>\n",
       "      <td>-0.450261</td>\n",
       "      <td>0.313267</td>\n",
       "      <td>-0.289617</td>\n",
       "      <td>0.002988</td>\n",
       "      <td>-0.015309</td>\n",
       "      <td>42.53</td>\n",
       "      <td>1</td>\n",
       "    </tr>\n",
       "  </tbody>\n",
       "</table>\n",
       "<p>984 rows × 31 columns</p>\n",
       "</div>"
      ],
      "text/plain": [
       "            Time        V1        V2        V3        V4        V5        V6  \\\n",
       "222191  142867.0  2.038695  0.126423 -2.718397  0.510990  1.005537 -0.165374   \n",
       "130188   79303.0 -0.471913  0.312063  1.676132 -1.629811 -1.027471  0.172603   \n",
       "30808    36088.0  1.157417 -0.671235  0.778131 -1.301657 -1.345906 -0.909646   \n",
       "41534    40726.0  1.216262 -0.136426  0.608016  0.312946 -0.768570 -0.763838   \n",
       "112293   72598.0  1.179801 -0.703133  0.387015 -0.423004 -1.289633 -1.257929   \n",
       "...          ...       ...       ...       ...       ...       ...       ...   \n",
       "279863  169142.0 -1.927883  1.125653 -4.518331  1.749293 -1.566487 -2.010494   \n",
       "280143  169347.0  1.378559  1.289381 -5.004247  1.411850  0.442581 -1.326536   \n",
       "280149  169351.0 -0.676143  1.126366 -2.213700  0.468308 -1.120541 -0.003346   \n",
       "281144  169966.0 -3.113832  0.585864 -5.399730  1.817092 -0.840618 -2.943548   \n",
       "281674  170348.0  1.991976  0.158476 -2.583441  0.408670  1.151147 -0.096695   \n",
       "\n",
       "              V7        V8        V9  ...       V21       V22       V23  \\\n",
       "222191 -0.037433  0.069389  0.719087  ... -0.038229  0.084955 -0.110757   \n",
       "130188 -1.435741 -2.370561  1.327921  ... -1.305387  0.357581 -0.199943   \n",
       "30808  -0.529249 -0.123904  1.890423  ...  0.162991  0.648370 -0.175216   \n",
       "41534  -0.141747 -0.129656  0.607067  ... -0.312112 -0.774381  0.088396   \n",
       "112293 -0.201107 -0.314534 -0.970565  ... -0.505813 -1.224543  0.140069   \n",
       "...          ...       ...       ...  ...       ...       ...       ...   \n",
       "279863 -0.882850  0.697211 -2.064945  ...  0.778584 -0.319189  0.639419   \n",
       "280143 -1.413170  0.248525 -1.127396  ...  0.370612  0.028234 -0.145640   \n",
       "280149 -2.234739  1.210158 -0.652250  ...  0.751826  0.834108  0.190944   \n",
       "281144 -2.208002  1.058733 -1.632333  ...  0.583276 -0.269209 -0.456108   \n",
       "281674  0.223050 -0.068384  0.577829  ... -0.164350 -0.295135 -0.072173   \n",
       "\n",
       "             V24       V25       V26       V27       V28  Amount  Class  \n",
       "222191 -0.385597  0.248521  0.737069 -0.053123 -0.027004   12.31      0  \n",
       "130188  0.042523  1.358672 -0.644263  0.071781  0.173892    1.00      0  \n",
       "30808   0.476083  0.515708  0.005568  0.047156  0.036512   64.05      0  \n",
       "41534   0.435926  0.194857  0.820469 -0.067032  0.010436   25.00      0  \n",
       "112293  0.714966 -0.013941  0.785213 -0.077665  0.031576  107.86      0  \n",
       "...          ...       ...       ...       ...       ...     ...    ...  \n",
       "279863 -0.294885  0.537503  0.788395  0.292680  0.147968  390.00      1  \n",
       "280143 -0.081049  0.521875  0.739467  0.389152  0.186637    0.76      1  \n",
       "280149  0.032070 -0.739695  0.471111  0.385107  0.194361   77.89      1  \n",
       "281144 -0.183659 -0.328168  0.606116  0.884876 -0.253700  245.00      1  \n",
       "281674 -0.450261  0.313267 -0.289617  0.002988 -0.015309   42.53      1  \n",
       "\n",
       "[984 rows x 31 columns]"
      ]
     },
     "execution_count": 23,
     "metadata": {},
     "output_type": "execute_result"
    }
   ],
   "source": [
    "new_dataset"
   ]
  },
  {
   "cell_type": "code",
   "execution_count": 24,
   "metadata": {},
   "outputs": [
    {
     "data": {
      "text/plain": [
       "0    492\n",
       "1    492\n",
       "Name: Class, dtype: int64"
      ]
     },
     "execution_count": 24,
     "metadata": {},
     "output_type": "execute_result"
    }
   ],
   "source": [
    "new_dataset[\"Class\"].value_counts()"
   ]
  },
  {
   "cell_type": "markdown",
   "metadata": {},
   "source": [
    "## FEATURE EXTRACTION OF TEXT DATA : Tf-idf Vectorizer"
   ]
  },
  {
   "cell_type": "markdown",
   "metadata": {},
   "source": [
    "Conversion of text data to numerical data is Feature extraction"
   ]
  },
  {
   "attachments": {
    "Screenshot%202023-08-30%20234515.png": {
     "image/png": "[encoded data removed]"
    }
   },
   "cell_type": "markdown",
   "metadata": {},
   "source": [
    "![Screenshot%202023-08-30%20234515.png](attachment:Screenshot%202023-08-30%20234515.png)"
   ]
  },
  {
   "attachments": {
    "Screenshot%202023-08-30%20235211.png": {
     "image/png": "[encoded data removed]"
    }
   },
   "cell_type": "markdown",
   "metadata": {},
   "source": [
    "![Screenshot%202023-08-30%20235211.png](attachment:Screenshot%202023-08-30%20235211.png)"
   ]
  },
  {
   "attachments": {
    "Screenshot%202023-08-30%20234929.png": {
     "image/png": "[encoded data removed]"
    }
   },
   "cell_type": "markdown",
   "metadata": {},
   "source": [
    "![Screenshot%202023-08-30%20234929.png](attachment:Screenshot%202023-08-30%20234929.png)"
   ]
  },
  {
   "cell_type": "code",
   "execution_count": 25,
   "metadata": {},
   "outputs": [],
   "source": [
    "#Watch fake new predictor project"
   ]
  },
  {
   "cell_type": "markdown",
   "metadata": {},
   "source": [
    "#  NUMERICAL DATA SET PRE - PROCESSING"
   ]
  },
  {
   "cell_type": "markdown",
   "metadata": {},
   "source": [
    " Importing the dependencies"
   ]
  },
  {
   "cell_type": "code",
   "execution_count": 83,
   "metadata": {},
   "outputs": [],
   "source": [
    "import numpy as np\n",
    "import pandas as pd\n",
    "from sklearn.preprocessing import StandardScaler\n",
    "from sklearn.model_selection import train_test_split"
   ]
  },
  {
   "cell_type": "markdown",
   "metadata": {},
   "source": [
    "Data Collection & Pre-Processing"
   ]
  },
  {
   "cell_type": "code",
   "execution_count": 84,
   "metadata": {},
   "outputs": [],
   "source": [
    "# loading the data from csv file to a pandas dataframe\n",
    "dd = pd.read_csv(\"C:\\\\Users\\\\viswa\\\\Data Science and ML\\\\Datasets\\\\diabetes.csv\")"
   ]
  },
  {
   "cell_type": "code",
   "execution_count": 85,
   "metadata": {},
   "outputs": [
    {
     "data": {
      "text/html": [
       "<div>\n",
       "<style scoped>\n",
       "    .dataframe tbody tr th:only-of-type {\n",
       "        vertical-align: middle;\n",
       "    }\n",
       "\n",
       "    .dataframe tbody tr th {\n",
       "        vertical-align: top;\n",
       "    }\n",
       "\n",
       "    .dataframe thead th {\n",
       "        text-align: right;\n",
       "    }\n",
       "</style>\n",
       "<table border=\"1\" class=\"dataframe\">\n",
       "  <thead>\n",
       "    <tr style=\"text-align: right;\">\n",
       "      <th></th>\n",
       "      <th>Pregnancies</th>\n",
       "      <th>Glucose</th>\n",
       "      <th>BloodPressure</th>\n",
       "      <th>SkinThickness</th>\n",
       "      <th>Insulin</th>\n",
       "      <th>BMI</th>\n",
       "      <th>DiabetesPedigreeFunction</th>\n",
       "      <th>Age</th>\n",
       "      <th>Outcome</th>\n",
       "    </tr>\n",
       "  </thead>\n",
       "  <tbody>\n",
       "    <tr>\n",
       "      <th>0</th>\n",
       "      <td>6</td>\n",
       "      <td>148</td>\n",
       "      <td>72</td>\n",
       "      <td>35</td>\n",
       "      <td>0</td>\n",
       "      <td>33.6</td>\n",
       "      <td>0.627</td>\n",
       "      <td>50</td>\n",
       "      <td>1</td>\n",
       "    </tr>\n",
       "    <tr>\n",
       "      <th>1</th>\n",
       "      <td>1</td>\n",
       "      <td>85</td>\n",
       "      <td>66</td>\n",
       "      <td>29</td>\n",
       "      <td>0</td>\n",
       "      <td>26.6</td>\n",
       "      <td>0.351</td>\n",
       "      <td>31</td>\n",
       "      <td>0</td>\n",
       "    </tr>\n",
       "    <tr>\n",
       "      <th>2</th>\n",
       "      <td>8</td>\n",
       "      <td>183</td>\n",
       "      <td>64</td>\n",
       "      <td>0</td>\n",
       "      <td>0</td>\n",
       "      <td>23.3</td>\n",
       "      <td>0.672</td>\n",
       "      <td>32</td>\n",
       "      <td>1</td>\n",
       "    </tr>\n",
       "    <tr>\n",
       "      <th>3</th>\n",
       "      <td>1</td>\n",
       "      <td>89</td>\n",
       "      <td>66</td>\n",
       "      <td>23</td>\n",
       "      <td>94</td>\n",
       "      <td>28.1</td>\n",
       "      <td>0.167</td>\n",
       "      <td>21</td>\n",
       "      <td>0</td>\n",
       "    </tr>\n",
       "    <tr>\n",
       "      <th>4</th>\n",
       "      <td>0</td>\n",
       "      <td>137</td>\n",
       "      <td>40</td>\n",
       "      <td>35</td>\n",
       "      <td>168</td>\n",
       "      <td>43.1</td>\n",
       "      <td>2.288</td>\n",
       "      <td>33</td>\n",
       "      <td>1</td>\n",
       "    </tr>\n",
       "  </tbody>\n",
       "</table>\n",
       "</div>"
      ],
      "text/plain": [
       "   Pregnancies  Glucose  BloodPressure  SkinThickness  Insulin   BMI  \\\n",
       "0            6      148             72             35        0  33.6   \n",
       "1            1       85             66             29        0  26.6   \n",
       "2            8      183             64              0        0  23.3   \n",
       "3            1       89             66             23       94  28.1   \n",
       "4            0      137             40             35      168  43.1   \n",
       "\n",
       "   DiabetesPedigreeFunction  Age  Outcome  \n",
       "0                     0.627   50        1  \n",
       "1                     0.351   31        0  \n",
       "2                     0.672   32        1  \n",
       "3                     0.167   21        0  \n",
       "4                     2.288   33        1  "
      ]
     },
     "execution_count": 85,
     "metadata": {},
     "output_type": "execute_result"
    }
   ],
   "source": [
    "dd.head()"
   ]
  },
  {
   "cell_type": "code",
   "execution_count": 86,
   "metadata": {},
   "outputs": [
    {
     "data": {
      "text/plain": [
       "(768, 9)"
      ]
     },
     "execution_count": 86,
     "metadata": {},
     "output_type": "execute_result"
    }
   ],
   "source": [
    "# Number of rows and columns\n",
    "dd.shape"
   ]
  },
  {
   "cell_type": "code",
   "execution_count": 87,
   "metadata": {},
   "outputs": [
    {
     "data": {
      "text/plain": [
       "Pregnancies                 0\n",
       "Glucose                     0\n",
       "BloodPressure               0\n",
       "SkinThickness               0\n",
       "Insulin                     0\n",
       "BMI                         0\n",
       "DiabetesPedigreeFunction    0\n",
       "Age                         0\n",
       "Outcome                     0\n",
       "dtype: int64"
      ]
     },
     "execution_count": 87,
     "metadata": {},
     "output_type": "execute_result"
    }
   ],
   "source": [
    "dd.isnull().sum()"
   ]
  },
  {
   "cell_type": "code",
   "execution_count": 88,
   "metadata": {},
   "outputs": [
    {
     "data": {
      "text/html": [
       "<div>\n",
       "<style scoped>\n",
       "    .dataframe tbody tr th:only-of-type {\n",
       "        vertical-align: middle;\n",
       "    }\n",
       "\n",
       "    .dataframe tbody tr th {\n",
       "        vertical-align: top;\n",
       "    }\n",
       "\n",
       "    .dataframe thead th {\n",
       "        text-align: right;\n",
       "    }\n",
       "</style>\n",
       "<table border=\"1\" class=\"dataframe\">\n",
       "  <thead>\n",
       "    <tr style=\"text-align: right;\">\n",
       "      <th></th>\n",
       "      <th>Pregnancies</th>\n",
       "      <th>Glucose</th>\n",
       "      <th>BloodPressure</th>\n",
       "      <th>SkinThickness</th>\n",
       "      <th>Insulin</th>\n",
       "      <th>BMI</th>\n",
       "      <th>DiabetesPedigreeFunction</th>\n",
       "      <th>Age</th>\n",
       "      <th>Outcome</th>\n",
       "    </tr>\n",
       "  </thead>\n",
       "  <tbody>\n",
       "    <tr>\n",
       "      <th>count</th>\n",
       "      <td>768.000000</td>\n",
       "      <td>768.000000</td>\n",
       "      <td>768.000000</td>\n",
       "      <td>768.000000</td>\n",
       "      <td>768.000000</td>\n",
       "      <td>768.000000</td>\n",
       "      <td>768.000000</td>\n",
       "      <td>768.000000</td>\n",
       "      <td>768.000000</td>\n",
       "    </tr>\n",
       "    <tr>\n",
       "      <th>mean</th>\n",
       "      <td>3.845052</td>\n",
       "      <td>120.894531</td>\n",
       "      <td>69.105469</td>\n",
       "      <td>20.536458</td>\n",
       "      <td>79.799479</td>\n",
       "      <td>31.992578</td>\n",
       "      <td>0.471876</td>\n",
       "      <td>33.240885</td>\n",
       "      <td>0.348958</td>\n",
       "    </tr>\n",
       "    <tr>\n",
       "      <th>std</th>\n",
       "      <td>3.369578</td>\n",
       "      <td>31.972618</td>\n",
       "      <td>19.355807</td>\n",
       "      <td>15.952218</td>\n",
       "      <td>115.244002</td>\n",
       "      <td>7.884160</td>\n",
       "      <td>0.331329</td>\n",
       "      <td>11.760232</td>\n",
       "      <td>0.476951</td>\n",
       "    </tr>\n",
       "    <tr>\n",
       "      <th>min</th>\n",
       "      <td>0.000000</td>\n",
       "      <td>0.000000</td>\n",
       "      <td>0.000000</td>\n",
       "      <td>0.000000</td>\n",
       "      <td>0.000000</td>\n",
       "      <td>0.000000</td>\n",
       "      <td>0.078000</td>\n",
       "      <td>21.000000</td>\n",
       "      <td>0.000000</td>\n",
       "    </tr>\n",
       "    <tr>\n",
       "      <th>25%</th>\n",
       "      <td>1.000000</td>\n",
       "      <td>99.000000</td>\n",
       "      <td>62.000000</td>\n",
       "      <td>0.000000</td>\n",
       "      <td>0.000000</td>\n",
       "      <td>27.300000</td>\n",
       "      <td>0.243750</td>\n",
       "      <td>24.000000</td>\n",
       "      <td>0.000000</td>\n",
       "    </tr>\n",
       "    <tr>\n",
       "      <th>50%</th>\n",
       "      <td>3.000000</td>\n",
       "      <td>117.000000</td>\n",
       "      <td>72.000000</td>\n",
       "      <td>23.000000</td>\n",
       "      <td>30.500000</td>\n",
       "      <td>32.000000</td>\n",
       "      <td>0.372500</td>\n",
       "      <td>29.000000</td>\n",
       "      <td>0.000000</td>\n",
       "    </tr>\n",
       "    <tr>\n",
       "      <th>75%</th>\n",
       "      <td>6.000000</td>\n",
       "      <td>140.250000</td>\n",
       "      <td>80.000000</td>\n",
       "      <td>32.000000</td>\n",
       "      <td>127.250000</td>\n",
       "      <td>36.600000</td>\n",
       "      <td>0.626250</td>\n",
       "      <td>41.000000</td>\n",
       "      <td>1.000000</td>\n",
       "    </tr>\n",
       "    <tr>\n",
       "      <th>max</th>\n",
       "      <td>17.000000</td>\n",
       "      <td>199.000000</td>\n",
       "      <td>122.000000</td>\n",
       "      <td>99.000000</td>\n",
       "      <td>846.000000</td>\n",
       "      <td>67.100000</td>\n",
       "      <td>2.420000</td>\n",
       "      <td>81.000000</td>\n",
       "      <td>1.000000</td>\n",
       "    </tr>\n",
       "  </tbody>\n",
       "</table>\n",
       "</div>"
      ],
      "text/plain": [
       "       Pregnancies     Glucose  BloodPressure  SkinThickness     Insulin  \\\n",
       "count   768.000000  768.000000     768.000000     768.000000  768.000000   \n",
       "mean      3.845052  120.894531      69.105469      20.536458   79.799479   \n",
       "std       3.369578   31.972618      19.355807      15.952218  115.244002   \n",
       "min       0.000000    0.000000       0.000000       0.000000    0.000000   \n",
       "25%       1.000000   99.000000      62.000000       0.000000    0.000000   \n",
       "50%       3.000000  117.000000      72.000000      23.000000   30.500000   \n",
       "75%       6.000000  140.250000      80.000000      32.000000  127.250000   \n",
       "max      17.000000  199.000000     122.000000      99.000000  846.000000   \n",
       "\n",
       "              BMI  DiabetesPedigreeFunction         Age     Outcome  \n",
       "count  768.000000                768.000000  768.000000  768.000000  \n",
       "mean    31.992578                  0.471876   33.240885    0.348958  \n",
       "std      7.884160                  0.331329   11.760232    0.476951  \n",
       "min      0.000000                  0.078000   21.000000    0.000000  \n",
       "25%     27.300000                  0.243750   24.000000    0.000000  \n",
       "50%     32.000000                  0.372500   29.000000    0.000000  \n",
       "75%     36.600000                  0.626250   41.000000    1.000000  \n",
       "max     67.100000                  2.420000   81.000000    1.000000  "
      ]
     },
     "execution_count": 88,
     "metadata": {},
     "output_type": "execute_result"
    }
   ],
   "source": [
    "dd.describe() #gives the statistical data"
   ]
  },
  {
   "cell_type": "markdown",
   "metadata": {},
   "source": [
    "Split the data into features and targets"
   ]
  },
  {
   "cell_type": "code",
   "execution_count": 89,
   "metadata": {},
   "outputs": [],
   "source": [
    "x=dd.drop(columns=\"Outcome\",axis=1) # 1 for column and 0 for row\n",
    "y=dd[\"Outcome\"]"
   ]
  },
  {
   "cell_type": "code",
   "execution_count": 90,
   "metadata": {},
   "outputs": [
    {
     "data": {
      "text/html": [
       "<div>\n",
       "<style scoped>\n",
       "    .dataframe tbody tr th:only-of-type {\n",
       "        vertical-align: middle;\n",
       "    }\n",
       "\n",
       "    .dataframe tbody tr th {\n",
       "        vertical-align: top;\n",
       "    }\n",
       "\n",
       "    .dataframe thead th {\n",
       "        text-align: right;\n",
       "    }\n",
       "</style>\n",
       "<table border=\"1\" class=\"dataframe\">\n",
       "  <thead>\n",
       "    <tr style=\"text-align: right;\">\n",
       "      <th></th>\n",
       "      <th>Pregnancies</th>\n",
       "      <th>Glucose</th>\n",
       "      <th>BloodPressure</th>\n",
       "      <th>SkinThickness</th>\n",
       "      <th>Insulin</th>\n",
       "      <th>BMI</th>\n",
       "      <th>DiabetesPedigreeFunction</th>\n",
       "      <th>Age</th>\n",
       "    </tr>\n",
       "  </thead>\n",
       "  <tbody>\n",
       "    <tr>\n",
       "      <th>0</th>\n",
       "      <td>6</td>\n",
       "      <td>148</td>\n",
       "      <td>72</td>\n",
       "      <td>35</td>\n",
       "      <td>0</td>\n",
       "      <td>33.6</td>\n",
       "      <td>0.627</td>\n",
       "      <td>50</td>\n",
       "    </tr>\n",
       "    <tr>\n",
       "      <th>1</th>\n",
       "      <td>1</td>\n",
       "      <td>85</td>\n",
       "      <td>66</td>\n",
       "      <td>29</td>\n",
       "      <td>0</td>\n",
       "      <td>26.6</td>\n",
       "      <td>0.351</td>\n",
       "      <td>31</td>\n",
       "    </tr>\n",
       "    <tr>\n",
       "      <th>2</th>\n",
       "      <td>8</td>\n",
       "      <td>183</td>\n",
       "      <td>64</td>\n",
       "      <td>0</td>\n",
       "      <td>0</td>\n",
       "      <td>23.3</td>\n",
       "      <td>0.672</td>\n",
       "      <td>32</td>\n",
       "    </tr>\n",
       "    <tr>\n",
       "      <th>3</th>\n",
       "      <td>1</td>\n",
       "      <td>89</td>\n",
       "      <td>66</td>\n",
       "      <td>23</td>\n",
       "      <td>94</td>\n",
       "      <td>28.1</td>\n",
       "      <td>0.167</td>\n",
       "      <td>21</td>\n",
       "    </tr>\n",
       "    <tr>\n",
       "      <th>4</th>\n",
       "      <td>0</td>\n",
       "      <td>137</td>\n",
       "      <td>40</td>\n",
       "      <td>35</td>\n",
       "      <td>168</td>\n",
       "      <td>43.1</td>\n",
       "      <td>2.288</td>\n",
       "      <td>33</td>\n",
       "    </tr>\n",
       "    <tr>\n",
       "      <th>...</th>\n",
       "      <td>...</td>\n",
       "      <td>...</td>\n",
       "      <td>...</td>\n",
       "      <td>...</td>\n",
       "      <td>...</td>\n",
       "      <td>...</td>\n",
       "      <td>...</td>\n",
       "      <td>...</td>\n",
       "    </tr>\n",
       "    <tr>\n",
       "      <th>763</th>\n",
       "      <td>10</td>\n",
       "      <td>101</td>\n",
       "      <td>76</td>\n",
       "      <td>48</td>\n",
       "      <td>180</td>\n",
       "      <td>32.9</td>\n",
       "      <td>0.171</td>\n",
       "      <td>63</td>\n",
       "    </tr>\n",
       "    <tr>\n",
       "      <th>764</th>\n",
       "      <td>2</td>\n",
       "      <td>122</td>\n",
       "      <td>70</td>\n",
       "      <td>27</td>\n",
       "      <td>0</td>\n",
       "      <td>36.8</td>\n",
       "      <td>0.340</td>\n",
       "      <td>27</td>\n",
       "    </tr>\n",
       "    <tr>\n",
       "      <th>765</th>\n",
       "      <td>5</td>\n",
       "      <td>121</td>\n",
       "      <td>72</td>\n",
       "      <td>23</td>\n",
       "      <td>112</td>\n",
       "      <td>26.2</td>\n",
       "      <td>0.245</td>\n",
       "      <td>30</td>\n",
       "    </tr>\n",
       "    <tr>\n",
       "      <th>766</th>\n",
       "      <td>1</td>\n",
       "      <td>126</td>\n",
       "      <td>60</td>\n",
       "      <td>0</td>\n",
       "      <td>0</td>\n",
       "      <td>30.1</td>\n",
       "      <td>0.349</td>\n",
       "      <td>47</td>\n",
       "    </tr>\n",
       "    <tr>\n",
       "      <th>767</th>\n",
       "      <td>1</td>\n",
       "      <td>93</td>\n",
       "      <td>70</td>\n",
       "      <td>31</td>\n",
       "      <td>0</td>\n",
       "      <td>30.4</td>\n",
       "      <td>0.315</td>\n",
       "      <td>23</td>\n",
       "    </tr>\n",
       "  </tbody>\n",
       "</table>\n",
       "<p>768 rows × 8 columns</p>\n",
       "</div>"
      ],
      "text/plain": [
       "     Pregnancies  Glucose  BloodPressure  SkinThickness  Insulin   BMI  \\\n",
       "0              6      148             72             35        0  33.6   \n",
       "1              1       85             66             29        0  26.6   \n",
       "2              8      183             64              0        0  23.3   \n",
       "3              1       89             66             23       94  28.1   \n",
       "4              0      137             40             35      168  43.1   \n",
       "..           ...      ...            ...            ...      ...   ...   \n",
       "763           10      101             76             48      180  32.9   \n",
       "764            2      122             70             27        0  36.8   \n",
       "765            5      121             72             23      112  26.2   \n",
       "766            1      126             60              0        0  30.1   \n",
       "767            1       93             70             31        0  30.4   \n",
       "\n",
       "     DiabetesPedigreeFunction  Age  \n",
       "0                       0.627   50  \n",
       "1                       0.351   31  \n",
       "2                       0.672   32  \n",
       "3                       0.167   21  \n",
       "4                       2.288   33  \n",
       "..                        ...  ...  \n",
       "763                     0.171   63  \n",
       "764                     0.340   27  \n",
       "765                     0.245   30  \n",
       "766                     0.349   47  \n",
       "767                     0.315   23  \n",
       "\n",
       "[768 rows x 8 columns]"
      ]
     },
     "execution_count": 90,
     "metadata": {},
     "output_type": "execute_result"
    }
   ],
   "source": [
    "x"
   ]
  },
  {
   "cell_type": "code",
   "execution_count": 91,
   "metadata": {},
   "outputs": [
    {
     "data": {
      "text/plain": [
       "0      1\n",
       "1      0\n",
       "2      1\n",
       "3      0\n",
       "4      1\n",
       "      ..\n",
       "763    0\n",
       "764    0\n",
       "765    0\n",
       "766    1\n",
       "767    0\n",
       "Name: Outcome, Length: 768, dtype: int64"
      ]
     },
     "execution_count": 91,
     "metadata": {},
     "output_type": "execute_result"
    }
   ],
   "source": [
    "y"
   ]
  },
  {
   "cell_type": "markdown",
   "metadata": {},
   "source": [
    "0 ---> Non Diabetic <br/>\n",
    "1 ---> Diabetic"
   ]
  },
  {
   "cell_type": "markdown",
   "metadata": {},
   "source": [
    "#### DATA STANDARDIZATION - FIRST STANDARDIZATION AND THEN SPLITTING"
   ]
  },
  {
   "cell_type": "code",
   "execution_count": 92,
   "metadata": {},
   "outputs": [],
   "source": [
    "scaler = StandardScaler()"
   ]
  },
  {
   "cell_type": "code",
   "execution_count": 93,
   "metadata": {},
   "outputs": [],
   "source": [
    "standardize_data=scaler.fit_transform(x)"
   ]
  },
  {
   "cell_type": "code",
   "execution_count": 94,
   "metadata": {},
   "outputs": [
    {
     "data": {
      "text/plain": [
       "array([[ 0.63994726,  0.84832379,  0.14964075, ...,  0.20401277,\n",
       "         0.46849198,  1.4259954 ],\n",
       "       [-0.84488505, -1.12339636, -0.16054575, ..., -0.68442195,\n",
       "        -0.36506078, -0.19067191],\n",
       "       [ 1.23388019,  1.94372388, -0.26394125, ..., -1.10325546,\n",
       "         0.60439732, -0.10558415],\n",
       "       ...,\n",
       "       [ 0.3429808 ,  0.00330087,  0.14964075, ..., -0.73518964,\n",
       "        -0.68519336, -0.27575966],\n",
       "       [-0.84488505,  0.1597866 , -0.47073225, ..., -0.24020459,\n",
       "        -0.37110101,  1.17073215],\n",
       "       [-0.84488505, -0.8730192 ,  0.04624525, ..., -0.20212881,\n",
       "        -0.47378505, -0.87137393]])"
      ]
     },
     "execution_count": 94,
     "metadata": {},
     "output_type": "execute_result"
    }
   ],
   "source": [
    "standardize_data"
   ]
  },
  {
   "cell_type": "code",
   "execution_count": 95,
   "metadata": {},
   "outputs": [
    {
     "data": {
      "text/plain": [
       "array([[ 0.63994726,  0.84832379,  0.14964075, ...,  0.20401277,\n",
       "         0.46849198,  1.4259954 ],\n",
       "       [-0.84488505, -1.12339636, -0.16054575, ..., -0.68442195,\n",
       "        -0.36506078, -0.19067191],\n",
       "       [ 1.23388019,  1.94372388, -0.26394125, ..., -1.10325546,\n",
       "         0.60439732, -0.10558415],\n",
       "       ...,\n",
       "       [ 0.3429808 ,  0.00330087,  0.14964075, ..., -0.73518964,\n",
       "        -0.68519336, -0.27575966],\n",
       "       [-0.84488505,  0.1597866 , -0.47073225, ..., -0.24020459,\n",
       "        -0.37110101,  1.17073215],\n",
       "       [-0.84488505, -0.8730192 ,  0.04624525, ..., -0.20212881,\n",
       "        -0.47378505, -0.87137393]])"
      ]
     },
     "execution_count": 95,
     "metadata": {},
     "output_type": "execute_result"
    }
   ],
   "source": [
    "x = standardize_data\n",
    "x"
   ]
  },
  {
   "cell_type": "code",
   "execution_count": 96,
   "metadata": {},
   "outputs": [
    {
     "data": {
      "text/plain": [
       "(768, 8)"
      ]
     },
     "execution_count": 96,
     "metadata": {},
     "output_type": "execute_result"
    }
   ],
   "source": [
    "x.shape"
   ]
  },
  {
   "cell_type": "code",
   "execution_count": 97,
   "metadata": {},
   "outputs": [
    {
     "data": {
      "text/plain": [
       "0      1\n",
       "1      0\n",
       "2      1\n",
       "3      0\n",
       "4      1\n",
       "      ..\n",
       "763    0\n",
       "764    0\n",
       "765    0\n",
       "766    1\n",
       "767    0\n",
       "Name: Outcome, Length: 768, dtype: int64"
      ]
     },
     "execution_count": 97,
     "metadata": {},
     "output_type": "execute_result"
    }
   ],
   "source": [
    "y"
   ]
  },
  {
   "cell_type": "code",
   "execution_count": 98,
   "metadata": {},
   "outputs": [
    {
     "data": {
      "text/plain": [
       "(768,)"
      ]
     },
     "execution_count": 98,
     "metadata": {},
     "output_type": "execute_result"
    }
   ],
   "source": [
    "y.shape"
   ]
  },
  {
   "cell_type": "markdown",
   "metadata": {},
   "source": [
    "#### SPLITTING THE DATA SET INTO TRAINING AND TESTING DATA"
   ]
  },
  {
   "cell_type": "code",
   "execution_count": 99,
   "metadata": {},
   "outputs": [],
   "source": [
    "X_train, X_test, Y_train, Y_test = train_test_split(x,y,test_size=0.2,random_state=2)"
   ]
  },
  {
   "cell_type": "code",
   "execution_count": 100,
   "metadata": {},
   "outputs": [
    {
     "data": {
      "text/plain": [
       "(614, 8)"
      ]
     },
     "execution_count": 100,
     "metadata": {},
     "output_type": "execute_result"
    }
   ],
   "source": [
    "X_train.shape"
   ]
  },
  {
   "cell_type": "code",
   "execution_count": 101,
   "metadata": {},
   "outputs": [
    {
     "data": {
      "text/plain": [
       "(154, 8)"
      ]
     },
     "execution_count": 101,
     "metadata": {},
     "output_type": "execute_result"
    }
   ],
   "source": [
    "X_test.shape"
   ]
  },
  {
   "cell_type": "code",
   "execution_count": 102,
   "metadata": {},
   "outputs": [
    {
     "data": {
      "text/plain": [
       "(614,)"
      ]
     },
     "execution_count": 102,
     "metadata": {},
     "output_type": "execute_result"
    }
   ],
   "source": [
    "Y_train.shape"
   ]
  },
  {
   "cell_type": "code",
   "execution_count": 103,
   "metadata": {},
   "outputs": [
    {
     "data": {
      "text/plain": [
       "(154,)"
      ]
     },
     "execution_count": 103,
     "metadata": {},
     "output_type": "execute_result"
    }
   ],
   "source": [
    "Y_test.shape"
   ]
  },
  {
   "cell_type": "markdown",
   "metadata": {},
   "source": [
    "<hr/><hr/><hr/>"
   ]
  },
  {
   "cell_type": "code",
   "execution_count": 104,
   "metadata": {},
   "outputs": [],
   "source": [
    "dd = pd.read_csv(\"C:\\\\Users\\\\viswa\\\\Data Science and ML\\\\Datasets\\\\diabetes.csv\")"
   ]
  },
  {
   "cell_type": "code",
   "execution_count": 105,
   "metadata": {},
   "outputs": [],
   "source": [
    "x=dd.drop(columns=\"Outcome\",axis=1) # 1 for column and 0 for row\n",
    "y=dd[\"Outcome\"]"
   ]
  },
  {
   "cell_type": "code",
   "execution_count": 106,
   "metadata": {},
   "outputs": [
    {
     "data": {
      "text/plain": [
       "(768, 8)"
      ]
     },
     "execution_count": 106,
     "metadata": {},
     "output_type": "execute_result"
    }
   ],
   "source": [
    "x.shape"
   ]
  },
  {
   "cell_type": "code",
   "execution_count": 107,
   "metadata": {},
   "outputs": [
    {
     "data": {
      "text/plain": [
       "(768,)"
      ]
     },
     "execution_count": 107,
     "metadata": {},
     "output_type": "execute_result"
    }
   ],
   "source": [
    "y.shape"
   ]
  },
  {
   "cell_type": "markdown",
   "metadata": {},
   "source": [
    "#### DATA STANDARDIZATION - FIRST SPLITTING AND THEN STANDARDIZATION"
   ]
  },
  {
   "cell_type": "markdown",
   "metadata": {},
   "source": [
    "###### SPLITTING THE DATA SET INTO TRAINING AND TESTING DATA"
   ]
  },
  {
   "cell_type": "code",
   "execution_count": 108,
   "metadata": {},
   "outputs": [],
   "source": [
    "X_train, X_test, Y_train, Y_test = train_test_split(x,y,test_size=0.2,random_state=2)"
   ]
  },
  {
   "cell_type": "code",
   "execution_count": 109,
   "metadata": {},
   "outputs": [
    {
     "data": {
      "text/plain": [
       "(614, 8)"
      ]
     },
     "execution_count": 109,
     "metadata": {},
     "output_type": "execute_result"
    }
   ],
   "source": [
    "X_train.shape"
   ]
  },
  {
   "cell_type": "code",
   "execution_count": 110,
   "metadata": {},
   "outputs": [
    {
     "data": {
      "text/plain": [
       "(154, 8)"
      ]
     },
     "execution_count": 110,
     "metadata": {},
     "output_type": "execute_result"
    }
   ],
   "source": [
    "X_test.shape"
   ]
  },
  {
   "cell_type": "code",
   "execution_count": 111,
   "metadata": {},
   "outputs": [
    {
     "data": {
      "text/plain": [
       "(614,)"
      ]
     },
     "execution_count": 111,
     "metadata": {},
     "output_type": "execute_result"
    }
   ],
   "source": [
    "Y_train.shape"
   ]
  },
  {
   "cell_type": "code",
   "execution_count": 112,
   "metadata": {},
   "outputs": [
    {
     "data": {
      "text/plain": [
       "(154,)"
      ]
     },
     "execution_count": 112,
     "metadata": {},
     "output_type": "execute_result"
    }
   ],
   "source": [
    "Y_test.shape"
   ]
  },
  {
   "cell_type": "markdown",
   "metadata": {},
   "source": [
    "###### STANDARDIZATION"
   ]
  },
  {
   "cell_type": "code",
   "execution_count": 113,
   "metadata": {},
   "outputs": [
    {
     "data": {
      "text/html": [
       "<div>\n",
       "<style scoped>\n",
       "    .dataframe tbody tr th:only-of-type {\n",
       "        vertical-align: middle;\n",
       "    }\n",
       "\n",
       "    .dataframe tbody tr th {\n",
       "        vertical-align: top;\n",
       "    }\n",
       "\n",
       "    .dataframe thead th {\n",
       "        text-align: right;\n",
       "    }\n",
       "</style>\n",
       "<table border=\"1\" class=\"dataframe\">\n",
       "  <thead>\n",
       "    <tr style=\"text-align: right;\">\n",
       "      <th></th>\n",
       "      <th>Pregnancies</th>\n",
       "      <th>Glucose</th>\n",
       "      <th>BloodPressure</th>\n",
       "      <th>SkinThickness</th>\n",
       "      <th>Insulin</th>\n",
       "      <th>BMI</th>\n",
       "      <th>DiabetesPedigreeFunction</th>\n",
       "      <th>Age</th>\n",
       "    </tr>\n",
       "  </thead>\n",
       "  <tbody>\n",
       "    <tr>\n",
       "      <th>602</th>\n",
       "      <td>1</td>\n",
       "      <td>124</td>\n",
       "      <td>74</td>\n",
       "      <td>36</td>\n",
       "      <td>0</td>\n",
       "      <td>27.8</td>\n",
       "      <td>0.100</td>\n",
       "      <td>30</td>\n",
       "    </tr>\n",
       "    <tr>\n",
       "      <th>429</th>\n",
       "      <td>1</td>\n",
       "      <td>95</td>\n",
       "      <td>82</td>\n",
       "      <td>25</td>\n",
       "      <td>180</td>\n",
       "      <td>35.0</td>\n",
       "      <td>0.233</td>\n",
       "      <td>43</td>\n",
       "    </tr>\n",
       "    <tr>\n",
       "      <th>623</th>\n",
       "      <td>0</td>\n",
       "      <td>94</td>\n",
       "      <td>70</td>\n",
       "      <td>27</td>\n",
       "      <td>115</td>\n",
       "      <td>43.5</td>\n",
       "      <td>0.347</td>\n",
       "      <td>21</td>\n",
       "    </tr>\n",
       "    <tr>\n",
       "      <th>209</th>\n",
       "      <td>7</td>\n",
       "      <td>184</td>\n",
       "      <td>84</td>\n",
       "      <td>33</td>\n",
       "      <td>0</td>\n",
       "      <td>35.5</td>\n",
       "      <td>0.355</td>\n",
       "      <td>41</td>\n",
       "    </tr>\n",
       "    <tr>\n",
       "      <th>589</th>\n",
       "      <td>0</td>\n",
       "      <td>73</td>\n",
       "      <td>0</td>\n",
       "      <td>0</td>\n",
       "      <td>0</td>\n",
       "      <td>21.1</td>\n",
       "      <td>0.342</td>\n",
       "      <td>25</td>\n",
       "    </tr>\n",
       "    <tr>\n",
       "      <th>...</th>\n",
       "      <td>...</td>\n",
       "      <td>...</td>\n",
       "      <td>...</td>\n",
       "      <td>...</td>\n",
       "      <td>...</td>\n",
       "      <td>...</td>\n",
       "      <td>...</td>\n",
       "      <td>...</td>\n",
       "    </tr>\n",
       "    <tr>\n",
       "      <th>534</th>\n",
       "      <td>1</td>\n",
       "      <td>77</td>\n",
       "      <td>56</td>\n",
       "      <td>30</td>\n",
       "      <td>56</td>\n",
       "      <td>33.3</td>\n",
       "      <td>1.251</td>\n",
       "      <td>24</td>\n",
       "    </tr>\n",
       "    <tr>\n",
       "      <th>584</th>\n",
       "      <td>8</td>\n",
       "      <td>124</td>\n",
       "      <td>76</td>\n",
       "      <td>24</td>\n",
       "      <td>600</td>\n",
       "      <td>28.7</td>\n",
       "      <td>0.687</td>\n",
       "      <td>52</td>\n",
       "    </tr>\n",
       "    <tr>\n",
       "      <th>493</th>\n",
       "      <td>4</td>\n",
       "      <td>125</td>\n",
       "      <td>70</td>\n",
       "      <td>18</td>\n",
       "      <td>122</td>\n",
       "      <td>28.9</td>\n",
       "      <td>1.144</td>\n",
       "      <td>45</td>\n",
       "    </tr>\n",
       "    <tr>\n",
       "      <th>527</th>\n",
       "      <td>3</td>\n",
       "      <td>116</td>\n",
       "      <td>74</td>\n",
       "      <td>15</td>\n",
       "      <td>105</td>\n",
       "      <td>26.3</td>\n",
       "      <td>0.107</td>\n",
       "      <td>24</td>\n",
       "    </tr>\n",
       "    <tr>\n",
       "      <th>168</th>\n",
       "      <td>4</td>\n",
       "      <td>110</td>\n",
       "      <td>66</td>\n",
       "      <td>0</td>\n",
       "      <td>0</td>\n",
       "      <td>31.9</td>\n",
       "      <td>0.471</td>\n",
       "      <td>29</td>\n",
       "    </tr>\n",
       "  </tbody>\n",
       "</table>\n",
       "<p>614 rows × 8 columns</p>\n",
       "</div>"
      ],
      "text/plain": [
       "     Pregnancies  Glucose  BloodPressure  SkinThickness  Insulin   BMI  \\\n",
       "602            1      124             74             36        0  27.8   \n",
       "429            1       95             82             25      180  35.0   \n",
       "623            0       94             70             27      115  43.5   \n",
       "209            7      184             84             33        0  35.5   \n",
       "589            0       73              0              0        0  21.1   \n",
       "..           ...      ...            ...            ...      ...   ...   \n",
       "534            1       77             56             30       56  33.3   \n",
       "584            8      124             76             24      600  28.7   \n",
       "493            4      125             70             18      122  28.9   \n",
       "527            3      116             74             15      105  26.3   \n",
       "168            4      110             66              0        0  31.9   \n",
       "\n",
       "     DiabetesPedigreeFunction  Age  \n",
       "602                     0.100   30  \n",
       "429                     0.233   43  \n",
       "623                     0.347   21  \n",
       "209                     0.355   41  \n",
       "589                     0.342   25  \n",
       "..                        ...  ...  \n",
       "534                     1.251   24  \n",
       "584                     0.687   52  \n",
       "493                     1.144   45  \n",
       "527                     0.107   24  \n",
       "168                     0.471   29  \n",
       "\n",
       "[614 rows x 8 columns]"
      ]
     },
     "execution_count": 113,
     "metadata": {},
     "output_type": "execute_result"
    }
   ],
   "source": [
    "X_train"
   ]
  },
  {
   "cell_type": "code",
   "execution_count": 114,
   "metadata": {},
   "outputs": [
    {
     "data": {
      "text/html": [
       "<div>\n",
       "<style scoped>\n",
       "    .dataframe tbody tr th:only-of-type {\n",
       "        vertical-align: middle;\n",
       "    }\n",
       "\n",
       "    .dataframe tbody tr th {\n",
       "        vertical-align: top;\n",
       "    }\n",
       "\n",
       "    .dataframe thead th {\n",
       "        text-align: right;\n",
       "    }\n",
       "</style>\n",
       "<table border=\"1\" class=\"dataframe\">\n",
       "  <thead>\n",
       "    <tr style=\"text-align: right;\">\n",
       "      <th></th>\n",
       "      <th>Pregnancies</th>\n",
       "      <th>Glucose</th>\n",
       "      <th>BloodPressure</th>\n",
       "      <th>SkinThickness</th>\n",
       "      <th>Insulin</th>\n",
       "      <th>BMI</th>\n",
       "      <th>DiabetesPedigreeFunction</th>\n",
       "      <th>Age</th>\n",
       "    </tr>\n",
       "  </thead>\n",
       "  <tbody>\n",
       "    <tr>\n",
       "      <th>158</th>\n",
       "      <td>2</td>\n",
       "      <td>88</td>\n",
       "      <td>74</td>\n",
       "      <td>19</td>\n",
       "      <td>53</td>\n",
       "      <td>29.0</td>\n",
       "      <td>0.229</td>\n",
       "      <td>22</td>\n",
       "    </tr>\n",
       "    <tr>\n",
       "      <th>251</th>\n",
       "      <td>2</td>\n",
       "      <td>129</td>\n",
       "      <td>84</td>\n",
       "      <td>0</td>\n",
       "      <td>0</td>\n",
       "      <td>28.0</td>\n",
       "      <td>0.284</td>\n",
       "      <td>27</td>\n",
       "    </tr>\n",
       "    <tr>\n",
       "      <th>631</th>\n",
       "      <td>0</td>\n",
       "      <td>102</td>\n",
       "      <td>78</td>\n",
       "      <td>40</td>\n",
       "      <td>90</td>\n",
       "      <td>34.5</td>\n",
       "      <td>0.238</td>\n",
       "      <td>24</td>\n",
       "    </tr>\n",
       "    <tr>\n",
       "      <th>757</th>\n",
       "      <td>0</td>\n",
       "      <td>123</td>\n",
       "      <td>72</td>\n",
       "      <td>0</td>\n",
       "      <td>0</td>\n",
       "      <td>36.3</td>\n",
       "      <td>0.258</td>\n",
       "      <td>52</td>\n",
       "    </tr>\n",
       "    <tr>\n",
       "      <th>689</th>\n",
       "      <td>1</td>\n",
       "      <td>144</td>\n",
       "      <td>82</td>\n",
       "      <td>46</td>\n",
       "      <td>180</td>\n",
       "      <td>46.1</td>\n",
       "      <td>0.335</td>\n",
       "      <td>46</td>\n",
       "    </tr>\n",
       "    <tr>\n",
       "      <th>...</th>\n",
       "      <td>...</td>\n",
       "      <td>...</td>\n",
       "      <td>...</td>\n",
       "      <td>...</td>\n",
       "      <td>...</td>\n",
       "      <td>...</td>\n",
       "      <td>...</td>\n",
       "      <td>...</td>\n",
       "    </tr>\n",
       "    <tr>\n",
       "      <th>733</th>\n",
       "      <td>2</td>\n",
       "      <td>106</td>\n",
       "      <td>56</td>\n",
       "      <td>27</td>\n",
       "      <td>165</td>\n",
       "      <td>29.0</td>\n",
       "      <td>0.426</td>\n",
       "      <td>22</td>\n",
       "    </tr>\n",
       "    <tr>\n",
       "      <th>441</th>\n",
       "      <td>2</td>\n",
       "      <td>83</td>\n",
       "      <td>66</td>\n",
       "      <td>23</td>\n",
       "      <td>50</td>\n",
       "      <td>32.2</td>\n",
       "      <td>0.497</td>\n",
       "      <td>22</td>\n",
       "    </tr>\n",
       "    <tr>\n",
       "      <th>627</th>\n",
       "      <td>0</td>\n",
       "      <td>132</td>\n",
       "      <td>78</td>\n",
       "      <td>0</td>\n",
       "      <td>0</td>\n",
       "      <td>32.4</td>\n",
       "      <td>0.393</td>\n",
       "      <td>21</td>\n",
       "    </tr>\n",
       "    <tr>\n",
       "      <th>84</th>\n",
       "      <td>5</td>\n",
       "      <td>137</td>\n",
       "      <td>108</td>\n",
       "      <td>0</td>\n",
       "      <td>0</td>\n",
       "      <td>48.8</td>\n",
       "      <td>0.227</td>\n",
       "      <td>37</td>\n",
       "    </tr>\n",
       "    <tr>\n",
       "      <th>55</th>\n",
       "      <td>1</td>\n",
       "      <td>73</td>\n",
       "      <td>50</td>\n",
       "      <td>10</td>\n",
       "      <td>0</td>\n",
       "      <td>23.0</td>\n",
       "      <td>0.248</td>\n",
       "      <td>21</td>\n",
       "    </tr>\n",
       "  </tbody>\n",
       "</table>\n",
       "<p>154 rows × 8 columns</p>\n",
       "</div>"
      ],
      "text/plain": [
       "     Pregnancies  Glucose  BloodPressure  SkinThickness  Insulin   BMI  \\\n",
       "158            2       88             74             19       53  29.0   \n",
       "251            2      129             84              0        0  28.0   \n",
       "631            0      102             78             40       90  34.5   \n",
       "757            0      123             72              0        0  36.3   \n",
       "689            1      144             82             46      180  46.1   \n",
       "..           ...      ...            ...            ...      ...   ...   \n",
       "733            2      106             56             27      165  29.0   \n",
       "441            2       83             66             23       50  32.2   \n",
       "627            0      132             78              0        0  32.4   \n",
       "84             5      137            108              0        0  48.8   \n",
       "55             1       73             50             10        0  23.0   \n",
       "\n",
       "     DiabetesPedigreeFunction  Age  \n",
       "158                     0.229   22  \n",
       "251                     0.284   27  \n",
       "631                     0.238   24  \n",
       "757                     0.258   52  \n",
       "689                     0.335   46  \n",
       "..                        ...  ...  \n",
       "733                     0.426   22  \n",
       "441                     0.497   22  \n",
       "627                     0.393   21  \n",
       "84                      0.227   37  \n",
       "55                      0.248   21  \n",
       "\n",
       "[154 rows x 8 columns]"
      ]
     },
     "execution_count": 114,
     "metadata": {},
     "output_type": "execute_result"
    }
   ],
   "source": [
    "X_test"
   ]
  },
  {
   "cell_type": "code",
   "execution_count": 115,
   "metadata": {},
   "outputs": [],
   "source": [
    "scaler = StandardScaler()"
   ]
  },
  {
   "cell_type": "code",
   "execution_count": 116,
   "metadata": {},
   "outputs": [],
   "source": [
    "standardize_data=scaler.fit_transform(X_train)"
   ]
  },
  {
   "cell_type": "code",
   "execution_count": 117,
   "metadata": {},
   "outputs": [],
   "source": [
    "standardize_data_test=scaler.fit_transform(X_text)"
   ]
  },
  {
   "cell_type": "code",
   "execution_count": 118,
   "metadata": {},
   "outputs": [],
   "source": [
    "X_train=standardize_data"
   ]
  },
  {
   "cell_type": "code",
   "execution_count": 119,
   "metadata": {},
   "outputs": [
    {
     "data": {
      "text/plain": [
       "array([[-0.85811767,  0.06488386,  0.25332145, ..., -0.51313743,\n",
       "        -1.10316947, -0.27704152],\n",
       "       [-0.85811767, -0.84697246,  0.66358026, ...,  0.4081093 ,\n",
       "        -0.71238555,  0.84376203],\n",
       "       [-1.15412006, -0.87841578,  0.04819205, ...,  1.49569224,\n",
       "        -0.37742791, -1.05298243],\n",
       "       ...,\n",
       "       [ 0.02988949,  0.09632718,  0.04819205, ..., -0.3723914 ,\n",
       "         1.96433735,  1.01619334],\n",
       "       [-0.2661129 , -0.18666271,  0.25332145, ..., -0.70506383,\n",
       "        -1.08260189, -0.79433546],\n",
       "       [ 0.02988949, -0.37532264, -0.15693736, ...,  0.0114614 ,\n",
       "        -0.01308802, -0.36325717]])"
      ]
     },
     "execution_count": 119,
     "metadata": {},
     "output_type": "execute_result"
    }
   ],
   "source": [
    "X_train"
   ]
  },
  {
   "cell_type": "code",
   "execution_count": 120,
   "metadata": {},
   "outputs": [],
   "source": [
    "X_test=standardize_data_test"
   ]
  },
  {
   "cell_type": "code",
   "execution_count": 121,
   "metadata": {},
   "outputs": [
    {
     "data": {
      "text/plain": [
       "array([[-0.49172884, -0.89244776,  0.25204195, ..., -0.45987031,\n",
       "        -0.78563083, -0.91938236],\n",
       "       [-0.49172884,  0.38069168,  0.78667639, ..., -0.58353021,\n",
       "        -0.59662063, -0.51439128],\n",
       "       [-1.09512519, -0.45771722,  0.46589573, ...,  0.22025917,\n",
       "        -0.75470189, -0.75738593],\n",
       "       ...,\n",
       "       [-1.09512519,  0.47384822,  0.46589573, ..., -0.03942663,\n",
       "        -0.22203678, -1.00038058],\n",
       "       [ 0.41336568,  0.62910913,  2.06979904, ...,  1.9885958 ,\n",
       "        -0.79250393,  0.2955909 ],\n",
       "       [-0.79342702, -1.35823048, -1.0310807 , ..., -1.20182973,\n",
       "        -0.7203364 , -1.00038058]])"
      ]
     },
     "execution_count": 121,
     "metadata": {},
     "output_type": "execute_result"
    }
   ],
   "source": [
    "X_test"
   ]
  },
  {
   "cell_type": "markdown",
   "metadata": {},
   "source": [
    "# TEXT BASED DATA SET PRE - PROCESSING"
   ]
  },
  {
   "cell_type": "markdown",
   "metadata": {},
   "source": [
    "In order to upload data from google drive in google colab first click mount to google drive and then you will find the drive in ur files from there copy the path and then use it. Uploading in google drive takes less time as compared to google colab"
   ]
  },
  {
   "cell_type": "code",
   "execution_count": 1,
   "metadata": {},
   "outputs": [],
   "source": [
    "# Importing the dependencies\n",
    "import numpy as np\n",
    "import pandas as pd\n",
    "import re #regular expression for scanning and going through text in document\n",
    "import nltk\n",
    "#we can import specific functions from a library\n",
    "from nltk.corpus import stopwords #natural language tool kit used for text processing\n",
    "from nltk.stem.porter import PorterStemmer\n",
    "from sklearn.feature_extraction.text import TfidfVectorizer\n",
    "from sklearn.model_selection import train_test_split"
   ]
  },
  {
   "cell_type": "code",
   "execution_count": 2,
   "metadata": {},
   "outputs": [
    {
     "name": "stderr",
     "output_type": "stream",
     "text": [
      "[nltk_data] Downloading package stopwords to\n",
      "[nltk_data]     C:\\Users\\viswa\\AppData\\Roaming\\nltk_data...\n",
      "[nltk_data]   Package stopwords is already up-to-date!\n"
     ]
    },
    {
     "data": {
      "text/plain": [
       "True"
      ]
     },
     "execution_count": 2,
     "metadata": {},
     "output_type": "execute_result"
    }
   ],
   "source": [
    "nltk.download('stopwords')"
   ]
  },
  {
   "cell_type": "code",
   "execution_count": 3,
   "metadata": {},
   "outputs": [
    {
     "name": "stdout",
     "output_type": "stream",
     "text": [
      "['i', 'me', 'my', 'myself', 'we', 'our', 'ours', 'ourselves', 'you', \"you're\", \"you've\", \"you'll\", \"you'd\", 'your', 'yours', 'yourself', 'yourselves', 'he', 'him', 'his', 'himself', 'she', \"she's\", 'her', 'hers', 'herself', 'it', \"it's\", 'its', 'itself', 'they', 'them', 'their', 'theirs', 'themselves', 'what', 'which', 'who', 'whom', 'this', 'that', \"that'll\", 'these', 'those', 'am', 'is', 'are', 'was', 'were', 'be', 'been', 'being', 'have', 'has', 'had', 'having', 'do', 'does', 'did', 'doing', 'a', 'an', 'the', 'and', 'but', 'if', 'or', 'because', 'as', 'until', 'while', 'of', 'at', 'by', 'for', 'with', 'about', 'against', 'between', 'into', 'through', 'during', 'before', 'after', 'above', 'below', 'to', 'from', 'up', 'down', 'in', 'out', 'on', 'off', 'over', 'under', 'again', 'further', 'then', 'once', 'here', 'there', 'when', 'where', 'why', 'how', 'all', 'any', 'both', 'each', 'few', 'more', 'most', 'other', 'some', 'such', 'no', 'nor', 'not', 'only', 'own', 'same', 'so', 'than', 'too', 'very', 's', 't', 'can', 'will', 'just', 'don', \"don't\", 'should', \"should've\", 'now', 'd', 'll', 'm', 'o', 're', 've', 'y', 'ain', 'aren', \"aren't\", 'couldn', \"couldn't\", 'didn', \"didn't\", 'doesn', \"doesn't\", 'hadn', \"hadn't\", 'hasn', \"hasn't\", 'haven', \"haven't\", 'isn', \"isn't\", 'ma', 'mightn', \"mightn't\", 'mustn', \"mustn't\", 'needn', \"needn't\", 'shan', \"shan't\", 'shouldn', \"shouldn't\", 'wasn', \"wasn't\", 'weren', \"weren't\", 'won', \"won't\", 'wouldn', \"wouldn't\"]\n"
     ]
    }
   ],
   "source": [
    "# Priting the stopwords\n",
    "print(stopwords.words(\"english\"))\n",
    "#stopwords are those words which can be repeated a lot of time in a dataset"
   ]
  },
  {
   "cell_type": "code",
   "execution_count": 50,
   "metadata": {},
   "outputs": [],
   "source": [
    "# Load the data to a pandas dataframe\n",
    "news_data = pd.read_csv(\"C:\\\\Users\\\\viswa\\\\Data Science and ML\\\\Datasets\\\\fakenews.csv\")"
   ]
  },
  {
   "cell_type": "code",
   "execution_count": 51,
   "metadata": {},
   "outputs": [
    {
     "data": {
      "text/html": [
       "<div>\n",
       "<style scoped>\n",
       "    .dataframe tbody tr th:only-of-type {\n",
       "        vertical-align: middle;\n",
       "    }\n",
       "\n",
       "    .dataframe tbody tr th {\n",
       "        vertical-align: top;\n",
       "    }\n",
       "\n",
       "    .dataframe thead th {\n",
       "        text-align: right;\n",
       "    }\n",
       "</style>\n",
       "<table border=\"1\" class=\"dataframe\">\n",
       "  <thead>\n",
       "    <tr style=\"text-align: right;\">\n",
       "      <th></th>\n",
       "      <th>id</th>\n",
       "      <th>title</th>\n",
       "      <th>author</th>\n",
       "      <th>text</th>\n",
       "      <th>label</th>\n",
       "    </tr>\n",
       "  </thead>\n",
       "  <tbody>\n",
       "    <tr>\n",
       "      <th>0</th>\n",
       "      <td>0</td>\n",
       "      <td>House Dem Aide: We Didn’t Even See Comey’s Let...</td>\n",
       "      <td>Darrell Lucus</td>\n",
       "      <td>House Dem Aide: We Didn’t Even See Comey’s Let...</td>\n",
       "      <td>1</td>\n",
       "    </tr>\n",
       "    <tr>\n",
       "      <th>1</th>\n",
       "      <td>1</td>\n",
       "      <td>FLYNN: Hillary Clinton, Big Woman on Campus - ...</td>\n",
       "      <td>Daniel J. Flynn</td>\n",
       "      <td>Ever get the feeling your life circles the rou...</td>\n",
       "      <td>0</td>\n",
       "    </tr>\n",
       "    <tr>\n",
       "      <th>2</th>\n",
       "      <td>2</td>\n",
       "      <td>Why the Truth Might Get You Fired</td>\n",
       "      <td>Consortiumnews.com</td>\n",
       "      <td>Why the Truth Might Get You Fired October 29, ...</td>\n",
       "      <td>1</td>\n",
       "    </tr>\n",
       "    <tr>\n",
       "      <th>3</th>\n",
       "      <td>3</td>\n",
       "      <td>15 Civilians Killed In Single US Airstrike Hav...</td>\n",
       "      <td>Jessica Purkiss</td>\n",
       "      <td>Videos 15 Civilians Killed In Single US Airstr...</td>\n",
       "      <td>1</td>\n",
       "    </tr>\n",
       "    <tr>\n",
       "      <th>4</th>\n",
       "      <td>4</td>\n",
       "      <td>Iranian woman jailed for fictional unpublished...</td>\n",
       "      <td>Howard Portnoy</td>\n",
       "      <td>Print \\nAn Iranian woman has been sentenced to...</td>\n",
       "      <td>1</td>\n",
       "    </tr>\n",
       "  </tbody>\n",
       "</table>\n",
       "</div>"
      ],
      "text/plain": [
       "   id                                              title              author  \\\n",
       "0   0  House Dem Aide: We Didn’t Even See Comey’s Let...       Darrell Lucus   \n",
       "1   1  FLYNN: Hillary Clinton, Big Woman on Campus - ...     Daniel J. Flynn   \n",
       "2   2                  Why the Truth Might Get You Fired  Consortiumnews.com   \n",
       "3   3  15 Civilians Killed In Single US Airstrike Hav...     Jessica Purkiss   \n",
       "4   4  Iranian woman jailed for fictional unpublished...      Howard Portnoy   \n",
       "\n",
       "                                                text  label  \n",
       "0  House Dem Aide: We Didn’t Even See Comey’s Let...      1  \n",
       "1  Ever get the feeling your life circles the rou...      0  \n",
       "2  Why the Truth Might Get You Fired October 29, ...      1  \n",
       "3  Videos 15 Civilians Killed In Single US Airstr...      1  \n",
       "4  Print \\nAn Iranian woman has been sentenced to...      1  "
      ]
     },
     "execution_count": 51,
     "metadata": {},
     "output_type": "execute_result"
    }
   ],
   "source": [
    "# First five rows of the dataset\n",
    "news_data.head()"
   ]
  },
  {
   "cell_type": "markdown",
   "metadata": {},
   "source": [
    "label 0 ---> Real News <br/>\n",
    "label 1 ---> Fake News"
   ]
  },
  {
   "cell_type": "code",
   "execution_count": 52,
   "metadata": {},
   "outputs": [
    {
     "data": {
      "text/plain": [
       "(20800, 5)"
      ]
     },
     "execution_count": 52,
     "metadata": {},
     "output_type": "execute_result"
    }
   ],
   "source": [
    "news_data.shape"
   ]
  },
  {
   "cell_type": "code",
   "execution_count": 53,
   "metadata": {},
   "outputs": [
    {
     "data": {
      "text/plain": [
       "1    10413\n",
       "0    10387\n",
       "Name: label, dtype: int64"
      ]
     },
     "execution_count": 53,
     "metadata": {},
     "output_type": "execute_result"
    }
   ],
   "source": [
    "news_data[\"label\"].value_counts()"
   ]
  },
  {
   "cell_type": "code",
   "execution_count": 54,
   "metadata": {},
   "outputs": [
    {
     "data": {
      "text/plain": [
       "id           0\n",
       "title      558\n",
       "author    1957\n",
       "text        39\n",
       "label        0\n",
       "dtype: int64"
      ]
     },
     "execution_count": 54,
     "metadata": {},
     "output_type": "execute_result"
    }
   ],
   "source": [
    "#Checking for missing values\n",
    "news_data.isnull().sum()"
   ]
  },
  {
   "cell_type": "code",
   "execution_count": 55,
   "metadata": {},
   "outputs": [],
   "source": [
    "# Replacing NaN with Null string\n",
    "news_data=news_data.fillna('')"
   ]
  },
  {
   "cell_type": "code",
   "execution_count": 56,
   "metadata": {},
   "outputs": [
    {
     "data": {
      "text/plain": [
       "id        0\n",
       "title     0\n",
       "author    0\n",
       "text      0\n",
       "label     0\n",
       "dtype: int64"
      ]
     },
     "execution_count": 56,
     "metadata": {},
     "output_type": "execute_result"
    }
   ],
   "source": [
    "news_data.isnull().sum()"
   ]
  },
  {
   "cell_type": "code",
   "execution_count": 57,
   "metadata": {},
   "outputs": [],
   "source": [
    "# Let's merge the author name and news title\n",
    "news_data['content']=news_data[\"author\"]+news_data[\"title\"]"
   ]
  },
  {
   "cell_type": "code",
   "execution_count": 58,
   "metadata": {},
   "outputs": [
    {
     "data": {
      "text/html": [
       "<div>\n",
       "<style scoped>\n",
       "    .dataframe tbody tr th:only-of-type {\n",
       "        vertical-align: middle;\n",
       "    }\n",
       "\n",
       "    .dataframe tbody tr th {\n",
       "        vertical-align: top;\n",
       "    }\n",
       "\n",
       "    .dataframe thead th {\n",
       "        text-align: right;\n",
       "    }\n",
       "</style>\n",
       "<table border=\"1\" class=\"dataframe\">\n",
       "  <thead>\n",
       "    <tr style=\"text-align: right;\">\n",
       "      <th></th>\n",
       "      <th>id</th>\n",
       "      <th>title</th>\n",
       "      <th>author</th>\n",
       "      <th>text</th>\n",
       "      <th>label</th>\n",
       "      <th>content</th>\n",
       "    </tr>\n",
       "  </thead>\n",
       "  <tbody>\n",
       "    <tr>\n",
       "      <th>0</th>\n",
       "      <td>0</td>\n",
       "      <td>House Dem Aide: We Didn’t Even See Comey’s Let...</td>\n",
       "      <td>Darrell Lucus</td>\n",
       "      <td>House Dem Aide: We Didn’t Even See Comey’s Let...</td>\n",
       "      <td>1</td>\n",
       "      <td>Darrell LucusHouse Dem Aide: We Didn’t Even Se...</td>\n",
       "    </tr>\n",
       "    <tr>\n",
       "      <th>1</th>\n",
       "      <td>1</td>\n",
       "      <td>FLYNN: Hillary Clinton, Big Woman on Campus - ...</td>\n",
       "      <td>Daniel J. Flynn</td>\n",
       "      <td>Ever get the feeling your life circles the rou...</td>\n",
       "      <td>0</td>\n",
       "      <td>Daniel J. FlynnFLYNN: Hillary Clinton, Big Wom...</td>\n",
       "    </tr>\n",
       "    <tr>\n",
       "      <th>2</th>\n",
       "      <td>2</td>\n",
       "      <td>Why the Truth Might Get You Fired</td>\n",
       "      <td>Consortiumnews.com</td>\n",
       "      <td>Why the Truth Might Get You Fired October 29, ...</td>\n",
       "      <td>1</td>\n",
       "      <td>Consortiumnews.comWhy the Truth Might Get You ...</td>\n",
       "    </tr>\n",
       "    <tr>\n",
       "      <th>3</th>\n",
       "      <td>3</td>\n",
       "      <td>15 Civilians Killed In Single US Airstrike Hav...</td>\n",
       "      <td>Jessica Purkiss</td>\n",
       "      <td>Videos 15 Civilians Killed In Single US Airstr...</td>\n",
       "      <td>1</td>\n",
       "      <td>Jessica Purkiss15 Civilians Killed In Single U...</td>\n",
       "    </tr>\n",
       "    <tr>\n",
       "      <th>4</th>\n",
       "      <td>4</td>\n",
       "      <td>Iranian woman jailed for fictional unpublished...</td>\n",
       "      <td>Howard Portnoy</td>\n",
       "      <td>Print \\nAn Iranian woman has been sentenced to...</td>\n",
       "      <td>1</td>\n",
       "      <td>Howard PortnoyIranian woman jailed for fiction...</td>\n",
       "    </tr>\n",
       "    <tr>\n",
       "      <th>...</th>\n",
       "      <td>...</td>\n",
       "      <td>...</td>\n",
       "      <td>...</td>\n",
       "      <td>...</td>\n",
       "      <td>...</td>\n",
       "      <td>...</td>\n",
       "    </tr>\n",
       "    <tr>\n",
       "      <th>20795</th>\n",
       "      <td>20795</td>\n",
       "      <td>Rapper T.I.: Trump a ’Poster Child For White S...</td>\n",
       "      <td>Jerome Hudson</td>\n",
       "      <td>Rapper T. I. unloaded on black celebrities who...</td>\n",
       "      <td>0</td>\n",
       "      <td>Jerome HudsonRapper T.I.: Trump a ’Poster Chil...</td>\n",
       "    </tr>\n",
       "    <tr>\n",
       "      <th>20796</th>\n",
       "      <td>20796</td>\n",
       "      <td>N.F.L. Playoffs: Schedule, Matchups and Odds -...</td>\n",
       "      <td>Benjamin Hoffman</td>\n",
       "      <td>When the Green Bay Packers lost to the Washing...</td>\n",
       "      <td>0</td>\n",
       "      <td>Benjamin HoffmanN.F.L. Playoffs: Schedule, Mat...</td>\n",
       "    </tr>\n",
       "    <tr>\n",
       "      <th>20797</th>\n",
       "      <td>20797</td>\n",
       "      <td>Macy’s Is Said to Receive Takeover Approach by...</td>\n",
       "      <td>Michael J. de la Merced and Rachel Abrams</td>\n",
       "      <td>The Macy’s of today grew from the union of sev...</td>\n",
       "      <td>0</td>\n",
       "      <td>Michael J. de la Merced and Rachel AbramsMacy’...</td>\n",
       "    </tr>\n",
       "    <tr>\n",
       "      <th>20798</th>\n",
       "      <td>20798</td>\n",
       "      <td>NATO, Russia To Hold Parallel Exercises In Bal...</td>\n",
       "      <td>Alex Ansary</td>\n",
       "      <td>NATO, Russia To Hold Parallel Exercises In Bal...</td>\n",
       "      <td>1</td>\n",
       "      <td>Alex AnsaryNATO, Russia To Hold Parallel Exerc...</td>\n",
       "    </tr>\n",
       "    <tr>\n",
       "      <th>20799</th>\n",
       "      <td>20799</td>\n",
       "      <td>What Keeps the F-35 Alive</td>\n",
       "      <td>David Swanson</td>\n",
       "      <td>David Swanson is an author, activist, journa...</td>\n",
       "      <td>1</td>\n",
       "      <td>David SwansonWhat Keeps the F-35 Alive</td>\n",
       "    </tr>\n",
       "  </tbody>\n",
       "</table>\n",
       "<p>20800 rows × 6 columns</p>\n",
       "</div>"
      ],
      "text/plain": [
       "          id                                              title  \\\n",
       "0          0  House Dem Aide: We Didn’t Even See Comey’s Let...   \n",
       "1          1  FLYNN: Hillary Clinton, Big Woman on Campus - ...   \n",
       "2          2                  Why the Truth Might Get You Fired   \n",
       "3          3  15 Civilians Killed In Single US Airstrike Hav...   \n",
       "4          4  Iranian woman jailed for fictional unpublished...   \n",
       "...      ...                                                ...   \n",
       "20795  20795  Rapper T.I.: Trump a ’Poster Child For White S...   \n",
       "20796  20796  N.F.L. Playoffs: Schedule, Matchups and Odds -...   \n",
       "20797  20797  Macy’s Is Said to Receive Takeover Approach by...   \n",
       "20798  20798  NATO, Russia To Hold Parallel Exercises In Bal...   \n",
       "20799  20799                          What Keeps the F-35 Alive   \n",
       "\n",
       "                                          author  \\\n",
       "0                                  Darrell Lucus   \n",
       "1                                Daniel J. Flynn   \n",
       "2                             Consortiumnews.com   \n",
       "3                                Jessica Purkiss   \n",
       "4                                 Howard Portnoy   \n",
       "...                                          ...   \n",
       "20795                              Jerome Hudson   \n",
       "20796                           Benjamin Hoffman   \n",
       "20797  Michael J. de la Merced and Rachel Abrams   \n",
       "20798                                Alex Ansary   \n",
       "20799                              David Swanson   \n",
       "\n",
       "                                                    text  label  \\\n",
       "0      House Dem Aide: We Didn’t Even See Comey’s Let...      1   \n",
       "1      Ever get the feeling your life circles the rou...      0   \n",
       "2      Why the Truth Might Get You Fired October 29, ...      1   \n",
       "3      Videos 15 Civilians Killed In Single US Airstr...      1   \n",
       "4      Print \\nAn Iranian woman has been sentenced to...      1   \n",
       "...                                                  ...    ...   \n",
       "20795  Rapper T. I. unloaded on black celebrities who...      0   \n",
       "20796  When the Green Bay Packers lost to the Washing...      0   \n",
       "20797  The Macy’s of today grew from the union of sev...      0   \n",
       "20798  NATO, Russia To Hold Parallel Exercises In Bal...      1   \n",
       "20799    David Swanson is an author, activist, journa...      1   \n",
       "\n",
       "                                                 content  \n",
       "0      Darrell LucusHouse Dem Aide: We Didn’t Even Se...  \n",
       "1      Daniel J. FlynnFLYNN: Hillary Clinton, Big Wom...  \n",
       "2      Consortiumnews.comWhy the Truth Might Get You ...  \n",
       "3      Jessica Purkiss15 Civilians Killed In Single U...  \n",
       "4      Howard PortnoyIranian woman jailed for fiction...  \n",
       "...                                                  ...  \n",
       "20795  Jerome HudsonRapper T.I.: Trump a ’Poster Chil...  \n",
       "20796  Benjamin HoffmanN.F.L. Playoffs: Schedule, Mat...  \n",
       "20797  Michael J. de la Merced and Rachel AbramsMacy’...  \n",
       "20798  Alex AnsaryNATO, Russia To Hold Parallel Exerc...  \n",
       "20799             David SwansonWhat Keeps the F-35 Alive  \n",
       "\n",
       "[20800 rows x 6 columns]"
      ]
     },
     "execution_count": 58,
     "metadata": {},
     "output_type": "execute_result"
    }
   ],
   "source": [
    "news_data"
   ]
  },
  {
   "cell_type": "markdown",
   "metadata": {},
   "source": [
    "text column is very huge so we will be predicting based on content\n",
    "separating features and target\n",
    "here features is content and target is label"
   ]
  },
  {
   "cell_type": "code",
   "execution_count": 59,
   "metadata": {},
   "outputs": [],
   "source": [
    "#Separating features and target\n",
    "x=news_data.drop(columns=\"label\", axis=1)\n",
    "y=news_data[\"label\"]"
   ]
  },
  {
   "cell_type": "code",
   "execution_count": 60,
   "metadata": {},
   "outputs": [
    {
     "data": {
      "text/html": [
       "<div>\n",
       "<style scoped>\n",
       "    .dataframe tbody tr th:only-of-type {\n",
       "        vertical-align: middle;\n",
       "    }\n",
       "\n",
       "    .dataframe tbody tr th {\n",
       "        vertical-align: top;\n",
       "    }\n",
       "\n",
       "    .dataframe thead th {\n",
       "        text-align: right;\n",
       "    }\n",
       "</style>\n",
       "<table border=\"1\" class=\"dataframe\">\n",
       "  <thead>\n",
       "    <tr style=\"text-align: right;\">\n",
       "      <th></th>\n",
       "      <th>id</th>\n",
       "      <th>title</th>\n",
       "      <th>author</th>\n",
       "      <th>text</th>\n",
       "      <th>content</th>\n",
       "    </tr>\n",
       "  </thead>\n",
       "  <tbody>\n",
       "    <tr>\n",
       "      <th>0</th>\n",
       "      <td>0</td>\n",
       "      <td>House Dem Aide: We Didn’t Even See Comey’s Let...</td>\n",
       "      <td>Darrell Lucus</td>\n",
       "      <td>House Dem Aide: We Didn’t Even See Comey’s Let...</td>\n",
       "      <td>Darrell LucusHouse Dem Aide: We Didn’t Even Se...</td>\n",
       "    </tr>\n",
       "    <tr>\n",
       "      <th>1</th>\n",
       "      <td>1</td>\n",
       "      <td>FLYNN: Hillary Clinton, Big Woman on Campus - ...</td>\n",
       "      <td>Daniel J. Flynn</td>\n",
       "      <td>Ever get the feeling your life circles the rou...</td>\n",
       "      <td>Daniel J. FlynnFLYNN: Hillary Clinton, Big Wom...</td>\n",
       "    </tr>\n",
       "    <tr>\n",
       "      <th>2</th>\n",
       "      <td>2</td>\n",
       "      <td>Why the Truth Might Get You Fired</td>\n",
       "      <td>Consortiumnews.com</td>\n",
       "      <td>Why the Truth Might Get You Fired October 29, ...</td>\n",
       "      <td>Consortiumnews.comWhy the Truth Might Get You ...</td>\n",
       "    </tr>\n",
       "    <tr>\n",
       "      <th>3</th>\n",
       "      <td>3</td>\n",
       "      <td>15 Civilians Killed In Single US Airstrike Hav...</td>\n",
       "      <td>Jessica Purkiss</td>\n",
       "      <td>Videos 15 Civilians Killed In Single US Airstr...</td>\n",
       "      <td>Jessica Purkiss15 Civilians Killed In Single U...</td>\n",
       "    </tr>\n",
       "    <tr>\n",
       "      <th>4</th>\n",
       "      <td>4</td>\n",
       "      <td>Iranian woman jailed for fictional unpublished...</td>\n",
       "      <td>Howard Portnoy</td>\n",
       "      <td>Print \\nAn Iranian woman has been sentenced to...</td>\n",
       "      <td>Howard PortnoyIranian woman jailed for fiction...</td>\n",
       "    </tr>\n",
       "    <tr>\n",
       "      <th>...</th>\n",
       "      <td>...</td>\n",
       "      <td>...</td>\n",
       "      <td>...</td>\n",
       "      <td>...</td>\n",
       "      <td>...</td>\n",
       "    </tr>\n",
       "    <tr>\n",
       "      <th>20795</th>\n",
       "      <td>20795</td>\n",
       "      <td>Rapper T.I.: Trump a ’Poster Child For White S...</td>\n",
       "      <td>Jerome Hudson</td>\n",
       "      <td>Rapper T. I. unloaded on black celebrities who...</td>\n",
       "      <td>Jerome HudsonRapper T.I.: Trump a ’Poster Chil...</td>\n",
       "    </tr>\n",
       "    <tr>\n",
       "      <th>20796</th>\n",
       "      <td>20796</td>\n",
       "      <td>N.F.L. Playoffs: Schedule, Matchups and Odds -...</td>\n",
       "      <td>Benjamin Hoffman</td>\n",
       "      <td>When the Green Bay Packers lost to the Washing...</td>\n",
       "      <td>Benjamin HoffmanN.F.L. Playoffs: Schedule, Mat...</td>\n",
       "    </tr>\n",
       "    <tr>\n",
       "      <th>20797</th>\n",
       "      <td>20797</td>\n",
       "      <td>Macy’s Is Said to Receive Takeover Approach by...</td>\n",
       "      <td>Michael J. de la Merced and Rachel Abrams</td>\n",
       "      <td>The Macy’s of today grew from the union of sev...</td>\n",
       "      <td>Michael J. de la Merced and Rachel AbramsMacy’...</td>\n",
       "    </tr>\n",
       "    <tr>\n",
       "      <th>20798</th>\n",
       "      <td>20798</td>\n",
       "      <td>NATO, Russia To Hold Parallel Exercises In Bal...</td>\n",
       "      <td>Alex Ansary</td>\n",
       "      <td>NATO, Russia To Hold Parallel Exercises In Bal...</td>\n",
       "      <td>Alex AnsaryNATO, Russia To Hold Parallel Exerc...</td>\n",
       "    </tr>\n",
       "    <tr>\n",
       "      <th>20799</th>\n",
       "      <td>20799</td>\n",
       "      <td>What Keeps the F-35 Alive</td>\n",
       "      <td>David Swanson</td>\n",
       "      <td>David Swanson is an author, activist, journa...</td>\n",
       "      <td>David SwansonWhat Keeps the F-35 Alive</td>\n",
       "    </tr>\n",
       "  </tbody>\n",
       "</table>\n",
       "<p>20800 rows × 5 columns</p>\n",
       "</div>"
      ],
      "text/plain": [
       "          id                                              title  \\\n",
       "0          0  House Dem Aide: We Didn’t Even See Comey’s Let...   \n",
       "1          1  FLYNN: Hillary Clinton, Big Woman on Campus - ...   \n",
       "2          2                  Why the Truth Might Get You Fired   \n",
       "3          3  15 Civilians Killed In Single US Airstrike Hav...   \n",
       "4          4  Iranian woman jailed for fictional unpublished...   \n",
       "...      ...                                                ...   \n",
       "20795  20795  Rapper T.I.: Trump a ’Poster Child For White S...   \n",
       "20796  20796  N.F.L. Playoffs: Schedule, Matchups and Odds -...   \n",
       "20797  20797  Macy’s Is Said to Receive Takeover Approach by...   \n",
       "20798  20798  NATO, Russia To Hold Parallel Exercises In Bal...   \n",
       "20799  20799                          What Keeps the F-35 Alive   \n",
       "\n",
       "                                          author  \\\n",
       "0                                  Darrell Lucus   \n",
       "1                                Daniel J. Flynn   \n",
       "2                             Consortiumnews.com   \n",
       "3                                Jessica Purkiss   \n",
       "4                                 Howard Portnoy   \n",
       "...                                          ...   \n",
       "20795                              Jerome Hudson   \n",
       "20796                           Benjamin Hoffman   \n",
       "20797  Michael J. de la Merced and Rachel Abrams   \n",
       "20798                                Alex Ansary   \n",
       "20799                              David Swanson   \n",
       "\n",
       "                                                    text  \\\n",
       "0      House Dem Aide: We Didn’t Even See Comey’s Let...   \n",
       "1      Ever get the feeling your life circles the rou...   \n",
       "2      Why the Truth Might Get You Fired October 29, ...   \n",
       "3      Videos 15 Civilians Killed In Single US Airstr...   \n",
       "4      Print \\nAn Iranian woman has been sentenced to...   \n",
       "...                                                  ...   \n",
       "20795  Rapper T. I. unloaded on black celebrities who...   \n",
       "20796  When the Green Bay Packers lost to the Washing...   \n",
       "20797  The Macy’s of today grew from the union of sev...   \n",
       "20798  NATO, Russia To Hold Parallel Exercises In Bal...   \n",
       "20799    David Swanson is an author, activist, journa...   \n",
       "\n",
       "                                                 content  \n",
       "0      Darrell LucusHouse Dem Aide: We Didn’t Even Se...  \n",
       "1      Daniel J. FlynnFLYNN: Hillary Clinton, Big Wom...  \n",
       "2      Consortiumnews.comWhy the Truth Might Get You ...  \n",
       "3      Jessica Purkiss15 Civilians Killed In Single U...  \n",
       "4      Howard PortnoyIranian woman jailed for fiction...  \n",
       "...                                                  ...  \n",
       "20795  Jerome HudsonRapper T.I.: Trump a ’Poster Chil...  \n",
       "20796  Benjamin HoffmanN.F.L. Playoffs: Schedule, Mat...  \n",
       "20797  Michael J. de la Merced and Rachel AbramsMacy’...  \n",
       "20798  Alex AnsaryNATO, Russia To Hold Parallel Exerc...  \n",
       "20799             David SwansonWhat Keeps the F-35 Alive  \n",
       "\n",
       "[20800 rows x 5 columns]"
      ]
     },
     "execution_count": 60,
     "metadata": {},
     "output_type": "execute_result"
    }
   ],
   "source": [
    "x"
   ]
  },
  {
   "cell_type": "code",
   "execution_count": 61,
   "metadata": {},
   "outputs": [
    {
     "data": {
      "text/plain": [
       "0        1\n",
       "1        0\n",
       "2        1\n",
       "3        1\n",
       "4        1\n",
       "        ..\n",
       "20795    0\n",
       "20796    0\n",
       "20797    0\n",
       "20798    1\n",
       "20799    1\n",
       "Name: label, Length: 20800, dtype: int64"
      ]
     },
     "execution_count": 61,
     "metadata": {},
     "output_type": "execute_result"
    }
   ],
   "source": [
    "y"
   ]
  },
  {
   "cell_type": "markdown",
   "metadata": {},
   "source": [
    "<hr/>\n",
    "<b>Stemming:</b><br/>\n",
    "It is the process of reducing a word to its root word<br/>\n",
    "enjoy - enjoyable - enjoying - enjoys all these will be replaced with its root word<br/>\n",
    "We will be doing this using porterstemmer function"
   ]
  },
  {
   "cell_type": "code",
   "execution_count": 62,
   "metadata": {},
   "outputs": [],
   "source": [
    "port_stem=PorterStemmer()"
   ]
  },
  {
   "cell_type": "code",
   "execution_count": 64,
   "metadata": {},
   "outputs": [],
   "source": [
    "def stemming(content):\n",
    "    stemmed_content=re.sub(\"[^a-zA-Z]\",\" \",content) #it will take all the word by not considering the commas and punctuation stuff\n",
    "    stemmed_content=stemmed_content.lower() #lower func is present in re library converting everything to lower case\n",
    "    stemmed_content=stemmed_content.split()\n",
    "    stemmed_content=[port_stem.stem(word) for word in stemmed_content if not word in stopwords.words(\"english\")] #one of the most imp line\n",
    "    stemmed_content=' '.join(stemmed_content) #after stemming we have to join\n",
    "    return stemmed_content"
   ]
  },
  {
   "cell_type": "code",
   "execution_count": 65,
   "metadata": {},
   "outputs": [],
   "source": [
    "news_data[\"content\"] = news_data[\"content\"].apply(stemming)"
   ]
  },
  {
   "cell_type": "code",
   "execution_count": 66,
   "metadata": {},
   "outputs": [
    {
     "name": "stdout",
     "output_type": "stream",
     "text": [
      "0        darrel lucushous dem aid even see comey letter...\n",
      "1        daniel j flynnflynn hillari clinton big woman ...\n",
      "2                consortiumnew comwhi truth might get fire\n",
      "3        jessica purkiss civilian kill singl us airstri...\n",
      "4        howard portnoyiranian woman jail fiction unpub...\n",
      "                               ...                        \n",
      "20795    jerom hudsonrapp trump poster child white supr...\n",
      "20796    benjamin hoffmann f l playoff schedul matchup ...\n",
      "20797    michael j de la merc rachel abramsmaci said re...\n",
      "20798    alex ansarynato russia hold parallel exercis b...\n",
      "20799                        david swansonwhat keep f aliv\n",
      "Name: content, Length: 20800, dtype: object\n"
     ]
    }
   ],
   "source": [
    "print(news_data[\"content\"])"
   ]
  },
  {
   "cell_type": "code",
   "execution_count": 67,
   "metadata": {},
   "outputs": [],
   "source": [
    "X= news_data[\"content\"].values\n",
    "Y= news_data[\"label\"].values\n",
    "#X and Y becomes a list (vector)"
   ]
  },
  {
   "cell_type": "code",
   "execution_count": 68,
   "metadata": {},
   "outputs": [
    {
     "name": "stdout",
     "output_type": "stream",
     "text": [
      "['darrel lucushous dem aid even see comey letter jason chaffetz tweet'\n",
      " 'daniel j flynnflynn hillari clinton big woman campu breitbart'\n",
      " 'consortiumnew comwhi truth might get fire' ...\n",
      " 'michael j de la merc rachel abramsmaci said receiv takeov approach hudson bay new york time'\n",
      " 'alex ansarynato russia hold parallel exercis balkan'\n",
      " 'david swansonwhat keep f aliv']\n"
     ]
    }
   ],
   "source": [
    "print(X)"
   ]
  },
  {
   "cell_type": "code",
   "execution_count": 69,
   "metadata": {},
   "outputs": [
    {
     "name": "stdout",
     "output_type": "stream",
     "text": [
      "[1 0 1 ... 0 1 1]\n"
     ]
    }
   ],
   "source": [
    "print(Y)"
   ]
  },
  {
   "cell_type": "code",
   "execution_count": 70,
   "metadata": {},
   "outputs": [
    {
     "data": {
      "text/plain": [
       "(20800,)"
      ]
     },
     "execution_count": 70,
     "metadata": {},
     "output_type": "execute_result"
    }
   ],
   "source": [
    "Y.shape"
   ]
  },
  {
   "cell_type": "code",
   "execution_count": 71,
   "metadata": {},
   "outputs": [
    {
     "data": {
      "text/plain": [
       "(20800,)"
      ]
     },
     "execution_count": 71,
     "metadata": {},
     "output_type": "execute_result"
    }
   ],
   "source": [
    "X.shape"
   ]
  },
  {
   "cell_type": "code",
   "execution_count": 72,
   "metadata": {},
   "outputs": [],
   "source": [
    "# Converting the textual data to feature vectors\n",
    "vectorizer = TfidfVectorizer()\n",
    "vectorizer.fit(X)\n",
    "X=vectorizer.transform(X)"
   ]
  },
  {
   "cell_type": "code",
   "execution_count": 73,
   "metadata": {},
   "outputs": [
    {
     "name": "stdout",
     "output_type": "stream",
     "text": [
      "  (0, 26340)\t0.28088379401596425\n",
      "  (0, 22724)\t0.2552336018069161\n",
      "  (0, 15019)\t0.43006226759639316\n",
      "  (0, 14555)\t0.29177259684200296\n",
      "  (0, 12782)\t0.24619727512767195\n",
      "  (0, 8022)\t0.23133661742488731\n",
      "  (0, 6273)\t0.2839932825877813\n",
      "  (0, 5969)\t0.35488202138141456\n",
      "  (0, 5006)\t0.2472595823572816\n",
      "  (0, 4211)\t0.3625320323150658\n",
      "  (0, 578)\t0.2694167078545385\n",
      "  (1, 27923)\t0.36911845953845024\n",
      "  (1, 11313)\t0.24166773097712638\n",
      "  (1, 8772)\t0.5258635625386451\n",
      "  (1, 5916)\t0.31810058109638056\n",
      "  (1, 4767)\t0.23338756776626793\n",
      "  (1, 3859)\t0.45980466668763476\n",
      "  (1, 3281)\t0.18652439327549428\n",
      "  (1, 2622)\t0.3562953366945267\n",
      "  (2, 26235)\t0.3665032495181434\n",
      "  (2, 16361)\t0.43295215406038445\n",
      "  (2, 9454)\t0.30743020569262086\n",
      "  (2, 8567)\t0.3411947414020896\n",
      "  (2, 5240)\t0.40440534260277944\n",
      "  (2, 5121)\t0.5511414848555652\n",
      "  :\t:\n",
      "  (20797, 25776)\t0.08220218573989037\n",
      "  (20797, 25319)\t0.3119640221826561\n",
      "  (20797, 22086)\t0.24902354987792552\n",
      "  (20797, 20778)\t0.2729578683228216\n",
      "  (20797, 20493)\t0.249994989010826\n",
      "  (20797, 17505)\t0.08090456115716123\n",
      "  (20797, 16315)\t0.1785200594251359\n",
      "  (20797, 16217)\t0.3273246827604847\n",
      "  (20797, 14104)\t0.22761807337911874\n",
      "  (20797, 11692)\t0.2992170910232368\n",
      "  (20797, 6088)\t0.21253094503918346\n",
      "  (20797, 2257)\t0.3357782642976524\n",
      "  (20797, 1249)\t0.3072223353708335\n",
      "  (20797, 72)\t0.38829670969848273\n",
      "  (20798, 21937)\t0.2284042880065583\n",
      "  (20798, 18760)\t0.43981843518920394\n",
      "  (20798, 11434)\t0.3219420705942853\n",
      "  (20798, 8095)\t0.40266358130888547\n",
      "  (20798, 1921)\t0.43981843518920394\n",
      "  (20798, 1081)\t0.4638903157542853\n",
      "  (20798, 697)\t0.2827933658592677\n",
      "  (20799, 25148)\t0.6713314187498636\n",
      "  (20799, 13329)\t0.4138037375613909\n",
      "  (20799, 6018)\t0.345590335823275\n",
      "  (20799, 732)\t0.5085743925573473\n"
     ]
    }
   ],
   "source": [
    "print(X)"
   ]
  }
 ],
 "metadata": {
  "colab": {
   "provenance": []
  },
  "kernelspec": {
   "display_name": "Python 3 (ipykernel)",
   "language": "python",
   "name": "python3"
  },
  "language_info": {
   "codemirror_mode": {
    "name": "ipython",
    "version": 3
   },
   "file_extension": ".py",
   "mimetype": "text/x-python",
   "name": "python",
   "nbconvert_exporter": "python",
   "pygments_lexer": "ipython3",
   "version": "3.11.3"
  }
 },
 "nbformat": 4,
 "nbformat_minor": 1
}
