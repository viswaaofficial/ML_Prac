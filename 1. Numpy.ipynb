{
 "cells": [
  {
   "cell_type": "markdown",
   "id": "dabbd3f9",
   "metadata": {},
   "source": [
    "## Numpy Practice"
   ]
  },
  {
   "cell_type": "code",
   "execution_count": 4,
   "id": "f8f904d0",
   "metadata": {},
   "outputs": [
    {
     "name": "stdout",
     "output_type": "stream",
     "text": [
      "[1 2 3 4]\n",
      "<class 'numpy.ndarray'>\n"
     ]
    }
   ],
   "source": [
    "import numpy as np\n",
    "x=np.array([1,2,3,4])\n",
    "print(x)\n",
    "print(type(x))"
   ]
  },
  {
   "cell_type": "code",
   "execution_count": 3,
   "id": "af535fee",
   "metadata": {},
   "outputs": [
    {
     "name": "stdout",
     "output_type": "stream",
     "text": [
      "[1, 2, 3, 4]\n",
      "<class 'list'>\n"
     ]
    }
   ],
   "source": [
    "L=[1,2,3,4]\n",
    "print(L)\n",
    "print(type(L))"
   ]
  },
  {
   "cell_type": "code",
   "execution_count": 3,
   "id": "08ffb7b1",
   "metadata": {},
   "outputs": [
    {
     "name": "stdout",
     "output_type": "stream",
     "text": [
      "997 ns ± 5.55 ns per loop (mean ± std. dev. of 7 runs, 1,000,000 loops each)\n"
     ]
    }
   ],
   "source": [
    " %timeit [j**4 for j in range(1,9)]"
   ]
  },
  {
   "cell_type": "markdown",
   "id": "3ada7923",
   "metadata": {},
   "source": [
    " ##### arange is used to create array from 1 to 8"
   ]
  },
  {
   "cell_type": "code",
   "execution_count": 6,
   "id": "8411e9df",
   "metadata": {},
   "outputs": [
    {
     "name": "stdout",
     "output_type": "stream",
     "text": [
      "2.42 µs ± 63.5 ns per loop (mean ± std. dev. of 7 runs, 100,000 loops each)\n"
     ]
    }
   ],
   "source": [
    "%timeit np.arange(1,9)**4"
   ]
  },
  {
   "cell_type": "code",
   "execution_count": 7,
   "id": "649ba9b2",
   "metadata": {},
   "outputs": [
    {
     "name": "stdout",
     "output_type": "stream",
     "text": [
      "[1, 16, 81, 256, 625, 1296, 2401, 4096]\n"
     ]
    }
   ],
   "source": [
    " a=[j**4 for j in range(1,9)]\n",
    "print(a)"
   ]
  },
  {
   "cell_type": "code",
   "execution_count": 8,
   "id": "2fcd13f3",
   "metadata": {},
   "outputs": [
    {
     "name": "stdout",
     "output_type": "stream",
     "text": [
      "[1 2 3 4 5 6 7 8]\n"
     ]
    }
   ],
   "source": [
    "a=np.arange(1,9)\n",
    "print(a)"
   ]
  },
  {
   "cell_type": "code",
   "execution_count": 9,
   "id": "206c1116",
   "metadata": {},
   "outputs": [
    {
     "name": "stdout",
     "output_type": "stream",
     "text": [
      "[   1   16   81  256  625 1296 2401 4096]\n"
     ]
    }
   ],
   "source": [
    "a=np.arange(1,9)**4\n",
    "print(a)"
   ]
  },
  {
   "cell_type": "markdown",
   "id": "80f55224",
   "metadata": {},
   "source": [
    "###### NumPy Arrays Creation"
   ]
  },
  {
   "cell_type": "code",
   "execution_count": 13,
   "id": "ca61fba6",
   "metadata": {},
   "outputs": [
    {
     "name": "stdout",
     "output_type": "stream",
     "text": [
      "[1 2 3]\n"
     ]
    }
   ],
   "source": [
    "a=np.array([1,2,3])\n",
    "print(a)"
   ]
  },
  {
   "cell_type": "code",
   "execution_count": 16,
   "id": "2be36426",
   "metadata": {},
   "outputs": [
    {
     "data": {
      "text/plain": [
       "array([1, 2, 3, 4])"
      ]
     },
     "execution_count": 16,
     "metadata": {},
     "output_type": "execute_result"
    }
   ],
   "source": [
    "L=[1,2,3,4]\n",
    "Y=np.array(L)\n",
    "Y"
   ]
  },
  {
   "cell_type": "code",
   "execution_count": 22,
   "id": "24f3ef31",
   "metadata": {},
   "outputs": [
    {
     "data": {
      "text/plain": [
       "[1, 2, 3, 4]"
      ]
     },
     "execution_count": 22,
     "metadata": {},
     "output_type": "execute_result"
    }
   ],
   "source": [
    "L=[1,2,3,4]\n",
    "L"
   ]
  },
  {
   "cell_type": "code",
   "execution_count": 23,
   "id": "ba82e9f3",
   "metadata": {},
   "outputs": [
    {
     "name": "stdout",
     "output_type": "stream",
     "text": [
      "Enter :1\n",
      "Enter :2\n",
      "Enter :3\n",
      "Enter :4\n"
     ]
    },
    {
     "data": {
      "text/plain": [
       "['1', '2', '3', '4']"
      ]
     },
     "execution_count": 23,
     "metadata": {},
     "output_type": "execute_result"
    }
   ],
   "source": [
    "l=[]\n",
    "for i in range(1,5):\n",
    "    int_1 = input(\"Enter :\")\n",
    "    l.append(int_1)\n",
    "l"
   ]
  },
  {
   "cell_type": "code",
   "execution_count": 25,
   "id": "5c0c7b1d",
   "metadata": {},
   "outputs": [
    {
     "name": "stdout",
     "output_type": "stream",
     "text": [
      "Enter :1\n",
      "Enter :2\n",
      "Enter :3\n",
      "Enter :5\n",
      "[1 2 3 5]\n"
     ]
    }
   ],
   "source": [
    "l=[]\n",
    "for i in range(1,5):\n",
    "    int_1 = int(input(\"Enter :\"))\n",
    "    l.append(int_1)\n",
    "print(np.array(l))"
   ]
  },
  {
   "cell_type": "markdown",
   "id": "2bba22a1",
   "metadata": {},
   "source": [
    "##### Types of arrys\n",
    "##### 1D  [1 2 3 4] \n",
    "##### 2D [[1 2 3 4]]\n",
    "##### 3D [[[1 2 3 4]]]\n",
    "##### Higher Dimensional arrays\n",
    "##### ndim function can be used to identify array dimensions"
   ]
  },
  {
   "cell_type": "code",
   "execution_count": 27,
   "id": "7f9017fe",
   "metadata": {},
   "outputs": [
    {
     "name": "stdout",
     "output_type": "stream",
     "text": [
      "Enter :1\n",
      "Enter :2\n",
      "Enter :3\n",
      "Enter :4\n",
      "[1 2 3 4]\n",
      "Dimension 1\n"
     ]
    }
   ],
   "source": [
    "l=[]\n",
    "for i in range(1,5):\n",
    "    int_1 = int(input(\"Enter :\"))\n",
    "    l.append(int_1)\n",
    "print(np.array(l))\n",
    "print(\"Dimension\",np.array(l).ndim)"
   ]
  },
  {
   "cell_type": "code",
   "execution_count": 28,
   "id": "52a01a0e",
   "metadata": {},
   "outputs": [
    {
     "name": "stdout",
     "output_type": "stream",
     "text": [
      "2\n"
     ]
    }
   ],
   "source": [
    "ar2 = np.array([[1,2,3,4]])\n",
    "print(ar2.ndim)"
   ]
  },
  {
   "cell_type": "code",
   "execution_count": 29,
   "id": "49d555c5",
   "metadata": {},
   "outputs": [
    {
     "name": "stdout",
     "output_type": "stream",
     "text": [
      "[[1 2 3 4]\n",
      " [1 2 3 4]]\n"
     ]
    }
   ],
   "source": [
    "ar2 = np.array([[1,2,3,4],[1,2,3,4]])\n",
    "print(ar2)"
   ]
  },
  {
   "cell_type": "code",
   "execution_count": 30,
   "id": "af13af7c",
   "metadata": {},
   "outputs": [
    {
     "ename": "ValueError",
     "evalue": "setting an array element with a sequence. The requested array has an inhomogeneous shape after 1 dimensions. The detected shape was (2,) + inhomogeneous part.",
     "output_type": "error",
     "traceback": [
      "\u001b[1;31m---------------------------------------------------------------------------\u001b[0m",
      "\u001b[1;31mValueError\u001b[0m                                Traceback (most recent call last)",
      "Cell \u001b[1;32mIn[30], line 1\u001b[0m\n\u001b[1;32m----> 1\u001b[0m ar2 \u001b[38;5;241m=\u001b[39m np\u001b[38;5;241m.\u001b[39marray([[\u001b[38;5;241m1\u001b[39m,\u001b[38;5;241m2\u001b[39m,\u001b[38;5;241m3\u001b[39m,\u001b[38;5;241m4\u001b[39m],[\u001b[38;5;241m1\u001b[39m,\u001b[38;5;241m2\u001b[39m,\u001b[38;5;241m3\u001b[39m]])\n\u001b[0;32m      2\u001b[0m \u001b[38;5;28mprint\u001b[39m(ar2)\n",
      "\u001b[1;31mValueError\u001b[0m: setting an array element with a sequence. The requested array has an inhomogeneous shape after 1 dimensions. The detected shape was (2,) + inhomogeneous part."
     ]
    }
   ],
   "source": [
    "ar2 = np.array([[1,2,3,4],[1,2,3]]) #length of all arrays should be same otherwise you will encounter error\n",
    "print(ar2) "
   ]
  },
  {
   "cell_type": "code",
   "execution_count": 31,
   "id": "a2bee5a5",
   "metadata": {},
   "outputs": [
    {
     "name": "stdout",
     "output_type": "stream",
     "text": [
      "[[[1 2 3 4]\n",
      "  [1 2 3 4]\n",
      "  [1 2 3 4]]]\n",
      "3\n"
     ]
    }
   ],
   "source": [
    "ar3 = np.array([[[1,2,3,4],[1,2,3,4],[1,2,3,4]]])\n",
    "print(ar3)\n",
    "print(ar3.ndim)"
   ]
  },
  {
   "cell_type": "code",
   "execution_count": 34,
   "id": "fdbc5303",
   "metadata": {},
   "outputs": [
    {
     "name": "stdout",
     "output_type": "stream",
     "text": [
      "[[[[[[[[[[1 2 3 4]]]]]]]]]]\n",
      "10\n"
     ]
    }
   ],
   "source": [
    "#multidimensional\n",
    "#for 10 dimensional instead of 10 [] we have a shortcut using ndmin\n",
    "arn = np.array([1,2,3,4],ndmin=10)\n",
    "print(arn)\n",
    "print(arn.ndim)"
   ]
  },
  {
   "cell_type": "raw",
   "id": "d4aaec13",
   "metadata": {},
   "source": [
    "#Creating numpy arrays using functions\n",
    "#Array filled with 0 (all elements are 0)\n",
    "#filled with 1\n",
    "#create an empty array\n",
    "#array with a range of elements\n",
    "#all diagnol element filled with 1's\n",
    "#create an array with values that are spaced linearly in specified interval"
   ]
  },
  {
   "cell_type": "markdown",
   "id": "b0afce2b",
   "metadata": {},
   "source": [
    "#### Zeros"
   ]
  },
  {
   "cell_type": "code",
   "execution_count": 5,
   "id": "ef078c25",
   "metadata": {},
   "outputs": [
    {
     "name": "stdout",
     "output_type": "stream",
     "text": [
      "[0. 0. 0. 0.]\n",
      "\n",
      "[[0. 0. 0. 0.]\n",
      " [0. 0. 0. 0.]\n",
      " [0. 0. 0. 0.]]\n"
     ]
    }
   ],
   "source": [
    "import numpy as np\n",
    "ar_zero = np.zeros(4) #one dimensional array is formed\n",
    "ar_zero_md = np.zeros((3,4)) #3 rows and 4 columns\n",
    "print(ar_zero)\n",
    "print()\n",
    "print(ar_zero_md)"
   ]
  },
  {
   "cell_type": "markdown",
   "id": "7a22da65",
   "metadata": {},
   "source": [
    "#### Ones"
   ]
  },
  {
   "cell_type": "code",
   "execution_count": 7,
   "id": "7dafadc3",
   "metadata": {},
   "outputs": [
    {
     "name": "stdout",
     "output_type": "stream",
     "text": [
      "[1. 1. 1. 1.]\n",
      "\n",
      "[[1. 1. 1. 1.]\n",
      " [1. 1. 1. 1.]\n",
      " [1. 1. 1. 1.]]\n"
     ]
    }
   ],
   "source": [
    "import numpy as np\n",
    "ar_one = np.ones(4) #one dimensional array is formed\n",
    "ar_one_md = np.ones((3,4)) #3 rows and 4 columns\n",
    "print(ar_one)\n",
    "print()\n",
    "print(ar_one_md)"
   ]
  },
  {
   "cell_type": "markdown",
   "id": "09637746",
   "metadata": {},
   "source": [
    "#### Empty Array"
   ]
  },
  {
   "cell_type": "code",
   "execution_count": 8,
   "id": "9b58b709",
   "metadata": {},
   "outputs": [
    {
     "name": "stdout",
     "output_type": "stream",
     "text": [
      "[1. 1. 1. 1.]\n"
     ]
    }
   ],
   "source": [
    "ar_em = np.empty(4)\n",
    "print(ar_em) #empty array is created\n"
   ]
  },
  {
   "cell_type": "raw",
   "id": "070e6e51",
   "metadata": {},
   "source": [
    "we are getting all 1 because an empty array is created using your previous memory"
   ]
  },
  {
   "cell_type": "markdown",
   "id": "c6d19317",
   "metadata": {},
   "source": [
    "#### Range"
   ]
  },
  {
   "cell_type": "code",
   "execution_count": 9,
   "id": "c7b60221",
   "metadata": {},
   "outputs": [
    {
     "name": "stdout",
     "output_type": "stream",
     "text": [
      "[1 2 3 4 5 6 7]\n"
     ]
    }
   ],
   "source": [
    "ar_rn = np.arange(1,8)\n",
    "print(ar_rn)"
   ]
  },
  {
   "cell_type": "markdown",
   "id": "f900cae4",
   "metadata": {},
   "source": [
    "#### Making an Identity matrix or Diagnol as 1"
   ]
  },
  {
   "cell_type": "code",
   "execution_count": 10,
   "id": "101c97ab",
   "metadata": {},
   "outputs": [
    {
     "name": "stdout",
     "output_type": "stream",
     "text": [
      "[[1. 0. 0.]\n",
      " [0. 1. 0.]\n",
      " [0. 0. 1.]]\n"
     ]
    }
   ],
   "source": [
    "ar_dia = np.eye(3)\n",
    "print(ar_dia) #creates a 3x3 array"
   ]
  },
  {
   "cell_type": "code",
   "execution_count": 11,
   "id": "6da0c483",
   "metadata": {},
   "outputs": [
    {
     "name": "stdout",
     "output_type": "stream",
     "text": [
      "[[1. 0. 0. 0. 0.]\n",
      " [0. 1. 0. 0. 0.]\n",
      " [0. 0. 1. 0. 0.]]\n"
     ]
    }
   ],
   "source": [
    "ar_dia = np.eye(3,5)\n",
    "print(ar_dia) #creates a 3x5 array"
   ]
  },
  {
   "cell_type": "markdown",
   "id": "ac7d9413",
   "metadata": {},
   "source": [
    "#### array with spaced linearly in a specifed interval"
   ]
  },
  {
   "cell_type": "code",
   "execution_count": 12,
   "id": "337e52fd",
   "metadata": {},
   "outputs": [
    {
     "name": "stdout",
     "output_type": "stream",
     "text": [
      "[ 1.    3.25  5.5   7.75 10.  ]\n"
     ]
    }
   ],
   "source": [
    "#all elements will be present with a specific space\n",
    "ar_lin = np.linspace(1,10,num=5) #1 to 10 with num of element as 5\n",
    "print(ar_lin)"
   ]
  },
  {
   "cell_type": "code",
   "execution_count": 13,
   "id": "4669073a",
   "metadata": {},
   "outputs": [
    {
     "name": "stdout",
     "output_type": "stream",
     "text": [
      "[ 0.   2.5  5.   7.5 10. ]\n"
     ]
    }
   ],
   "source": [
    "#all elements will be present with a specific space\n",
    "ar_lin = np.linspace(0,10,num=5) #0 to 10 with num of element as 5\n",
    "print(ar_lin)"
   ]
  },
  {
   "cell_type": "code",
   "execution_count": 18,
   "id": "254e7487",
   "metadata": {},
   "outputs": [
    {
     "name": "stdout",
     "output_type": "stream",
     "text": [
      "[ 2.  4.  6.  8. 10.]\n"
     ]
    }
   ],
   "source": [
    "ar_lin = np.linspace(2,10,num=5) #0 to 10 with num of element as 5\n",
    "print(ar_lin)"
   ]
  },
  {
   "cell_type": "markdown",
   "id": "dcd0db4d",
   "metadata": {},
   "source": [
    "#### Random"
   ]
  },
  {
   "cell_type": "code",
   "execution_count": 20,
   "id": "09830594",
   "metadata": {},
   "outputs": [
    {
     "name": "stdout",
     "output_type": "stream",
     "text": [
      "[0.76175254 0.47572005 0.30865402 0.99261702]\n"
     ]
    }
   ],
   "source": [
    "#Rand() Function ranges between 0 to 1\n",
    "import numpy as np\n",
    "var = np.random.rand(4)\n",
    "print(var)"
   ]
  },
  {
   "cell_type": "code",
   "execution_count": 26,
   "id": "d6233d5a",
   "metadata": {},
   "outputs": [
    {
     "name": "stdout",
     "output_type": "stream",
     "text": [
      "[[0.51389089 0.78579476 0.6695838  0.27365002]\n",
      " [0.52530057 0.01342296 0.27582606 0.09000788]]\n"
     ]
    }
   ],
   "source": [
    "#Rand() Function for multidimensional\n",
    "import numpy as np\n",
    "var = np.random.rand(2,4) #2 dimensional with 4 elements each\n",
    "print(var)"
   ]
  },
  {
   "cell_type": "code",
   "execution_count": 22,
   "id": "4a845c94",
   "metadata": {},
   "outputs": [
    {
     "name": "stdout",
     "output_type": "stream",
     "text": [
      "[-0.63420016 -0.75279938 -0.61763292 -0.92639401]\n"
     ]
    }
   ],
   "source": [
    "#Randn() Function gives positive and negative nums close to 0\n",
    "import numpy as np\n",
    "var = np.random.randn(4)\n",
    "print(var)"
   ]
  },
  {
   "cell_type": "raw",
   "id": "336c2009",
   "metadata": {},
   "source": [
    "O/P 1: [-0.12457854 -0.56076725 -0.19806785 -0.49635641]\n",
    "O/P 2: [-0.63420016 -0.75279938 -0.61763292 -0.92639401]"
   ]
  },
  {
   "cell_type": "code",
   "execution_count": 27,
   "id": "02a59ee4",
   "metadata": {},
   "outputs": [
    {
     "name": "stdout",
     "output_type": "stream",
     "text": [
      "[[ 1.11122409  0.4464054  -2.30815505  0.72021626]\n",
      " [ 0.68402292 -1.44523111 -0.14974352  0.12111095]]\n"
     ]
    }
   ],
   "source": [
    "#Randn() Function multidimensional\n",
    "import numpy as np\n",
    "var = np.random.randn(2,4)\n",
    "print(var)"
   ]
  },
  {
   "cell_type": "code",
   "execution_count": 29,
   "id": "344a1fc2",
   "metadata": {},
   "outputs": [
    {
     "name": "stdout",
     "output_type": "stream",
     "text": [
      "[0.5885876  0.21389612 0.86093058 0.20659896]\n"
     ]
    }
   ],
   "source": [
    "#Randf() Function #[0.0,1.0)\n",
    "import numpy as np\n",
    "var = np.random.ranf(4)\n",
    "print(var)"
   ]
  },
  {
   "cell_type": "code",
   "execution_count": 32,
   "id": "95c0cc9d",
   "metadata": {},
   "outputs": [
    {
     "name": "stdout",
     "output_type": "stream",
     "text": [
      "[4 6 2 7]\n"
     ]
    }
   ],
   "source": [
    "#Randint() Function\n",
    "import numpy as np\n",
    "var = np.random.randint(1,8,4) #from to length\n",
    "print(var)"
   ]
  },
  {
   "cell_type": "markdown",
   "id": "f9862bff",
   "metadata": {},
   "source": [
    "#### DATA TYPES NUMPY ARRAY"
   ]
  },
  {
   "cell_type": "raw",
   "id": "8ca22ffe",
   "metadata": {},
   "source": [
    "Data types\n",
    "bool_\n",
    "int_\n",
    "intc\n",
    "intp\n",
    "int8\n",
    "int16\n",
    "int32\n",
    "int 64\n",
    "uint8\n",
    "uint16\n",
    "uint32\n",
    "uint64\n",
    "float\n",
    "floati6\n",
    "float32\n",
    "float64\n",
    "complex _\n",
    "complex64\n",
    "complex128\n",
    "\n",
    "Boolean (True or False) stored as a byte\n",
    "Default integer type (same as C long; normally either\n",
    "int64 or int32)\n",
    "Identical to C int (normally int32 or int64)\n",
    "Integer used for indexing (same as C ssize_t; normally\n",
    "either int32 or int64)\n",
    "Byte (-128 to 127)\n",
    "Integer (-32768 to 32767)\n",
    "Integer (-2147483648 to 2147483647)\n",
    "Integer (-9223372036854775808 to\n",
    "9223372036854775807)\n",
    "Unsigned integer (O to 255)\n",
    "Unsigned integer (O to 65535)\n",
    "Unsigned integer (O to 4294967295)\n",
    "Unsigned integer (0 to 18446744073709551615)\n",
    "Shorthand for float64\n",
    "Half precision float: sign bit, 5 bits exponent, 1O bits\n",
    "mantissa\n",
    "Single precision float: sign bit, 8 bits exponent bits\n",
    "mantissa\n",
    "Double precision float: sign bit, 11 bits exponent\n",
    "bits mantissa\n",
    "Shorthand for complex128\n",
    "Complex number, represented by two 32-bit floats (real and imaginary components)\n",
    "Complex number, represented by two 64-bit floats (real and imaginary components)\n"
   ]
  },
  {
   "cell_type": "code",
   "execution_count": 33,
   "id": "f66ce99e",
   "metadata": {},
   "outputs": [
    {
     "name": "stdout",
     "output_type": "stream",
     "text": [
      "Data type :  int32\n"
     ]
    }
   ],
   "source": [
    "#How to find what datatype is used in a particular numpy array\n",
    "import numpy as np\n",
    "var = np.array([1,2,3,4])\n",
    "print(\"Data type : \",var.dtype)"
   ]
  },
  {
   "cell_type": "code",
   "execution_count": 35,
   "id": "dc2a1d92",
   "metadata": {},
   "outputs": [
    {
     "name": "stdout",
     "output_type": "stream",
     "text": [
      "Data type :  float64\n"
     ]
    }
   ],
   "source": [
    "var = np.array([1.2,5.62])\n",
    "print(\"Data type : \",var.dtype)"
   ]
  },
  {
   "cell_type": "code",
   "execution_count": 37,
   "id": "50046660",
   "metadata": {},
   "outputs": [
    {
     "name": "stdout",
     "output_type": "stream",
     "text": [
      "Data type :  <U1\n"
     ]
    }
   ],
   "source": [
    "var = np.array([\"a\",\"b\",\"c\"])\n",
    "print(\"Data type : \",var.dtype)"
   ]
  },
  {
   "cell_type": "code",
   "execution_count": 39,
   "id": "3be22684",
   "metadata": {},
   "outputs": [
    {
     "name": "stdout",
     "output_type": "stream",
     "text": [
      "Data type :  <U11\n"
     ]
    }
   ],
   "source": [
    "var = np.array([1,2,3,4,\"a\"]) #mix of data types\n",
    "print(\"Data type : \",var.dtype)"
   ]
  },
  {
   "cell_type": "raw",
   "id": "e78ffbe5",
   "metadata": {},
   "source": [
    "i- integer\n",
    "b- boolean\n",
    "u- unsigned integer\n",
    "f- float\n",
    "v- complex float\n",
    "m- timedelta\n",
    "M- datetime\n",
    "O- object\n",
    "S- string\n",
    "U- Unicode string\n",
    "V- the fixed chunk of memory for other types ( void )"
   ]
  },
  {
   "cell_type": "code",
   "execution_count": 42,
   "id": "539a4c51",
   "metadata": {},
   "outputs": [
    {
     "name": "stdout",
     "output_type": "stream",
     "text": [
      "Data Type :  int32\n",
      "Data Type :  int8\n"
     ]
    }
   ],
   "source": [
    "#DATA TYPE CONVERSION\n",
    "x=np.array([1,2,3,4])\n",
    "print(\"Data Type : \",x.dtype)\n",
    "y=np.array([1,2,3,4],dtype=np.int8)\n",
    "print(\"Data Type : \",y.dtype)"
   ]
  },
  {
   "cell_type": "code",
   "execution_count": 45,
   "id": "755ab655",
   "metadata": {},
   "outputs": [
    {
     "name": "stdout",
     "output_type": "stream",
     "text": [
      "Data Type :  float32\n",
      "[1. 2. 3. 4.]\n"
     ]
    }
   ],
   "source": [
    "#SHORTCUT\n",
    "#CONVERTING IT DIRECTLY TO FLOAT\n",
    "\n",
    "y=np.array([1,2,3,4],dtype=\"f\") #SHORTCUT f for float\n",
    "print(\"Data Type : \",y.dtype)\n",
    "print(y)"
   ]
  },
  {
   "cell_type": "code",
   "execution_count": 47,
   "id": "16995014",
   "metadata": {},
   "outputs": [
    {
     "name": "stdout",
     "output_type": "stream",
     "text": [
      "Data Type :  int32\n",
      "Data Type :  float32\n",
      "[1 2 3 4]\n",
      "[1. 2. 3. 4.]\n"
     ]
    }
   ],
   "source": [
    "#Conversion using functions\n",
    "x2=np.array([1,2,3,4])\n",
    "\n",
    "new = np.float32(x2)\n",
    "\n",
    "print(\"Data Type : \",x2.dtype)\n",
    "print(\"Data Type : \",new.dtype)\n",
    "\n",
    "print(x2)\n",
    "print(new)"
   ]
  },
  {
   "cell_type": "code",
   "execution_count": 48,
   "id": "7fcacf16",
   "metadata": {},
   "outputs": [
    {
     "name": "stdout",
     "output_type": "stream",
     "text": [
      "[1 2 3 4]\n",
      "[1. 2. 3. 4.]\n"
     ]
    }
   ],
   "source": [
    "#change type using astype\n",
    "x3=np.array([1,2,3,4])\n",
    "\n",
    "new_1 = x3.astype(float)\n",
    "print(x3)\n",
    "print(new_1)"
   ]
  },
  {
   "cell_type": "markdown",
   "id": "b8b63dbb",
   "metadata": {},
   "source": [
    "### SHAPE AND RESHAPING IN NUMPY "
   ]
  },
  {
   "cell_type": "markdown",
   "id": "1d820d2b",
   "metadata": {},
   "source": [
    "### Shape"
   ]
  },
  {
   "cell_type": "code",
   "execution_count": 2,
   "id": "e04a9003",
   "metadata": {},
   "outputs": [
    {
     "name": "stdout",
     "output_type": "stream",
     "text": [
      "[[1 2]\n",
      " [1 2]]\n",
      "\n",
      "(2, 2)\n"
     ]
    }
   ],
   "source": [
    "import numpy as np\n",
    "var=np.array([[1,2],[1,2]])\n",
    "\n",
    "print(var)\n",
    "print()\n",
    "print(var.shape)"
   ]
  },
  {
   "cell_type": "code",
   "execution_count": 3,
   "id": "35cd6b62",
   "metadata": {},
   "outputs": [
    {
     "name": "stdout",
     "output_type": "stream",
     "text": [
      "[[1 2 3 4]\n",
      " [1 3 4 2]]\n",
      "\n",
      "(2, 4)\n"
     ]
    }
   ],
   "source": [
    "import numpy as np\n",
    "var=np.array([[1,2,3,4],[1,3,4,2]])\n",
    "\n",
    "print(var)\n",
    "print()\n",
    "print(var.shape)"
   ]
  },
  {
   "cell_type": "code",
   "execution_count": 5,
   "id": "94a4d174",
   "metadata": {},
   "outputs": [
    {
     "name": "stdout",
     "output_type": "stream",
     "text": [
      "[[[[1 2 3 4]]]]\n"
     ]
    }
   ],
   "source": [
    "var1 = np.array([1,2,3,4],ndmin=4)\n",
    "print(var1)"
   ]
  },
  {
   "cell_type": "code",
   "execution_count": 6,
   "id": "a82788f8",
   "metadata": {},
   "outputs": [
    {
     "name": "stdout",
     "output_type": "stream",
     "text": [
      "[[[[1 2 3 4]]]]\n",
      "(1, 1, 1, 4)\n"
     ]
    }
   ],
   "source": [
    "var1 = np.array([1,2,3,4],ndmin=4)\n",
    "print(var1)\n",
    "print(var1.shape)"
   ]
  },
  {
   "cell_type": "raw",
   "id": "d74f86e9",
   "metadata": {},
   "source": [
    "#no of rows is 1 1 1\n",
    "#no of columns is 4"
   ]
  },
  {
   "cell_type": "markdown",
   "id": "91b1c910",
   "metadata": {},
   "source": [
    "### Reshape"
   ]
  },
  {
   "cell_type": "code",
   "execution_count": 10,
   "id": "00364cff",
   "metadata": {},
   "outputs": [
    {
     "name": "stdout",
     "output_type": "stream",
     "text": [
      "[1 2 3 4 5 6]\n",
      "\n",
      "[[1 2]\n",
      " [3 4]\n",
      " [5 6]]\n",
      "\n",
      "2\n"
     ]
    }
   ],
   "source": [
    "#converting dimensions\n",
    "var2 = np.array([1,2,3,4,5,6])\n",
    "print(var2)\n",
    "print()\n",
    "\n",
    "x=var2.reshape(3,2) #num of rows,num of cols & its 2D Array\n",
    "\n",
    "print(x)\n",
    "print()\n",
    "print(x.ndim)"
   ]
  },
  {
   "cell_type": "raw",
   "id": "f0aedefe",
   "metadata": {},
   "source": [
    "num of rows mentioned is not able to be filled due to less data elements error is encountered\n",
    "To do reshaping then number of elements should be increased"
   ]
  },
  {
   "cell_type": "code",
   "execution_count": 12,
   "id": "3bdbd91d",
   "metadata": {},
   "outputs": [
    {
     "name": "stdout",
     "output_type": "stream",
     "text": [
      "[ 1  2  3  4  5  6  7  8  9 10 11 12]\n",
      "\n",
      "[[[ 1  2]\n",
      "  [ 3  4]\n",
      "  [ 5  6]]\n",
      "\n",
      " [[ 7  8]\n",
      "  [ 9 10]\n",
      "  [11 12]]]\n",
      "\n",
      "3\n"
     ]
    }
   ],
   "source": [
    "#converting dimensions to 3 dimensions\n",
    "var3 = np.array([1,2,3,4,5,6,7,8,9,10,11,12])\n",
    "print(var3)\n",
    "print()\n",
    "\n",
    "x=var3.reshape(2,3,2) #num of rows, #num of rows inside that, #num of columns \n",
    "\n",
    "print(x)\n",
    "print()\n",
    "print(x.ndim)"
   ]
  },
  {
   "cell_type": "raw",
   "id": "995da51c",
   "metadata": {},
   "source": [
    "we can see first in total 2 rows and in each row 3 rows and in total 3 columns"
   ]
  },
  {
   "cell_type": "code",
   "execution_count": 17,
   "id": "b8bd518d",
   "metadata": {},
   "outputs": [
    {
     "name": "stdout",
     "output_type": "stream",
     "text": [
      "[ 1  2  3  4  5  6  7  8  9 10 11 12]\n",
      "\n",
      "[[[ 1  2]\n",
      "  [ 3  4]\n",
      "  [ 5  6]]\n",
      "\n",
      " [[ 7  8]\n",
      "  [ 9 10]\n",
      "  [11 12]]]\n",
      "\n",
      "3\n",
      "\n",
      "[ 1  2  3  4  5  6  7  8  9 10 11 12]\n",
      "\n",
      "1\n"
     ]
    }
   ],
   "source": [
    "var3 = np.array([1,2,3,4,5,6,7,8,9,10,11,12])\n",
    "print(var3)\n",
    "print()\n",
    "\n",
    "x=var3.reshape(2,3,2) #num of rows, #num of rows inside that, #num of columns \n",
    "\n",
    "print(x)\n",
    "print()\n",
    "print(x.ndim)\n",
    "print()\n",
    "\n",
    "y=x.reshape(-1) #it gets converted to one dimension\n",
    "print(y)\n",
    "print()\n",
    "print(y.ndim)"
   ]
  },
  {
   "cell_type": "code",
   "execution_count": 18,
   "id": "f474b903",
   "metadata": {},
   "outputs": [
    {
     "name": "stdout",
     "output_type": "stream",
     "text": [
      "[ 1  2  3  4  5  6  7  8  9 10 11 12]\n",
      "\n",
      "[[[ 1  2]\n",
      "  [ 3  4]\n",
      "  [ 5  6]]\n",
      "\n",
      " [[ 7  8]\n",
      "  [ 9 10]\n",
      "  [11 12]]]\n",
      "\n",
      "3\n",
      "\n",
      "[[ 1  2]\n",
      " [ 3  4]\n",
      " [ 5  6]\n",
      " [ 7  8]\n",
      " [ 9 10]\n",
      " [11 12]]\n",
      "\n",
      "2\n"
     ]
    }
   ],
   "source": [
    "var3 = np.array([1,2,3,4,5,6,7,8,9,10,11,12])\n",
    "print(var3)\n",
    "print()\n",
    "\n",
    "x=var3.reshape(2,3,2) #num of rows, #num of rows inside that, #num of columns \n",
    "\n",
    "print(x)\n",
    "print()\n",
    "print(x.ndim)\n",
    "print()\n",
    "\n",
    "y=x.reshape(-1,2) #it gets converted to one dimension\n",
    "print(y)\n",
    "print()\n",
    "print(y.ndim)"
   ]
  },
  {
   "cell_type": "markdown",
   "id": "5a0f7232",
   "metadata": {},
   "source": [
    "### ARITHMETIC OPERATION"
   ]
  },
  {
   "cell_type": "code",
   "execution_count": 20,
   "id": "4f49f499",
   "metadata": {},
   "outputs": [
    {
     "name": "stdout",
     "output_type": "stream",
     "text": [
      "[4 5 6 7]\n"
     ]
    }
   ],
   "source": [
    "import numpy as np\n",
    "\n",
    "var = np.array([1,2,3,4])\n",
    "\n",
    "varadd = var + 3  #all number added by 3\n",
    "print(varadd)"
   ]
  },
  {
   "cell_type": "code",
   "execution_count": 28,
   "id": "94d20a6b",
   "metadata": {},
   "outputs": [
    {
     "name": "stdout",
     "output_type": "stream",
     "text": [
      "[2 4 6 8]\n"
     ]
    }
   ],
   "source": [
    "var1 = np.array([1,2,3,4])\n",
    "var2 = np.array([1,2,3,4])\n",
    "\n",
    "varadd = var1 + var2\n",
    "print(varadd)"
   ]
  },
  {
   "cell_type": "code",
   "execution_count": 29,
   "id": "42854784",
   "metadata": {},
   "outputs": [
    {
     "name": "stdout",
     "output_type": "stream",
     "text": [
      "[2 4 6 8]\n"
     ]
    }
   ],
   "source": [
    "var1 = np.array([1,2,3,4])\n",
    "var2 = np.array([1,2,3,4])\n",
    "\n",
    "varadd = np.add(var1,var2)\n",
    "print(varadd)"
   ]
  },
  {
   "cell_type": "code",
   "execution_count": 22,
   "id": "38ad1fb4",
   "metadata": {},
   "outputs": [
    {
     "name": "stdout",
     "output_type": "stream",
     "text": [
      "[0 0 0 0]\n"
     ]
    }
   ],
   "source": [
    "var1 = np.array([1,2,3,4])\n",
    "var2 = np.array([1,2,3,4])\n",
    "\n",
    "varadd = var1 - var2\n",
    "print(varadd)"
   ]
  },
  {
   "cell_type": "code",
   "execution_count": 24,
   "id": "8a6db536",
   "metadata": {},
   "outputs": [
    {
     "name": "stdout",
     "output_type": "stream",
     "text": [
      "[ 1  4  9 16]\n"
     ]
    }
   ],
   "source": [
    "var1 = np.array([1,2,3,4])\n",
    "var2 = np.array([1,2,3,4])\n",
    "\n",
    "varadd = var1 * var2\n",
    "print(varadd)"
   ]
  },
  {
   "cell_type": "code",
   "execution_count": 25,
   "id": "d8415fc7",
   "metadata": {},
   "outputs": [
    {
     "name": "stdout",
     "output_type": "stream",
     "text": [
      "[1. 1. 1. 1.]\n"
     ]
    }
   ],
   "source": [
    "var1 = np.array([1,2,3,4])\n",
    "var2 = np.array([1,2,3,4])\n",
    "\n",
    "varadd = var1 / var2\n",
    "print(varadd)"
   ]
  },
  {
   "cell_type": "code",
   "execution_count": 27,
   "id": "fa63c781",
   "metadata": {},
   "outputs": [
    {
     "name": "stdout",
     "output_type": "stream",
     "text": [
      "[1 2 0 1]\n"
     ]
    }
   ],
   "source": [
    "var1 = np.array([1,2,3,4])\n",
    "var2 = np.array([1,2,3,4])\n",
    "\n",
    "varadd = var1 % 3\n",
    "print(varadd)"
   ]
  },
  {
   "cell_type": "raw",
   "id": "004d53fa",
   "metadata": {},
   "source": [
    "Functions allowed\n",
    "np.add(a,b)\n",
    "np.subtract(a,b)\n",
    "np.multiply(a,b)\n",
    "np.divide(a,b)\n",
    "np.mod(a,b)\n",
    "np.power(a,b)\n",
    "np.reciprocal(a)"
   ]
  },
  {
   "cell_type": "code",
   "execution_count": 34,
   "id": "3f1eb4eb",
   "metadata": {},
   "outputs": [
    {
     "name": "stdout",
     "output_type": "stream",
     "text": [
      "[1 0 0 0]\n"
     ]
    }
   ],
   "source": [
    "varr = np.array([1,2,3,4])\n",
    "\n",
    "varreci = np.reciprocal(varr)\n",
    "print(varreci)"
   ]
  },
  {
   "cell_type": "markdown",
   "id": "9346b667",
   "metadata": {},
   "source": [
    "### 2D Array"
   ]
  },
  {
   "cell_type": "code",
   "execution_count": 31,
   "id": "80906298",
   "metadata": {},
   "outputs": [
    {
     "name": "stdout",
     "output_type": "stream",
     "text": [
      "[[ 2  4  6  8]\n",
      " [ 1  4 11  8]]\n"
     ]
    }
   ],
   "source": [
    "var21 = np.array([[1,2,3,4],[1,2,5,4]])\n",
    "var22 = np.array([[1,2,3,4],[0,2,6,4]]) \n",
    "\n",
    "varadd = var21 +var22\n",
    "print(varadd)"
   ]
  },
  {
   "cell_type": "raw",
   "id": "ff7a3127",
   "metadata": {},
   "source": [
    "np.min( x)\n",
    "np.max( x )\n",
    "np.argmin( x )\n",
    "np.sqrt( x )\n",
    "np.sin( x)\n",
    "np.cos( x )\n",
    "np.cumsum( x )"
   ]
  },
  {
   "cell_type": "code",
   "execution_count": 36,
   "id": "b74fe40b",
   "metadata": {},
   "outputs": [
    {
     "name": "stdout",
     "output_type": "stream",
     "text": [
      "min :  1 0\n",
      "min :  5 4\n"
     ]
    }
   ],
   "source": [
    "import numpy as np\n",
    "var = np.array([1,2,3,4,5,3,2])\n",
    "\n",
    "print(\"min : \",np.min(var),np.argmin(var)) #argmin provides position\n",
    "print(\"min : \",np.max(var),np.argmax(var))\n",
    "\n"
   ]
  },
  {
   "cell_type": "code",
   "execution_count": 39,
   "id": "0f6ea708",
   "metadata": {},
   "outputs": [
    {
     "name": "stdout",
     "output_type": "stream",
     "text": [
      "[1 5]\n",
      "[2 1 3]\n"
     ]
    }
   ],
   "source": [
    "var1 = np.array([[2,1,3],[9,5,6]])\n",
    "#Concept of axis\n",
    "#axis 0 is towards column\n",
    "#axis 1 is towards row\n",
    "print(np.min(var1,axis=1)) #provides you column which has min values\n",
    "print(np.min(var1,axis=0)) #provides you column which has min values\n",
    "\n",
    "#But how we came to the conclusion\n",
    "#it checks min of each column and then checks which column has the least\n",
    "#this is the concept followed here"
   ]
  },
  {
   "cell_type": "code",
   "execution_count": 43,
   "id": "5b709975",
   "metadata": {},
   "outputs": [
    {
     "name": "stdout",
     "output_type": "stream",
     "text": [
      "min :  1 0\n",
      "min :  4 3\n",
      "sqrt :  [1.         1.41421356 1.73205081 2.        ]\n",
      "sin :  [ 0.84147098  0.90929743  0.14112001 -0.7568025 ]\n",
      "cos :  [ 0.54030231 -0.41614684 -0.9899925  -0.65364362]\n"
     ]
    }
   ],
   "source": [
    "import numpy as np\n",
    "var = np.array([1,2,3,4])\n",
    "\n",
    "print(\"min : \",np.min(var),np.argmin(var)) #argmin provides position\n",
    "print(\"min : \",np.max(var),np.argmax(var))\n",
    "print(\"sqrt : \",np.sqrt(var))\n",
    "print(\"sin : \",np.sin(var))\n",
    "print(\"cos : \",np.cos(var))"
   ]
  },
  {
   "cell_type": "code",
   "execution_count": 45,
   "id": "3e13e35a",
   "metadata": {},
   "outputs": [
    {
     "name": "stdout",
     "output_type": "stream",
     "text": [
      "[1 3 6]\n"
     ]
    }
   ],
   "source": [
    "#Concept of cum sum\n",
    "#A=[1,2,3]\n",
    "#Output : [1,(1+2),(1+2+3)]\n",
    "\n",
    "import numpy as np\n",
    "var = np.array([1,2,3])\n",
    "\n",
    "varcs = np.cumsum(var)\n",
    "print(varcs)"
   ]
  },
  {
   "cell_type": "markdown",
   "id": "27e51850",
   "metadata": {},
   "source": [
    "### Broadcasting NumPy Arrays"
   ]
  },
  {
   "cell_type": "raw",
   "id": "be9812cb",
   "metadata": {},
   "source": [
    "2:03:02"
   ]
  },
  {
   "cell_type": "code",
   "execution_count": 1,
   "id": "12e3fc4c",
   "metadata": {},
   "outputs": [
    {
     "ename": "ValueError",
     "evalue": "operands could not be broadcast together with shapes (4,) (3,) ",
     "output_type": "error",
     "traceback": [
      "\u001b[1;31m---------------------------------------------------------------------------\u001b[0m",
      "\u001b[1;31mValueError\u001b[0m                                Traceback (most recent call last)",
      "Cell \u001b[1;32mIn[1], line 5\u001b[0m\n\u001b[0;32m      3\u001b[0m var1 \u001b[38;5;241m=\u001b[39m np\u001b[38;5;241m.\u001b[39marray([\u001b[38;5;241m1\u001b[39m,\u001b[38;5;241m2\u001b[39m,\u001b[38;5;241m3\u001b[39m,\u001b[38;5;241m4\u001b[39m])\n\u001b[0;32m      4\u001b[0m var2 \u001b[38;5;241m=\u001b[39m np\u001b[38;5;241m.\u001b[39marray([\u001b[38;5;241m1\u001b[39m,\u001b[38;5;241m2\u001b[39m,\u001b[38;5;241m3\u001b[39m])\n\u001b[1;32m----> 5\u001b[0m \u001b[38;5;28mprint\u001b[39m(var1\u001b[38;5;241m+\u001b[39mvar2)\n",
      "\u001b[1;31mValueError\u001b[0m: operands could not be broadcast together with shapes (4,) (3,) "
     ]
    }
   ],
   "source": [
    "import numpy as np\n",
    "\n",
    "var1 = np.array([1,2,3,4])\n",
    "var2 = np.array([1,2,3])\n",
    "print(var1+var2) #operands could not be broadcast together with shapes (4,) (3,) error occurs"
   ]
  },
  {
   "cell_type": "raw",
   "id": "c200c99e",
   "metadata": {},
   "source": [
    "for adding two arrays dimensions should remain same\n",
    "so now we have to compare the dimensions from right side\n",
    "(1x3) (3x1)\n",
    "from two of them atleast one should have 1\n",
    "so this operation can be performed\n",
    "addition of this array can be performed"
   ]
  },
  {
   "cell_type": "code",
   "execution_count": 10,
   "id": "71e771eb",
   "metadata": {},
   "outputs": [
    {
     "name": "stdout",
     "output_type": "stream",
     "text": [
      "[1 2 3]\n",
      "(3,)\n",
      "\n",
      "[[1]\n",
      " [2]\n",
      " [3]]\n",
      "(3, 1)\n",
      "\n",
      "[[2 3 4]\n",
      " [3 4 5]\n",
      " [4 5 6]]\n"
     ]
    }
   ],
   "source": [
    "import numpy as np\n",
    "\n",
    "var1 = np.array([1,2,3])\n",
    "print(var1)\n",
    "print(var1.shape) #(3,) means 1x3\n",
    "print()\n",
    "\n",
    "\n",
    "var2 = np.array([[1],[2],[3]])\n",
    "print(var2)\n",
    "print(var2.shape) #(3,1) means x1\n",
    "print()\n",
    "\n",
    "#final array which will be formed is max of 1,3 and max of 1,3 so 3,3\n",
    "\n",
    "print(var1+var2) #Two dimensions are compatible if they are equal or one of them is 1"
   ]
  },
  {
   "cell_type": "code",
   "execution_count": 8,
   "id": "6ae3780a",
   "metadata": {},
   "outputs": [],
   "source": [
    "# In numpy, when you perform operations like addition on arrays, the arrays are subject to a concept called broadcasting. Broadcasting allows arrays of different shapes to be combined in element-wise operations like addition, subtraction, multiplication, etc., under certain conditions.\n",
    "\n",
    "# In your example, you have two arrays: var1 and var2. Let's break down the shapes of these arrays and how broadcasting works in this case:\n",
    "\n",
    "# var1 has a shape of (3,), which can also be represented as a 1-dimensional array with 3 elements.\n",
    "# var2 has a shape of (3, 1), which can be thought of as a 3x1 matrix (3 rows and 1 column).\n",
    "# When you perform the operation var1 + var2, numpy uses broadcasting to determine if the shapes of the arrays can be aligned for element-wise addition. The broadcasting rules are as follows:\n",
    "\n",
    "# If the arrays have a different number of dimensions, left-pad the smaller shape with ones to match the number of dimensions of the larger shape.\n",
    "# Compare the shapes element-wise, starting from the trailing dimensions. Two dimensions are compatible if they are equal or one of them is 1.\n",
    "# If the dimensions are not compatible, a \"ValueError: operands could not be broadcast together\" is raised. Otherwise, the arrays can be broadcasted.\n",
    "# In your case, the shapes are (3,) and (3, 1). Since the trailing dimensions are compatible (either equal or one of them is 1), numpy will automatically broadcast the arrays for element-wise addition.\n",
    "\n",
    "# Here's how the broadcasting works for your example:\n",
    "\n",
    "# The shape of var1 is broadcasted to (3, 3), replicating the original array along a new dimension. This effectively creates a 3x3 matrix with the values of var1 repeated along each row.\n",
    "# The shape of var2 is broadcasted to (3, 3), replicating the original array along a new dimension. This effectively creates a 3x3 matrix with the values of var2 repeated along each column.\n",
    "# Now, the addition is performed element-wise between the broadcasted arrays, resulting in a 3x3 matrix where each element is the sum of the corresponding elements from var1 and var2.\n",
    "\n",
    "# In summary, the addition operation can be performed when the dimensions are compatible according to the broadcasting rules. In this case, broadcasting allows the 1x3 array and the 3x1 array to be added element-wise to produce a 3x3 result"
   ]
  },
  {
   "cell_type": "code",
   "execution_count": 2,
   "id": "dcea91a1",
   "metadata": {},
   "outputs": [
    {
     "name": "stdout",
     "output_type": "stream",
     "text": [
      "(2, 1)\n",
      "(2, 3)\n",
      "\n",
      "[[2 3 4]\n",
      " [3 4 5]]\n"
     ]
    }
   ],
   "source": [
    "import numpy as np\n",
    "x=np.array([[1],[2]])\n",
    "print(x.shape)\n",
    "\n",
    "y=np.array([[1,2,3],[1,2,3]])\n",
    "print(y.shape)\n",
    "\n",
    "#2x1 and 2x3 moving from right to left we have 1 in 2x1 so work is done\n",
    "print()\n",
    "print(x+y)\n",
    "#we will be getting output of 2x3 matrix"
   ]
  },
  {
   "cell_type": "markdown",
   "id": "aeea2081",
   "metadata": {},
   "source": [
    "### Indexing"
   ]
  },
  {
   "cell_type": "raw",
   "id": "f7f7b063",
   "metadata": {},
   "source": [
    "#Indexing in 1D Array\n",
    "# [1 2 3 4]\n",
    "#  0 1 2 3\n",
    "# -4 -3 -2 -1  negative indexing\n",
    "\n",
    "\n",
    "#Indexing in 2D Array\n",
    "[[1 2]   ->0\n",
    " [1 2]]  ->1\n",
    "  | |\n",
    "  0 1   -> row indexing\n",
    "  \n",
    "    \n",
    "#Indexing in 3D Array\n",
    "   0 1\n",
    "   | | \n",
    "[[[1 2 ] 0 for []\n",
    "  [1 2]] 1 for [] and till here 0 for [[]]\n",
    " [[1 2]  0 for []\n",
    "  [1 2]]] 1 for [] till here 1 for [[]]\n",
    "\n"
   ]
  },
  {
   "cell_type": "code",
   "execution_count": 4,
   "id": "f5df5e64",
   "metadata": {},
   "outputs": [
    {
     "name": "stdout",
     "output_type": "stream",
     "text": [
      "8   6\n"
     ]
    }
   ],
   "source": [
    "import numpy as np\n",
    "var=np.array([9,8,7,6])\n",
    "            # 0 1 2 3\n",
    "\n",
    "print(var[1],\" \",var[-1])"
   ]
  },
  {
   "cell_type": "code",
   "execution_count": 15,
   "id": "6b351f83",
   "metadata": {},
   "outputs": [
    {
     "name": "stdout",
     "output_type": "stream",
     "text": [
      "[[9 8 7]\n",
      " [4 5 6]]\n",
      "\n",
      "8\n",
      "8\n"
     ]
    }
   ],
   "source": [
    "var1 = np.array([[9,8,7],[4,5,6]])\n",
    "print(var1)\n",
    "print()\n",
    "print(var1[0][1]) #first at 0th index we have [9 8 7] and then at index 1 we have 8\n",
    "print(var1[0,1]) "
   ]
  },
  {
   "cell_type": "code",
   "execution_count": 14,
   "id": "e02121a9",
   "metadata": {},
   "outputs": [
    {
     "name": "stdout",
     "output_type": "stream",
     "text": [
      "3\n",
      "\n",
      "[[[1 2]\n",
      "  [3 4]]\n",
      "\n",
      " [[5 6]\n",
      "  [7 8]]]\n",
      "7\n"
     ]
    }
   ],
   "source": [
    "var2 = np.array([[[1,2],[3,4]],[[5,6],[7,8]]])\n",
    "print(var2.ndim)\n",
    "print()\n",
    "print(var2)\n",
    "print(var2[1,1,0])"
   ]
  },
  {
   "cell_type": "markdown",
   "id": "51cb4b46",
   "metadata": {},
   "source": [
    "### Slicing"
   ]
  },
  {
   "cell_type": "code",
   "execution_count": 22,
   "id": "8b810af1",
   "metadata": {},
   "outputs": [
    {
     "name": "stdout",
     "output_type": "stream",
     "text": [
      "[1 2 3 4 5 6 7]\n",
      "[3 4 5]\n",
      "[2 4]\n",
      "[3 4 5 6 7]\n",
      "[1 2 3 4 5 6 7]\n",
      "[1 2 3 4 5]\n"
     ]
    }
   ],
   "source": [
    "#from array we try to get some particular data set\n",
    "#slicing in 1D\n",
    "#start:stop:step\n",
    "var = np.array([1,2,3,4,5,6,7])\n",
    "print(var)\n",
    "a=var[2:5]\n",
    "b=var[1:5:2]\n",
    "c=var[2:] #2 to end\n",
    "d=var[:] #all\n",
    "e=var[:5] #start to 5\n",
    "print(a)\n",
    "print(b)\n",
    "print(c)\n",
    "print(d)\n",
    "print(e)"
   ]
  },
  {
   "cell_type": "code",
   "execution_count": 35,
   "id": "d352ee7b",
   "metadata": {},
   "outputs": [
    {
     "name": "stdout",
     "output_type": "stream",
     "text": [
      "[2 3 4 5]\n",
      "\n",
      "[ 7  8  9 10]\n",
      "\n",
      "[[ 6  7  8  9 10]\n",
      " [11 12 13 14 15]]\n",
      "\n",
      "[[11 12 13 14 15]]\n",
      "\n",
      "[11 12 13 14 15]\n"
     ]
    }
   ],
   "source": [
    "#Slicing in 2D Array\n",
    "var1 = np.array([[1,2,3,4,5],[6,7,8,9,10],[11,12,13,14,15]])\n",
    "print(var1[0,1:])\n",
    "print()\n",
    "print(var1[1,1:])\n",
    "print()\n",
    "print(var1[1:])\n",
    "print()\n",
    "print(var1[2:])\n",
    "print()\n",
    "print(var1[2,0:])"
   ]
  },
  {
   "cell_type": "markdown",
   "id": "061c9cca",
   "metadata": {},
   "source": [
    "### Iteration"
   ]
  },
  {
   "cell_type": "code",
   "execution_count": 36,
   "id": "b4f52245",
   "metadata": {},
   "outputs": [
    {
     "name": "stdout",
     "output_type": "stream",
     "text": [
      "1\n",
      "2\n",
      "3\n",
      "5\n",
      "7\n"
     ]
    }
   ],
   "source": [
    "#Iterating 1D\n",
    "import numpy as np\n",
    "\n",
    "var =np.array([1,2,3,5,7])\n",
    "for i in var:\n",
    "    print(i)"
   ]
  },
  {
   "cell_type": "code",
   "execution_count": 38,
   "id": "45111be7",
   "metadata": {},
   "outputs": [
    {
     "name": "stdout",
     "output_type": "stream",
     "text": [
      "[1 2 3 5 7]\n",
      "[1 2 3 5 7]\n",
      "\n",
      "1\n",
      "2\n",
      "3\n",
      "5\n",
      "7\n",
      "1\n",
      "2\n",
      "3\n",
      "5\n",
      "7\n"
     ]
    }
   ],
   "source": [
    "#Iterating 2D\n",
    "import numpy as np\n",
    "\n",
    "var =np.array([[1,2,3,5,7],[1,2,3,5,7]])\n",
    "for i in var:\n",
    "    print(i)\n",
    "print()\n",
    "\n",
    "for i in var:\n",
    "    for j in i:\n",
    "        print(j)\n",
    "        \n",
    "#for 3D we will have 3 for loops"
   ]
  },
  {
   "cell_type": "markdown",
   "id": "4531ca16",
   "metadata": {},
   "source": [
    "#### nditer() Function"
   ]
  },
  {
   "cell_type": "raw",
   "id": "7d79f288",
   "metadata": {},
   "source": [
    "Instead of many for loops we will use function\n",
    "Using nditer() function"
   ]
  },
  {
   "cell_type": "code",
   "execution_count": 47,
   "id": "bb804cb8",
   "metadata": {},
   "outputs": [
    {
     "name": "stdout",
     "output_type": "stream",
     "text": [
      "1\n",
      "2\n",
      "3\n",
      "5\n",
      "7\n",
      "1\n",
      "2\n",
      "3\n",
      "5\n",
      "7\n",
      "\n",
      "b'1'\n",
      "b'2'\n",
      "b'3'\n",
      "b'5'\n",
      "b'7'\n",
      "b'1'\n",
      "b'2'\n",
      "b'3'\n",
      "b'5'\n",
      "b'7'\n",
      "\n",
      "((0, 0), 1)\n",
      "((0, 1), 2)\n",
      "((0, 2), 3)\n",
      "((0, 3), 5)\n",
      "((0, 4), 7)\n",
      "((1, 0), 1)\n",
      "((1, 1), 2)\n",
      "((1, 2), 3)\n",
      "((1, 3), 5)\n",
      "((1, 4), 7)\n",
      "\n"
     ]
    }
   ],
   "source": [
    "#Iterating 2D\n",
    "import numpy as np\n",
    "\n",
    "var4 =np.array([[1,2,3,5,7],[1,2,3,5,7]])\n",
    "\n",
    "for i in np.nditer(var4):\n",
    "    print(i)\n",
    "print()\n",
    "\n",
    "#Parameters in nditer\n",
    "#we can even change its data type\n",
    "for i in np.nditer(var4,flags=['buffered'],op_dtypes=[\"S\"]): #buffer creates extra space where iterated data can be stored\n",
    "    print(i)\n",
    "print()\n",
    "\n",
    "#To print index number along with iteration\n",
    "#ndenumerate() function can be used\n",
    "for i in np.ndenumerate(var4):\n",
    "    print(i)\n",
    "print()"
   ]
  },
  {
   "cell_type": "markdown",
   "id": "d90206fe",
   "metadata": {},
   "source": [
    "### Copy vs View"
   ]
  },
  {
   "cell_type": "code",
   "execution_count": 57,
   "id": "775f6ee5",
   "metadata": {},
   "outputs": [
    {
     "name": "stdout",
     "output_type": "stream",
     "text": [
      "Var :  [1 2 3 4]\n",
      "Copy:  [1 2 3 4]\n",
      "\n",
      "Var :  [1 2 3 4]\n",
      "View:  [1 2 3 4]\n",
      "\n",
      "making changes in var[1]=14\n",
      "\n",
      "Var :  [ 1 14  3  4]\n",
      "View:  [ 1 14  3  4]\n",
      "\n",
      "Var :  [ 1 14  3  4]\n",
      "Copy:  [1 2 3 4]\n"
     ]
    }
   ],
   "source": [
    "#Copy and view are basically used to copy\n",
    "#There is a small difference between them thoo\n",
    "\n",
    "import numpy as np\n",
    "\n",
    "var=np.array([1,2,3,4])\n",
    "co=var.copy()\n",
    "print(\"Var : \",var)\n",
    "print(\"Copy: \",co)\n",
    "print()\n",
    "\n",
    "#Concept of View\n",
    "var=np.array([1,2,3,4])\n",
    "view=var.view()\n",
    "print(\"Var : \",var)\n",
    "print(\"View: \",view)\n",
    "print()\n",
    "\n",
    "print(\"making changes in var[1]=14\")\n",
    "var[1]=14\n",
    "print()\n",
    "print(\"Var : \",var)\n",
    "print(\"View: \",view)\n",
    "print()\n",
    "print(\"Var : \",var)\n",
    "print(\"Copy: \",co)\n"
   ]
  },
  {
   "cell_type": "raw",
   "id": "fe2d6b74",
   "metadata": {},
   "source": [
    "Differencess\n",
    "\n",
    "COPY...\n",
    "\n",
    "The copy owns the data.\n",
    "\n",
    "The copy of an array is a new\n",
    "array.\n",
    "\n",
    "The changes made in the copy\n",
    "data does not reflect in the\n",
    "original array.\n",
    "\n",
    "VIEW...\n",
    "\n",
    "The view does not own the data .\n",
    "\n",
    "It's just a view of the original array.\n",
    "\n",
    "any changes made to the view will\n",
    "affect the original array, and any\n",
    "changes made to the original array\n",
    "will affect the view."
   ]
  },
  {
   "cell_type": "markdown",
   "id": "ca479ab6",
   "metadata": {},
   "source": [
    "### Join Array"
   ]
  },
  {
   "cell_type": "code",
   "execution_count": 5,
   "id": "96a8fcfd",
   "metadata": {},
   "outputs": [
    {
     "name": "stdout",
     "output_type": "stream",
     "text": [
      "[1 2 3 4 9 8 7 6]\n"
     ]
    }
   ],
   "source": [
    "import numpy as np\n",
    "\n",
    "var = np.array([1,2,3,4])\n",
    "var1 = np.array([9,8,7,6])\n",
    "\n",
    "ar = np.concatenate((var,var1))\n",
    "\n",
    "print(ar)"
   ]
  },
  {
   "cell_type": "code",
   "execution_count": 10,
   "id": "a88008e1",
   "metadata": {},
   "outputs": [
    {
     "name": "stdout",
     "output_type": "stream",
     "text": [
      "[[1 2]\n",
      " [3 4]]\n",
      "\n",
      "[[9 8]\n",
      " [7 6]]\n",
      "\n",
      "[[1 2]\n",
      " [3 4]\n",
      " [9 8]\n",
      " [7 6]]\n",
      "\n",
      "[[1 2 9 8]\n",
      " [3 4 7 6]]\n"
     ]
    }
   ],
   "source": [
    "#2D Array\n",
    "vr = np.array([[1,2],[3,4]])\n",
    "vr1 = np.array([[9,8],[7,6]])\n",
    "print(vr)\n",
    "print()\n",
    "print(vr1)\n",
    "print()\n",
    "ar = np.concatenate((vr,vr1)) #by default it is concatenated along axis 0\n",
    "print(ar)\n",
    "print()\n",
    "ar1 = np.concatenate((vr,vr1),axis=1) #concatenating along a\n",
    "print(ar1)\n",
    "\n"
   ]
  },
  {
   "cell_type": "markdown",
   "id": "a38fca0c",
   "metadata": {},
   "source": [
    "##### Using Stack Function"
   ]
  },
  {
   "cell_type": "code",
   "execution_count": 21,
   "id": "8a2eb1b3",
   "metadata": {},
   "outputs": [
    {
     "name": "stdout",
     "output_type": "stream",
     "text": [
      "stack with axis = 1 \n",
      " [[1 9]\n",
      " [2 8]\n",
      " [3 7]\n",
      " [4 6]] \n",
      "\n",
      "\n",
      "stack with axis = 0 \n",
      " [[1 2 3 4]\n",
      " [9 8 7 6]] \n",
      "\n",
      "\n",
      "stack without axis  \n",
      " [[1 2 3 4]\n",
      " [9 8 7 6]] \n",
      "\n",
      "\n",
      "concatenate without axis \n",
      " [1 2 3 4 9 8 7 6] \n",
      "\n",
      "\n",
      "hstack - row wise \n",
      " [1 2 3 4 9 8 7 6] \n",
      "\n",
      "\n",
      "vstack - column wise \n",
      " [[1 2 3 4]\n",
      " [9 8 7 6]] \n",
      "\n",
      "\n",
      "hstack - height wise \n",
      " [[[1 9]\n",
      "  [2 8]\n",
      "  [3 7]\n",
      "  [4 6]]] \n",
      "\n",
      "\n"
     ]
    }
   ],
   "source": [
    "import numpy as np\n",
    "\n",
    "var_1 = np.array([1,2,3,4])\n",
    "var_2 = np.array([9,8,7,6])\n",
    "\n",
    "#stack function merges array and it works on the basis of axis\n",
    "a_new = np.stack((var_1,var_2),axis=1)\n",
    "a_new1 = np.stack((var_1,var_2),axis=0)\n",
    "a_new2 = np.stack((var_1,var_2))\n",
    "a_new3 = np.concatenate((var_1,var_2))\n",
    "# a_new4 = np.concatenate((var_1,var_2),axis=1)\n",
    "\n",
    "print(\"stack with axis = 1 \\n\",a_new,\"\\n\\n\")\n",
    "print(\"stack with axis = 0 \\n\",a_new1,\"\\n\\n\")\n",
    "print(\"stack without axis  \\n\",a_new2,\"\\n\\n\")\n",
    "print(\"concatenate without axis \\n\",a_new3,\"\\n\\n\")\n",
    "# print(\"concatenate with axis=1 \\n\",a_new4,\"\\n\\n\")\n",
    "#AxisError: axis 1 is out of bounds for array of dimension 1\n",
    "\n",
    "#we have 3 more stack function using which we can avoid axis\n",
    "a_new5 = np.hstack((var_1,var_2)) #Row wise\n",
    "a_new6 = np.vstack((var_1,var_2)) #Column wise\n",
    "a_new7 = np.dstack((var_1,var_2)) #Height wise\n",
    "\n",
    "print(\"hstack - row wise \\n\",a_new5,\"\\n\\n\")\n",
    "print(\"vstack - column wise \\n\",a_new6,\"\\n\\n\")\n",
    "print(\"hstack - height wise \\n\",a_new7,\"\\n\\n\")"
   ]
  },
  {
   "cell_type": "markdown",
   "id": "8003ad56",
   "metadata": {},
   "source": [
    "### Split Array"
   ]
  },
  {
   "cell_type": "code",
   "execution_count": 24,
   "id": "770b57c6",
   "metadata": {},
   "outputs": [
    {
     "name": "stdout",
     "output_type": "stream",
     "text": [
      "[1 2 3 4 5 6]\n",
      "\n",
      "[array([1, 2]), array([3, 4]), array([5, 6])]\n",
      "[1 2]\n"
     ]
    }
   ],
   "source": [
    "import numpy as np\n",
    "\n",
    "var = np.array([1,2,3,4,5,6])\n",
    "print(var)\n",
    "\n",
    "ar=np.array_split(var,3)\n",
    "\n",
    "print()\n",
    "print(ar)\n",
    "print(ar[0])"
   ]
  },
  {
   "cell_type": "code",
   "execution_count": 29,
   "id": "2a20c60a",
   "metadata": {},
   "outputs": [
    {
     "name": "stdout",
     "output_type": "stream",
     "text": [
      "[1 2 3 4 5 6]\n",
      "\n",
      "[array([[1, 2]]), array([[3, 4]]), array([[5, 6]])]\n",
      "[[1 2]]\n",
      "\n",
      "[array([[1],\n",
      "       [3],\n",
      "       [5]]), array([[2],\n",
      "       [4],\n",
      "       [6]]), array([], shape=(3, 0), dtype=int32)]\n",
      "[[1]\n",
      " [3]\n",
      " [5]]\n"
     ]
    }
   ],
   "source": [
    "#2D Array split into multiple 2D\n",
    "import numpy as np\n",
    "\n",
    "var1 = np.array([[1,2],[3,4],[5,6]])\n",
    "print(var)\n",
    "\n",
    "ar1=np.array_split(var1,3)\n",
    "ar2=np.array_split(var1,3,axis=1)\n",
    "\n",
    "print()\n",
    "print(ar1)\n",
    "print(ar1[0])\n",
    "print()\n",
    "print(ar2)\n",
    "print(ar2[0])"
   ]
  },
  {
   "cell_type": "markdown",
   "id": "675c46d9",
   "metadata": {},
   "source": [
    "### Searchinggg"
   ]
  },
  {
   "cell_type": "code",
   "execution_count": 33,
   "id": "432286b2",
   "metadata": {},
   "outputs": [
    {
     "name": "stdout",
     "output_type": "stream",
     "text": [
      "(array([1, 4, 6], dtype=int64),)\n",
      "(array([0, 1, 3, 4, 6, 8], dtype=int64),)\n"
     ]
    }
   ],
   "source": [
    "#Search Array : Search an array for a certain value, and return the indexes that get a match.\n",
    "import numpy as np\n",
    "var = np.array([4,2,3,4,2,5,2,5,6,7])\n",
    "# index         0,1,2,3,4,5,6,7,8,9\n",
    "x=np.where(var == 2)\n",
    "print(x) #provides u with all index values of 2\n",
    "\n",
    "y=np.where((var%2) ==0)\n",
    "print(y)"
   ]
  },
  {
   "cell_type": "code",
   "execution_count": 42,
   "id": "2803cd18",
   "metadata": {},
   "outputs": [
    {
     "name": "stdout",
     "output_type": "stream",
     "text": [
      "4\n",
      "4\n"
     ]
    }
   ],
   "source": [
    "# Search Sorted Array : which performs a binary search in the array, and returns the index where the specified value would\n",
    "# be inserted to maintain the search order.\n",
    "\n",
    "import numpy as np\n",
    "var1 = np.array([1,1,2,2,4,4,6,7,8,9,10,11])\n",
    "# index         0,1,2,3,4,5,617,8,9\n",
    "x1=np.searchsorted(var1,3) #in var 1 where can i place 5\n",
    "x2=np.searchsorted(var1,3,side='right')\n",
    "print(x1)\n",
    "print(x2)\n"
   ]
  },
  {
   "cell_type": "code",
   "execution_count": 43,
   "id": "5a549cb9",
   "metadata": {},
   "outputs": [
    {
     "name": "stdout",
     "output_type": "stream",
     "text": [
      "1\n",
      "4\n"
     ]
    }
   ],
   "source": [
    "import numpy as np\n",
    "var2 = np.array([1, 2, 2, 2, 4, 4, 6, 7, 8, 9, 10, 11])\n",
    "# index         0  1  2  3  4  5  6  7  8  9   10  11\n",
    "\n",
    "x3 = np.searchsorted(var2, 2)               # Find index to insert 2\n",
    "x4 = np.searchsorted(var2, 2, side=\"right\") # Find index to insert 2 on the right side\n",
    "\n",
    "print(x3)\n",
    "print(x4)\n"
   ]
  },
  {
   "cell_type": "markdown",
   "id": "c8d0a143",
   "metadata": {},
   "source": [
    "#### Sort Array"
   ]
  },
  {
   "cell_type": "code",
   "execution_count": 3,
   "id": "d0bd96c9",
   "metadata": {},
   "outputs": [
    {
     "name": "stdout",
     "output_type": "stream",
     "text": [
      "[ 1  2  3  4  5  6  7 12 22 52]\n",
      "['a' 'f' 's' 't' 'v']\n",
      "\n",
      "[[ 2  3  4]\n",
      " [ 1  5 12]\n",
      " [ 6 22 52]]\n"
     ]
    }
   ],
   "source": [
    "import numpy as np\n",
    "var_1= np.array([4,2,3,1,12,5,22,52,6,7])\n",
    "print(np.sort(var_1))\n",
    "\n",
    "var_2=np.array(['v','a','s','t','f'])\n",
    "print(np.sort(var_2))\n",
    "print()\n",
    "\n",
    "var_3= np.array([[4,2,3],[1,12,5],[22,52,6]])\n",
    "print(np.sort(var_3))"
   ]
  },
  {
   "cell_type": "markdown",
   "id": "8e9c25ee",
   "metadata": {},
   "source": [
    "### Filter"
   ]
  },
  {
   "cell_type": "code",
   "execution_count": 6,
   "id": "64b37644",
   "metadata": {},
   "outputs": [
    {
     "name": "stdout",
     "output_type": "stream",
     "text": [
      "['a' 'f']\n"
     ]
    }
   ],
   "source": [
    "# Filter Array : Getting some elements out of an existing array and\n",
    "# creating a new array out of them.\n",
    "# we already have index and slicing tho but when we use filter array we will get \n",
    "# a new array created\n",
    "\n",
    "var_4 = np.array([\"a\",\"s\",\"d\",\"f\"])\n",
    "#for elements i want i will mention True and which i don't as False\n",
    "f=[True,False,False,True]\n",
    "\n",
    "new_a = var_4[f]\n",
    "\n",
    "print(new_a)"
   ]
  },
  {
   "cell_type": "markdown",
   "id": "2678dad5",
   "metadata": {},
   "source": [
    "### Shuffle"
   ]
  },
  {
   "cell_type": "code",
   "execution_count": 8,
   "id": "a70785bf",
   "metadata": {},
   "outputs": [
    {
     "name": "stdout",
     "output_type": "stream",
     "text": [
      "[5 1 3 4 2]\n"
     ]
    }
   ],
   "source": [
    "import numpy as np\n",
    "var = np.array([1,2,3,4,5])\n",
    "np.random.shuffle(var) #shuffle function of random\n",
    "\n",
    "print(var) #on every run values changess"
   ]
  },
  {
   "cell_type": "markdown",
   "id": "41723e5f",
   "metadata": {},
   "source": [
    "### Unique"
   ]
  },
  {
   "cell_type": "code",
   "execution_count": 14,
   "id": "2dffae15",
   "metadata": {},
   "outputs": [
    {
     "name": "stdout",
     "output_type": "stream",
     "text": [
      "[1 2 3 4 5 6 7]\n",
      "\n",
      "(array([1, 2, 3, 4, 5, 6, 7]), array([0, 1, 2, 3, 5, 6, 8], dtype=int64))\n",
      "\n",
      "(array([1, 2, 3, 4, 5, 6, 7]), array([0, 1, 2, 3, 5, 6, 8], dtype=int64), array([1, 3, 1, 1, 1, 1, 1], dtype=int64))\n"
     ]
    }
   ],
   "source": [
    "import numpy as np\n",
    "var1 = np.array([1,2,3,4,2,5,6,2,7])\n",
    "x=np.unique(var1)\n",
    "y=np.unique(var1,return_index=True)\n",
    "z=np.unique(var1,return_index=True,return_counts=True)\n",
    "print(x)\n",
    "print()\n",
    "print(y)\n",
    "print()\n",
    "print(z)"
   ]
  },
  {
   "cell_type": "markdown",
   "id": "7d9e6bb7",
   "metadata": {},
   "source": [
    "### Resize"
   ]
  },
  {
   "cell_type": "code",
   "execution_count": 21,
   "id": "f8828774",
   "metadata": {},
   "outputs": [
    {
     "name": "stdout",
     "output_type": "stream",
     "text": [
      "[[1 2 3]\n",
      " [4 5 6]]\n",
      "\n",
      "[[1 2 3 4 5 6 1 2]\n",
      " [3 4 5 6 1 2 3 4]]\n"
     ]
    }
   ],
   "source": [
    "var2 = np.array([1,2,3,4,5,6])\n",
    "\n",
    "y = np.resize(var2,(2,3)) #2 rows with each 3 elements\n",
    "print(y)\n",
    "print()\n",
    "\n",
    "z = np.resize(var2,(2,8))\n",
    "print(z)"
   ]
  },
  {
   "cell_type": "markdown",
   "id": "73fd2ac4",
   "metadata": {},
   "source": [
    "### Flatten and Ravel converts 2D array to 1D array"
   ]
  },
  {
   "cell_type": "markdown",
   "id": "8dde858c",
   "metadata": {},
   "source": [
    "Order : {'C', 'F', 'A','K'}, Optional\n",
    "    \n",
    "'C' means to flatten in row-major (C-style) order.\n",
    "\n",
    "'F' means to flatten in column-major (Fortran-style) order.\n",
    "\n",
    "'A' means to flatten in column-major order if 'a' is Fortran *contiguous* in memory,row-major order otherwise.\n",
    "\n",
    "'K' means to flatten 'a' in the order the elements occur in memory\n",
    "\n",
    "The default is 'C'."
   ]
  },
  {
   "cell_type": "code",
   "execution_count": 35,
   "id": "bb0fe19b",
   "metadata": {},
   "outputs": [
    {
     "name": "stdout",
     "output_type": "stream",
     "text": [
      "[[1 2]\n",
      " [3 4]\n",
      " [5 6]]\n",
      "\n",
      "[1 2 3 4 5 6]\n",
      "\n",
      "[1 3 5 2 4 6]\n",
      "\n",
      "Ravel :  [1 2 3 4 5 6]\n",
      "\n",
      "Ravel :  [1 3 5 2 4 6]\n",
      "\n",
      "Ravel :  [1 2 3 4 5 6]\n",
      "\n",
      "Ravel :  [1 2 3 4 5 6]\n"
     ]
    }
   ],
   "source": [
    "var2 = np.array([1,2,3,4,5,6])\n",
    "\n",
    "y = np.resize(var2,(3,2)) \n",
    "\n",
    "print(y)\n",
    "print()\n",
    "#y is a 2D Array\n",
    "\n",
    "print(y.flatten()) #it gives us normal 1D Array in Row wise\n",
    "print()\n",
    "print(y.flatten(order='F')) #Column wise\n",
    "print()\n",
    "print(\"Ravel : \",np.ravel(y))\n",
    "print()\n",
    "print(\"Ravel : \",np.ravel(y,order='F'))\n",
    "print()\n",
    "print(\"Ravel : \",np.ravel(y,order='A'))\n",
    "print()\n",
    "print(\"Ravel : \",np.ravel(y,order='K'))"
   ]
  },
  {
   "cell_type": "markdown",
   "id": "fc7ce7df",
   "metadata": {},
   "source": [
    "### Theory behind this concept"
   ]
  },
  {
   "cell_type": "markdown",
   "id": "84fff830",
   "metadata": {},
   "source": [
    "When you have a multi-dimensional array (let's call it 'a') and you want to flatten it into a one-dimensional array, you can specify different orders in which the elements are arranged in the flattened array. The 'A' order specifier is a bit more complex and flexible compared to the 'C' (row-major) and 'F' (column-major) orders.\n",
    "\n",
    "The 'A' order behaves as follows:\n",
    "\n",
    "If the array 'a' is stored in memory in a column-major (Fortran-style) contiguous manner, the flattened array will also be in column-major order. In column-major order, the elements from the same column are stored adjacently in memory.\n",
    "\n",
    "If the array 'a' is not stored in a column-major contiguous manner but is stored in a row-major (C-style) contiguous manner, then the flattened array will be in row-major order. In row-major order, the elements from the same row are stored adjacently in memory.\n",
    "\n",
    "If the array 'a' is neither column-major contiguous nor row-major contiguous, the flattened array order will depend on the memory layout of 'a'. It will follow the order of elements as they occur in memory.\n",
    "\n",
    "In simpler terms, 'A' tries to make the flattened array as similar to the original array's memory layout as possible. If the original array is already column-major contiguous, the flattened array will be in column-major order. If the original array is row-major contiguous, the flattened array will be in row-major order. And if the original array has a more complex memory layout, the flattened array will follow the actual order of elements in memory.\n",
    "\n",
    "This flexibility is particularly useful when dealing with arrays that might have various memory layouts, as 'A' will attempt to maintain the memory locality of the elements in the flattened array as closely as possible to the original array.\n",
    "\n",
    "If you specifically want to see an example where the 'A' order produces column-major flattening, it's important to note that such cases are rare and might not occur naturally with typical array structures. The 'A' order's behavior is mostly influenced by the memory layout of the array, and in most cases, it would result in row-major order."
   ]
  },
  {
   "cell_type": "markdown",
   "id": "c0db8493",
   "metadata": {},
   "source": [
    "### Insert and Delete Functions"
   ]
  },
  {
   "cell_type": "code",
   "execution_count": 42,
   "id": "f451efa2",
   "metadata": {},
   "outputs": [
    {
     "name": "stdout",
     "output_type": "stream",
     "text": [
      "[1 2 3 4]\n",
      "[1 5 2 3 4]\n",
      "[1 2 5 3 4 5]\n",
      "[1 5 2 3 4]\n"
     ]
    }
   ],
   "source": [
    "#Insert\n",
    "import numpy as np\n",
    "var = np.array([1,2,3,4])\n",
    "print(var)\n",
    "\n",
    "v=np.insert(var,1,5) #array name , position , value\n",
    "print(v)\n",
    "\n",
    "s=np.insert(var,(2,4),5) #inserting multiple data\n",
    "print(s)\n",
    "\n",
    "#trying to insert float value\n",
    "v1=np.insert(var,1,5.8) #array name , position , value\n",
    "print(v1)\n"
   ]
  },
  {
   "cell_type": "code",
   "execution_count": 50,
   "id": "24a0923f",
   "metadata": {},
   "outputs": [
    {
     "name": "stdout",
     "output_type": "stream",
     "text": [
      "[1 2 6 3 1 2 3]\n",
      "\n",
      "[[1 2 3]\n",
      " [1 2 3]\n",
      " [6 6 6]]\n",
      "\n",
      "[[1 2 6 3]\n",
      " [1 2 6 3]]\n",
      "\n",
      "[[ 1  2  3]\n",
      " [ 1  2  3]\n",
      " [22 23 24]]\n",
      "\n",
      "[[ 1  2 22  3]\n",
      " [ 1  2 23  3]]\n"
     ]
    }
   ],
   "source": [
    "#2D\n",
    "var1 = np.array([[1,2,3],[1,2,3]])\n",
    "v1=np.insert(var1,2,6)\n",
    "print(v1)\n",
    "print()\n",
    "\n",
    "v2=np.insert(var1,2,6,axis=0)\n",
    "print(v2)\n",
    "print()\n",
    "\n",
    "v3=np.insert(var1,2,6,axis=1)\n",
    "print(v3)\n",
    "print()\n",
    "\n",
    "v4=np.insert(var1,2,[22,23,24],axis=0)\n",
    "print(v4)\n",
    "print()\n",
    "\n",
    "v5=np.insert(var1,2,[22,23],axis=1)\n",
    "print(v5)"
   ]
  },
  {
   "cell_type": "code",
   "execution_count": 52,
   "id": "c3973d36",
   "metadata": {},
   "outputs": [
    {
     "name": "stdout",
     "output_type": "stream",
     "text": [
      "[1 2 3 4]\n",
      "[1.  2.  3.  4.  6.5]\n"
     ]
    }
   ],
   "source": [
    "#We can insert data using append\n",
    "import numpy as np\n",
    "var = np.array([1,2,3,4])\n",
    "print(var)\n",
    "\n",
    "x=np.append(var,6.5)\n",
    "\n",
    "print(x)"
   ]
  },
  {
   "cell_type": "code",
   "execution_count": 62,
   "id": "f8c6d48e",
   "metadata": {},
   "outputs": [
    {
     "name": "stdout",
     "output_type": "stream",
     "text": [
      "[[1 2 3 6]\n",
      " [1 2 3 6]]\n"
     ]
    }
   ],
   "source": [
    "#2D\n",
    "var1 = np.array([[1,2,3],[1,2,3]])\n",
    "v1=np.append(var1,[[6],[6]],axis=1)\n",
    "print(v1)"
   ]
  },
  {
   "cell_type": "code",
   "execution_count": 63,
   "id": "4729dece",
   "metadata": {},
   "outputs": [
    {
     "name": "stdout",
     "output_type": "stream",
     "text": [
      "[[1 2 3]\n",
      " [1 2 3]\n",
      " [1 2 3]]\n"
     ]
    }
   ],
   "source": [
    "#2D\n",
    "var1 = np.array([[1,2,3],[1,2,3]])\n",
    "v1=np.append(var1,[[1,2,3]],axis=0)\n",
    "print(v1)"
   ]
  },
  {
   "cell_type": "markdown",
   "id": "d5a0635f",
   "metadata": {},
   "source": [
    "### Delete"
   ]
  },
  {
   "cell_type": "code",
   "execution_count": 66,
   "id": "6b756789",
   "metadata": {},
   "outputs": [
    {
     "name": "stdout",
     "output_type": "stream",
     "text": [
      "[1 2 3 4]\n",
      "[1 2 4]\n"
     ]
    }
   ],
   "source": [
    "import numpy as np\n",
    "var1 = np.array([1,2,3,4])\n",
    "print(var1)\n",
    "d=np.delete(var1,2) #deleting value at index 2\n",
    "print(d)"
   ]
  },
  {
   "cell_type": "markdown",
   "id": "8c3222a5",
   "metadata": {},
   "source": [
    " ### Matrix in NumPy Arrays"
   ]
  },
  {
   "cell_type": "code",
   "execution_count": 70,
   "id": "12049730",
   "metadata": {},
   "outputs": [
    {
     "name": "stdout",
     "output_type": "stream",
     "text": [
      "[[1 2 3]\n",
      " [1 2 3]]\n",
      "<class 'numpy.matrix'>\n"
     ]
    }
   ],
   "source": [
    "#Num of rows x Num of columns\n",
    "\n",
    "import numpy as np\n",
    "var=np.matrix([[1,2,3],[1,2,3]])\n",
    "print(var)\n",
    "print(type(var))"
   ]
  },
  {
   "cell_type": "code",
   "execution_count": 71,
   "id": "1a279598",
   "metadata": {},
   "outputs": [
    {
     "name": "stdout",
     "output_type": "stream",
     "text": [
      "[[1 2 3]\n",
      " [1 2 3]]\n",
      "<class 'numpy.ndarray'>\n"
     ]
    }
   ],
   "source": [
    "var1=np.array([[1,2,3],[1,2,3]])\n",
    "print(var1)\n",
    "print(type(var1))"
   ]
  },
  {
   "cell_type": "code",
   "execution_count": 77,
   "id": "8021f4d2",
   "metadata": {},
   "outputs": [
    {
     "name": "stdout",
     "output_type": "stream",
     "text": [
      "[[2 4 6]\n",
      " [2 4 6]]\n",
      "\n",
      "[[3 6]\n",
      " [3 6]]\n",
      "\n",
      "[[3 6]\n",
      " [3 6]]\n"
     ]
    }
   ],
   "source": [
    "#Arithmetic Operation in Matrix\n",
    "var1=np.matrix([[1,2,3],[1,2,3]])\n",
    "var2=np.matrix([[1,2,3],[1,2,3]])\n",
    "print(var1+var2)\n",
    "print()\n",
    "\n",
    "#in case of multiplication we get error if dimesions dont match\n",
    "# print(var1*var2)\n",
    "# ValueError: shapes (2,3) and (2,3) not aligned: 3 (dim 1) != 2 (dim 0)\n",
    "\n",
    "# changing data\n",
    "var1=np.matrix([[1,2],[1,2]])\n",
    "var2=np.matrix([[1,2],[1,2]])\n",
    "print(var1*var2) #it is the concept of dot multiplication\n",
    "print()\n",
    "print(var1.dot(var2))"
   ]
  },
  {
   "cell_type": "code",
   "execution_count": 90,
   "id": "09ff61fb",
   "metadata": {},
   "outputs": [
    {
     "name": "stdout",
     "output_type": "stream",
     "text": [
      "[[1 2 3]\n",
      " [4 5 6]]\n",
      "\n",
      "Transpose\n",
      "[[1 4]\n",
      " [2 5]\n",
      " [3 6]]\n",
      "\n",
      "Other way using .T\n",
      "[[1 4]\n",
      " [2 5]\n",
      " [3 6]]\n",
      "\n",
      "Swapaxes\n",
      "[[1 4]\n",
      " [2 5]\n",
      " [3 6]]\n",
      "\n",
      "Doing swapaxes for square matrix\n",
      "[[1 2]\n",
      " [3 4]]\n",
      "\n",
      "[[1 3]\n",
      " [2 4]]\n",
      "\n",
      "Inverse of a Matrix\n",
      "[[1 2]\n",
      " [3 4]]\n",
      "\n",
      "[[-2.   1. ]\n",
      " [ 1.5 -0.5]]\n",
      "\n"
     ]
    }
   ],
   "source": [
    "# Matrix Function in Numpy\n",
    "# Transpose\n",
    "# Swapaxes\n",
    "# Inverse\n",
    "# Determinate\n",
    "import numpy as np\n",
    "\n",
    "var1=np.array([[1,2,3],[4,5,6]])\n",
    "print(var1)\n",
    "print()\n",
    "\n",
    "#Transpose\n",
    "print(\"Transpose\")\n",
    "print(np.transpose(var1))\n",
    "print()\n",
    "print(\"Other way using .T\")\n",
    "print(var1.T)\n",
    "print()\n",
    "\n",
    "#Swapaxes\n",
    "print(\"Swapaxes\")\n",
    "print(np.swapaxes(var1,0,1)) #convert 0 axis with 1 axis\n",
    "print()\n",
    "\n",
    "print(\"Doing swapaxes for square matrix\")\n",
    "#Square Matrix\n",
    "sq=np.matrix([[1,2],[3,4]])\n",
    "print(sq)\n",
    "print()\n",
    "print(np.swapaxes(sq,0,1))\n",
    "print()\n",
    "\n",
    "#Inverse Matrix\n",
    "print(\"Inverse of a Matrix\")\n",
    "var3=np.matrix([[1,2],[3,4]])\n",
    "print(var3)\n",
    "print()\n",
    "print(np.linalg.inv(var3)) #linalg is nothing but linear algebra\n",
    "print()\n",
    "\n"
   ]
  },
  {
   "cell_type": "code",
   "execution_count": 94,
   "id": "f4381402",
   "metadata": {},
   "outputs": [
    {
     "name": "stdout",
     "output_type": "stream",
     "text": [
      "Power of a Matrix\n",
      "[[1 2]\n",
      " [3 4]]\n",
      "\n",
      "[[ 7 10]\n",
      " [15 22]]\n",
      "\n",
      "[[1 0]\n",
      " [0 1]]\n",
      "\n",
      "[[ 5.5  -2.5 ]\n",
      " [-3.75  1.75]]\n",
      "\n"
     ]
    }
   ],
   "source": [
    "#Power of a Matrix\n",
    "print(\"Power of a Matrix\")\n",
    "#Here we will be using dot function which can be used for smll power\n",
    "# if power is more we will be using linalg matrix power\n",
    "# np.linalg.matrix_power(var,n)\n",
    "# n value can be of 3 types\n",
    "# zero , <0 , >0\n",
    "\n",
    "#if n=0 we will be getting Identity matrix\n",
    "#if n>0 power will be applied\n",
    "#if n<0 Inverse x Power will be applied\n",
    "\n",
    "var4 = np.matrix([[1,2],[3,4]])\n",
    "print(var4)\n",
    "print()\n",
    "\n",
    "print(np.linalg.matrix_power(var4,2))\n",
    "print()\n",
    "\n",
    "print(np.linalg.matrix_power(var4,0))\n",
    "print()\n",
    "\n",
    "print(np.linalg.matrix_power(var4,-2))\n",
    "print()"
   ]
  },
  {
   "cell_type": "code",
   "execution_count": 98,
   "id": "958c9865",
   "metadata": {},
   "outputs": [
    {
     "name": "stdout",
     "output_type": "stream",
     "text": [
      "Determinant of a Matrix\n",
      "[[1 2]\n",
      " [3 4]]\n",
      "\n",
      "-2.0000000000000004\n"
     ]
    }
   ],
   "source": [
    "#Determinant of a Matrix\n",
    "print(\"Determinant of a Matrix\")\n",
    "var5 = np.matrix([[1,2],[3,4]])\n",
    "print(var5)\n",
    "print()\n",
    "\n",
    "print(np.linalg.det(var5))"
   ]
  },
  {
   "cell_type": "markdown",
   "id": "834f50be",
   "metadata": {},
   "source": [
    "### SOME EXTRA STUFFS"
   ]
  },
  {
   "cell_type": "code",
   "execution_count": 99,
   "id": "9bf5d400",
   "metadata": {},
   "outputs": [
    {
     "name": "stdout",
     "output_type": "stream",
     "text": [
      "[[5 5 5 5]\n",
      " [5 5 5 5]\n",
      " [5 5 5 5]\n",
      " [5 5 5 5]\n",
      " [5 5 5 5]]\n"
     ]
    }
   ],
   "source": [
    "#array of a particular value\n",
    "z=np.full((5,4),5)\n",
    "print(z)\n"
   ]
  },
  {
   "cell_type": "code",
   "execution_count": 100,
   "id": "7938a7a8",
   "metadata": {},
   "outputs": [
    {
     "name": "stdout",
     "output_type": "stream",
     "text": [
      "[[1. 0. 0.]\n",
      " [0. 1. 0.]\n",
      " [0. 0. 1.]]\n"
     ]
    }
   ],
   "source": [
    " #Create an Identity Matrix\n",
    "a= np.eye(3) #identiy matrix have same num or rows and columns\n",
    "print(a)"
   ]
  },
  {
   "cell_type": "code",
   "execution_count": 101,
   "id": "79746ce7",
   "metadata": {},
   "outputs": [
    {
     "name": "stdout",
     "output_type": "stream",
     "text": [
      "[10 20 30 40 50]\n"
     ]
    }
   ],
   "source": [
    "#Convert a List to numpy array\n",
    "list2 = [10,20,30,40,50]\n",
    "\n",
    "np_array = np.asarray(list2)\n",
    "print(np_array)"
   ]
  }
 ],
 "metadata": {
  "kernelspec": {
   "display_name": "Python 3 (ipykernel)",
   "language": "python",
   "name": "python3"
  },
  "language_info": {
   "codemirror_mode": {
    "name": "ipython",
    "version": 3
   },
   "file_extension": ".py",
   "mimetype": "text/x-python",
   "name": "python",
   "nbconvert_exporter": "python",
   "pygments_lexer": "ipython3",
   "version": "3.11.3"
  }
 },
 "nbformat": 4,
 "nbformat_minor": 5
}
